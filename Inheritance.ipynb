{
  "nbformat": 4,
  "nbformat_minor": 0,
  "metadata": {
    "colab": {
      "provenance": [],
      "authorship_tag": "ABX9TyMjJtfbxBf3eU6S6m63kte3",
      "include_colab_link": true
    },
    "kernelspec": {
      "name": "python3",
      "display_name": "Python 3"
    },
    "language_info": {
      "name": "python"
    }
  },
  "cells": [
    {
      "cell_type": "markdown",
      "metadata": {
        "id": "view-in-github",
        "colab_type": "text"
      },
      "source": [
        "<a href=\"https://colab.research.google.com/github/gunjanak/OOP_Python/blob/main/Inheritance.ipynb\" target=\"_parent\"><img src=\"https://colab.research.google.com/assets/colab-badge.svg\" alt=\"Open In Colab\"/></a>"
      ]
    },
    {
      "cell_type": "markdown",
      "source": [
        "#Basics"
      ],
      "metadata": {
        "id": "FeM8UKcPO21i"
      }
    },
    {
      "cell_type": "code",
      "source": [
        "class A:\n",
        "  def func_A(self):\n",
        "    print(\"This is function of class A\")\n",
        "\n"
      ],
      "metadata": {
        "id": "Z9b7qOpNO17R"
      },
      "execution_count": null,
      "outputs": []
    },
    {
      "cell_type": "code",
      "source": [
        "#Class B inherits class A\n",
        "class B(A):\n",
        "  def func_B(self):\n",
        "    print(\"This is function of class B\")"
      ],
      "metadata": {
        "id": "GevdbMsnPD4X"
      },
      "execution_count": null,
      "outputs": []
    },
    {
      "cell_type": "code",
      "source": [
        "#Class C also inherits class A\n",
        "class C(A):\n",
        "  def func_C(self):\n",
        "    print(\"This is function of class C \")"
      ],
      "metadata": {
        "id": "qL_Ds9lMPXmq"
      },
      "execution_count": null,
      "outputs": []
    },
    {
      "cell_type": "code",
      "source": [
        "a = A()\n",
        "b = B()\n",
        "c = C()"
      ],
      "metadata": {
        "id": "xRDdfkxrPpvc"
      },
      "execution_count": null,
      "outputs": []
    },
    {
      "cell_type": "code",
      "source": [
        "print(a)"
      ],
      "metadata": {
        "colab": {
          "base_uri": "https://localhost:8080/"
        },
        "id": "DoCEDsxrPvOq",
        "outputId": "77d4aaa6-4831-46e8-beb3-928f388a6a47"
      },
      "execution_count": null,
      "outputs": [
        {
          "output_type": "stream",
          "name": "stdout",
          "text": [
            "<__main__.A object at 0x7f7a499f6b50>\n"
          ]
        }
      ]
    },
    {
      "cell_type": "code",
      "source": [
        "print(a.func_A())\n",
        "print(b.func_A())\n",
        "print(c.func_A())"
      ],
      "metadata": {
        "colab": {
          "base_uri": "https://localhost:8080/"
        },
        "id": "tm0oCQEKPxPV",
        "outputId": "50ad3932-0541-4d75-cddb-0be9cdd6dd75"
      },
      "execution_count": null,
      "outputs": [
        {
          "output_type": "stream",
          "name": "stdout",
          "text": [
            "This is function of class A\n",
            "None\n",
            "This is function of class A\n",
            "None\n",
            "This is function of class A\n",
            "None\n"
          ]
        }
      ]
    },
    {
      "cell_type": "code",
      "source": [
        "print(b.func_B())"
      ],
      "metadata": {
        "colab": {
          "base_uri": "https://localhost:8080/"
        },
        "id": "dfJhGXCTQCaC",
        "outputId": "97bb1406-88b5-463b-b13f-5b46d8da4d5f"
      },
      "execution_count": null,
      "outputs": [
        {
          "output_type": "stream",
          "name": "stdout",
          "text": [
            "This is function of class B\n",
            "None\n"
          ]
        }
      ]
    },
    {
      "cell_type": "code",
      "source": [
        "print(a.func_B())"
      ],
      "metadata": {
        "colab": {
          "base_uri": "https://localhost:8080/",
          "height": 165
        },
        "id": "56Vo_MBKP5hk",
        "outputId": "b13af403-24fb-4e81-9d93-aba2fb920bdf"
      },
      "execution_count": null,
      "outputs": [
        {
          "output_type": "error",
          "ename": "AttributeError",
          "evalue": "ignored",
          "traceback": [
            "\u001b[0;31m---------------------------------------------------------------------------\u001b[0m",
            "\u001b[0;31mAttributeError\u001b[0m                            Traceback (most recent call last)",
            "\u001b[0;32m<ipython-input-73-3f83c0db65e1>\u001b[0m in \u001b[0;36m<module>\u001b[0;34m\u001b[0m\n\u001b[0;32m----> 1\u001b[0;31m \u001b[0mprint\u001b[0m\u001b[0;34m(\u001b[0m\u001b[0ma\u001b[0m\u001b[0;34m.\u001b[0m\u001b[0mfunc_B\u001b[0m\u001b[0;34m(\u001b[0m\u001b[0;34m)\u001b[0m\u001b[0;34m)\u001b[0m\u001b[0;34m\u001b[0m\u001b[0;34m\u001b[0m\u001b[0m\n\u001b[0m",
            "\u001b[0;31mAttributeError\u001b[0m: 'A' object has no attribute 'func_B'"
          ]
        }
      ]
    },
    {
      "cell_type": "code",
      "source": [
        "print(c.func_B())"
      ],
      "metadata": {
        "colab": {
          "base_uri": "https://localhost:8080/",
          "height": 165
        },
        "id": "uRSWRkEtQFcP",
        "outputId": "dcf89072-2a3e-4e14-c022-a56f0027ad89"
      },
      "execution_count": null,
      "outputs": [
        {
          "output_type": "error",
          "ename": "AttributeError",
          "evalue": "ignored",
          "traceback": [
            "\u001b[0;31m---------------------------------------------------------------------------\u001b[0m",
            "\u001b[0;31mAttributeError\u001b[0m                            Traceback (most recent call last)",
            "\u001b[0;32m<ipython-input-72-841aaecc7cfb>\u001b[0m in \u001b[0;36m<module>\u001b[0;34m\u001b[0m\n\u001b[0;32m----> 1\u001b[0;31m \u001b[0mprint\u001b[0m\u001b[0;34m(\u001b[0m\u001b[0mc\u001b[0m\u001b[0;34m.\u001b[0m\u001b[0mfunc_B\u001b[0m\u001b[0;34m(\u001b[0m\u001b[0;34m)\u001b[0m\u001b[0;34m)\u001b[0m\u001b[0;34m\u001b[0m\u001b[0;34m\u001b[0m\u001b[0m\n\u001b[0m",
            "\u001b[0;31mAttributeError\u001b[0m: 'C' object has no attribute 'func_B'"
          ]
        }
      ]
    },
    {
      "cell_type": "code",
      "source": [
        "print(c.func_C())"
      ],
      "metadata": {
        "colab": {
          "base_uri": "https://localhost:8080/"
        },
        "id": "IvogOq2MPH13",
        "outputId": "560cf4c7-8c13-4acd-aae0-ee9fdd397e6f"
      },
      "execution_count": null,
      "outputs": [
        {
          "output_type": "stream",
          "name": "stdout",
          "text": [
            "This is function of class C \n",
            "None\n"
          ]
        }
      ]
    },
    {
      "cell_type": "code",
      "source": [
        "print(b.func_C())"
      ],
      "metadata": {
        "colab": {
          "base_uri": "https://localhost:8080/",
          "height": 165
        },
        "id": "HP1zkWLiQV9u",
        "outputId": "97e6778f-8d9f-4bab-df81-f28bbcde834c"
      },
      "execution_count": null,
      "outputs": [
        {
          "output_type": "error",
          "ename": "AttributeError",
          "evalue": "ignored",
          "traceback": [
            "\u001b[0;31m---------------------------------------------------------------------------\u001b[0m",
            "\u001b[0;31mAttributeError\u001b[0m                            Traceback (most recent call last)",
            "\u001b[0;32m<ipython-input-75-72dd467a2879>\u001b[0m in \u001b[0;36m<module>\u001b[0;34m\u001b[0m\n\u001b[0;32m----> 1\u001b[0;31m \u001b[0mprint\u001b[0m\u001b[0;34m(\u001b[0m\u001b[0mb\u001b[0m\u001b[0;34m.\u001b[0m\u001b[0mfunc_C\u001b[0m\u001b[0;34m(\u001b[0m\u001b[0;34m)\u001b[0m\u001b[0;34m)\u001b[0m\u001b[0;34m\u001b[0m\u001b[0;34m\u001b[0m\u001b[0m\n\u001b[0m",
            "\u001b[0;31mAttributeError\u001b[0m: 'B' object has no attribute 'func_C'"
          ]
        }
      ]
    },
    {
      "cell_type": "code",
      "source": [
        "print(a.func_C())"
      ],
      "metadata": {
        "colab": {
          "base_uri": "https://localhost:8080/",
          "height": 165
        },
        "id": "HkqpF_HbQaWo",
        "outputId": "2ad60846-4c22-46f4-d516-0fa61c3e1d29"
      },
      "execution_count": null,
      "outputs": [
        {
          "output_type": "error",
          "ename": "AttributeError",
          "evalue": "ignored",
          "traceback": [
            "\u001b[0;31m---------------------------------------------------------------------------\u001b[0m",
            "\u001b[0;31mAttributeError\u001b[0m                            Traceback (most recent call last)",
            "\u001b[0;32m<ipython-input-76-269d8fb58d97>\u001b[0m in \u001b[0;36m<module>\u001b[0;34m\u001b[0m\n\u001b[0;32m----> 1\u001b[0;31m \u001b[0mprint\u001b[0m\u001b[0;34m(\u001b[0m\u001b[0ma\u001b[0m\u001b[0;34m.\u001b[0m\u001b[0mfunc_C\u001b[0m\u001b[0;34m(\u001b[0m\u001b[0;34m)\u001b[0m\u001b[0;34m)\u001b[0m\u001b[0;34m\u001b[0m\u001b[0;34m\u001b[0m\u001b[0m\n\u001b[0m",
            "\u001b[0;31mAttributeError\u001b[0m: 'A' object has no attribute 'func_C'"
          ]
        }
      ]
    },
    {
      "cell_type": "code",
      "source": [
        "#let us have another class D which is a sub class of B\n",
        "class D(B):\n",
        "  def func_D(self):\n",
        "    print(\"This is function of class D\")"
      ],
      "metadata": {
        "id": "g_3ZIJGpQelc"
      },
      "execution_count": null,
      "outputs": []
    },
    {
      "cell_type": "code",
      "source": [
        "d = D()"
      ],
      "metadata": {
        "id": "LqEsLurAQ0j0"
      },
      "execution_count": null,
      "outputs": []
    },
    {
      "cell_type": "code",
      "source": [
        "print(d.func_D())\n",
        "print(d.func_A())\n",
        "print(d.func_B())"
      ],
      "metadata": {
        "colab": {
          "base_uri": "https://localhost:8080/"
        },
        "id": "oBCl3uN4Q2Xw",
        "outputId": "16373b2d-5568-40a6-b01e-2d8a38eadc90"
      },
      "execution_count": null,
      "outputs": [
        {
          "output_type": "stream",
          "name": "stdout",
          "text": [
            "This is function of class D\n",
            "None\n",
            "This is function of class A\n",
            "None\n",
            "This is function of class B\n",
            "None\n"
          ]
        }
      ]
    },
    {
      "cell_type": "code",
      "source": [
        "print(b.func_D())"
      ],
      "metadata": {
        "colab": {
          "base_uri": "https://localhost:8080/",
          "height": 165
        },
        "id": "9gdZNhnDRAUS",
        "outputId": "bd3f6b8e-81fc-4022-c6e8-8f10cc89fc4b"
      },
      "execution_count": null,
      "outputs": [
        {
          "output_type": "error",
          "ename": "AttributeError",
          "evalue": "ignored",
          "traceback": [
            "\u001b[0;31m---------------------------------------------------------------------------\u001b[0m",
            "\u001b[0;31mAttributeError\u001b[0m                            Traceback (most recent call last)",
            "\u001b[0;32m<ipython-input-84-e2561b3a623f>\u001b[0m in \u001b[0;36m<module>\u001b[0;34m\u001b[0m\n\u001b[0;32m----> 1\u001b[0;31m \u001b[0mprint\u001b[0m\u001b[0;34m(\u001b[0m\u001b[0mb\u001b[0m\u001b[0;34m.\u001b[0m\u001b[0mfunc_D\u001b[0m\u001b[0;34m(\u001b[0m\u001b[0;34m)\u001b[0m\u001b[0;34m)\u001b[0m\u001b[0;34m\u001b[0m\u001b[0;34m\u001b[0m\u001b[0m\n\u001b[0m",
            "\u001b[0;31mAttributeError\u001b[0m: 'B' object has no attribute 'func_D'"
          ]
        }
      ]
    },
    {
      "cell_type": "markdown",
      "source": [
        "##Adding another layer of complication"
      ],
      "metadata": {
        "id": "YGr6VuU8YSp5"
      }
    },
    {
      "cell_type": "code",
      "source": [
        "class A:\n",
        "  def general_function(self):\n",
        "    print(\"This is general function in class A\")\n",
        "  def func_A(self):\n",
        "    print(\"This is the main function of class A\")"
      ],
      "metadata": {
        "id": "0DIWjMIQYQ4s"
      },
      "execution_count": null,
      "outputs": []
    },
    {
      "cell_type": "code",
      "source": [
        "class B(A):\n",
        "  def func_B(self):\n",
        "    print(\"This is the main function of class A\")"
      ],
      "metadata": {
        "id": "zICC6NYUYqTS"
      },
      "execution_count": null,
      "outputs": []
    },
    {
      "cell_type": "code",
      "source": [
        "a = A()\n",
        "b = B()"
      ],
      "metadata": {
        "id": "65eeEdRVZSXn"
      },
      "execution_count": null,
      "outputs": []
    },
    {
      "cell_type": "code",
      "source": [
        "b.general_function()"
      ],
      "metadata": {
        "colab": {
          "base_uri": "https://localhost:8080/"
        },
        "id": "nC6zvxu9ZVjD",
        "outputId": "ae845ad9-9143-41d7-9f55-8a26236c51ee"
      },
      "execution_count": null,
      "outputs": [
        {
          "output_type": "stream",
          "name": "stdout",
          "text": [
            "This is general function in class A\n"
          ]
        }
      ]
    },
    {
      "cell_type": "code",
      "source": [
        "b.func_B()"
      ],
      "metadata": {
        "colab": {
          "base_uri": "https://localhost:8080/"
        },
        "id": "AC-LU9jZZa4P",
        "outputId": "795022a6-4266-4765-f9d5-079a80b16787"
      },
      "execution_count": null,
      "outputs": [
        {
          "output_type": "stream",
          "name": "stdout",
          "text": [
            "This is the main function of class A\n"
          ]
        }
      ]
    },
    {
      "cell_type": "code",
      "source": [
        "#Let us redefine B with general function \n",
        "class B:\n",
        "  def general_function(self):\n",
        "    print(\"This is general function in class B\")\n",
        "  def func_B(self):\n",
        "    print(\"This is the main function of class B\")"
      ],
      "metadata": {
        "id": "YP4-7qBKZh2B"
      },
      "execution_count": null,
      "outputs": []
    },
    {
      "cell_type": "code",
      "source": [
        "b= B()"
      ],
      "metadata": {
        "id": "JSPNljJ_Zvaf"
      },
      "execution_count": null,
      "outputs": []
    },
    {
      "cell_type": "code",
      "source": [
        "#Method overriding is an ability of any object-oriented programming language that allows a subclass \n",
        "#or child class to provide a specific implementation of a method that is already provided by one of its super-classes \n",
        "#or parent classes. When a method in a subclass has the same name, same parameters or signature \n",
        "#and same return type(or sub-type) as a method in its super-class,\n",
        "#then the method in the subclass is said to override the method in the super-class."
      ],
      "metadata": {
        "id": "ZHbV-7YIaG0Y"
      },
      "execution_count": null,
      "outputs": []
    },
    {
      "cell_type": "code",
      "source": [
        "b.general_function()"
      ],
      "metadata": {
        "colab": {
          "base_uri": "https://localhost:8080/"
        },
        "id": "4eFnQpwzZwvY",
        "outputId": "69d30dcc-2f61-4bc9-c8be-3a98b0937615"
      },
      "execution_count": null,
      "outputs": [
        {
          "output_type": "stream",
          "name": "stdout",
          "text": [
            "This is general function in class B\n"
          ]
        }
      ]
    },
    {
      "cell_type": "code",
      "source": [],
      "metadata": {
        "id": "WqwlIHOXZylt"
      },
      "execution_count": null,
      "outputs": []
    },
    {
      "cell_type": "markdown",
      "source": [
        "#Example"
      ],
      "metadata": {
        "id": "YTOw2eQSO5Df"
      }
    },
    {
      "cell_type": "code",
      "execution_count": null,
      "metadata": {
        "id": "Pj1YQhsf0j4E"
      },
      "outputs": [],
      "source": [
        "class Person:\n",
        "  domain = 'Knight'\n",
        "\n",
        "  def __init__(self,first,last):\n",
        "    self.first = first\n",
        "    self.last = last\n",
        "    \n",
        "\n",
        "  def email(self):\n",
        "    self.email = self.last + '@'+ self.domain+'.com'\n",
        "    print(self.email)"
      ]
    },
    {
      "cell_type": "code",
      "source": [
        "person1 = Person(\"Ramesh\",\"Chaudhary\")"
      ],
      "metadata": {
        "id": "anMd10Rjl5dt",
        "outputId": "ab7d0af0-3584-4ba5-df00-3b7064abd319",
        "colab": {
          "base_uri": "https://localhost:8080/"
        }
      },
      "execution_count": null,
      "outputs": [
        {
          "output_type": "error",
          "ename": "NameError",
          "evalue": "ignored",
          "traceback": [
            "\u001b[0;31m---------------------------------------------------------------------------\u001b[0m",
            "\u001b[0;31mNameError\u001b[0m                                 Traceback (most recent call last)",
            "\u001b[0;32m<ipython-input-1-8ceaa88945c9>\u001b[0m in \u001b[0;36m<module>\u001b[0;34m\u001b[0m\n\u001b[0;32m----> 1\u001b[0;31m \u001b[0mperson1\u001b[0m \u001b[0;34m=\u001b[0m \u001b[0mPerson\u001b[0m\u001b[0;34m(\u001b[0m\u001b[0;34m\"Ramesh\"\u001b[0m\u001b[0;34m,\u001b[0m\u001b[0;34m\"Chaudhary\"\u001b[0m\u001b[0;34m)\u001b[0m\u001b[0;34m\u001b[0m\u001b[0;34m\u001b[0m\u001b[0m\n\u001b[0m",
            "\u001b[0;31mNameError\u001b[0m: name 'Person' is not defined"
          ]
        }
      ]
    },
    {
      "cell_type": "code",
      "source": [
        "person1.email()"
      ],
      "metadata": {
        "colab": {
          "base_uri": "https://localhost:8080/"
        },
        "id": "i8glXbnFl-Hu",
        "outputId": "5361a245-782f-4c4a-a1c2-155d4d65b1ee"
      },
      "execution_count": null,
      "outputs": [
        {
          "output_type": "stream",
          "name": "stdout",
          "text": [
            "Chaudhary@Knight.com\n"
          ]
        }
      ]
    },
    {
      "cell_type": "code",
      "source": [
        "#Student class inherits from Person\n",
        "#It have all attributes and methods of Person class\n",
        "class Students(Person):\n",
        "  pass"
      ],
      "metadata": {
        "id": "wIIc9z2DmB1P"
      },
      "execution_count": null,
      "outputs": []
    },
    {
      "cell_type": "code",
      "source": [
        "student1 = Students(\"Ashish\",\"Karki\")"
      ],
      "metadata": {
        "id": "NeLqLfY6maRq"
      },
      "execution_count": null,
      "outputs": []
    },
    {
      "cell_type": "code",
      "source": [
        "student1.email()"
      ],
      "metadata": {
        "colab": {
          "base_uri": "https://localhost:8080/"
        },
        "id": "gYPETaQqmmWe",
        "outputId": "09e55bc8-2a2e-4693-aba7-da379befd7f7"
      },
      "execution_count": null,
      "outputs": [
        {
          "output_type": "stream",
          "name": "stdout",
          "text": [
            "Karki@Knight.com\n"
          ]
        }
      ]
    },
    {
      "cell_type": "code",
      "source": [
        "#We redefine the Students class again\n",
        "#This time we change the value of domain from 'Knight' to 'rook'\n",
        "class Students(Person):\n",
        "  domain = 'rook'\n"
      ],
      "metadata": {
        "id": "ryc3PoZ4mpBH"
      },
      "execution_count": null,
      "outputs": []
    },
    {
      "cell_type": "code",
      "source": [
        "student1 = Students(\"Ashish\",\"Karki\")"
      ],
      "metadata": {
        "id": "q5za6jbznG1T"
      },
      "execution_count": null,
      "outputs": []
    },
    {
      "cell_type": "code",
      "source": [
        "student1.email()"
      ],
      "metadata": {
        "colab": {
          "base_uri": "https://localhost:8080/"
        },
        "id": "03M_9tD1nJLb",
        "outputId": "f64a6ef2-047a-469c-baac-3350594dc394"
      },
      "execution_count": null,
      "outputs": [
        {
          "output_type": "stream",
          "name": "stdout",
          "text": [
            "Karki@rook.com\n"
          ]
        }
      ]
    },
    {
      "cell_type": "code",
      "source": [
        "person1 = Person(\"Ramesh\",\"Chaudhary\")\n",
        "person1.email()"
      ],
      "metadata": {
        "colab": {
          "base_uri": "https://localhost:8080/"
        },
        "id": "QVz81l8pnLwG",
        "outputId": "a61e98b3-ae14-441d-cb21-50fc9fed92ff"
      },
      "execution_count": null,
      "outputs": [
        {
          "output_type": "stream",
          "name": "stdout",
          "text": [
            "Chaudhary@Knight.com\n"
          ]
        }
      ]
    },
    {
      "cell_type": "code",
      "source": [
        "#We again redifine the Students class this time with adding init\n",
        "#Let us say we want to add attribute 'stream' to the student\n",
        "class Students(Person):\n",
        "  domain = 'rook'\n",
        "\n",
        "  def __init__(self,first,last,stream):\n",
        "    #As first and last are the attributes common for Students and Person \n",
        "    #We let the base class or parent class to handle it\n",
        "    #Here we are overriding __init__ method \n",
        "    #We modify the __init__ method so that the new parameter can be part of instance attribute\n",
        "    \n",
        "    super().__init__(first,last)\n",
        "    #For stream which is additional attribute for Students class\n",
        "    self.stream = stream\n",
        "\n"
      ],
      "metadata": {
        "id": "xgPkQGFuoC2t"
      },
      "execution_count": null,
      "outputs": []
    },
    {
      "cell_type": "code",
      "source": [
        "student2 = Students('Aditya','Neupane','Mechanical')"
      ],
      "metadata": {
        "id": "cFkpRWnDp69n"
      },
      "execution_count": null,
      "outputs": []
    },
    {
      "cell_type": "code",
      "source": [
        "print(student2.first)\n",
        "print(student2.last)\n",
        "print(student2.stream)\n",
        "print(student2.email())"
      ],
      "metadata": {
        "colab": {
          "base_uri": "https://localhost:8080/"
        },
        "id": "TMDOQLJQqCtL",
        "outputId": "d8df5cb1-66ad-4f2c-8e47-96614d63b4cc"
      },
      "execution_count": null,
      "outputs": [
        {
          "output_type": "stream",
          "name": "stdout",
          "text": [
            "Aditya\n",
            "Neupane\n",
            "Mechanical\n",
            "Neupane@rook.com\n",
            "None\n"
          ]
        }
      ]
    },
    {
      "cell_type": "code",
      "source": [
        "#Let us have another class called Professor\n",
        "#we will change the domain of this class to 'bishop'\n",
        "#Apart from first and last as its attribute\n",
        "#This class will have another attribute named 'subjects'\n",
        "#it will be list of subjects taught by the Professor"
      ],
      "metadata": {
        "id": "IKijqYrSqSQH"
      },
      "execution_count": null,
      "outputs": []
    },
    {
      "cell_type": "code",
      "source": [
        "class Professor(Person):\n",
        "  domain = 'Bishop'\n",
        "\n",
        "  def __init__(self,first,last,subjects=None):\n",
        "    super().__init__(first,last)\n",
        "    if subjects is None:\n",
        "      self.subjects = []\n",
        "    else:\n",
        "      self.subjects = subjects\n",
        "\n",
        "      "
      ],
      "metadata": {
        "id": "0yHFA4ChsEDx"
      },
      "execution_count": null,
      "outputs": []
    },
    {
      "cell_type": "code",
      "source": [
        "professor1 = Professor(\"Mahesh\",\"Rana\")\n"
      ],
      "metadata": {
        "id": "OhzSK8YS5swi"
      },
      "execution_count": null,
      "outputs": []
    },
    {
      "cell_type": "code",
      "source": [
        "professor2 = Professor(\"Amit\",\"Shah\",['Fluid Mechanics','Thermodynamics','Engg Drawing'])"
      ],
      "metadata": {
        "id": "81bAVlOt5zMl"
      },
      "execution_count": null,
      "outputs": []
    },
    {
      "cell_type": "code",
      "source": [
        "print(professor1.first)\n",
        "print(professor1.last)\n",
        "print(professor1.email())\n",
        "print(professor1.subjects)\n",
        "\n",
        "print(professor2.first)\n",
        "print(professor2.last)\n",
        "print(professor2.email())\n",
        "print(professor2.subjects)"
      ],
      "metadata": {
        "colab": {
          "base_uri": "https://localhost:8080/"
        },
        "id": "RrFF217l6C1d",
        "outputId": "5b7689a1-0987-4401-944b-20ae6a20b7b8"
      },
      "execution_count": null,
      "outputs": [
        {
          "output_type": "stream",
          "name": "stdout",
          "text": [
            "Mahesh\n",
            "Rana\n",
            "Rana@Bishop.com\n",
            "None\n",
            "[]\n",
            "Amit\n",
            "Shah\n",
            "Shah@Bishop.com\n",
            "None\n",
            "['Fluid Mechanics', 'Thermodynamics', 'Engg Drawing']\n"
          ]
        }
      ]
    },
    {
      "cell_type": "code",
      "source": [
        "#Our Professor might want to add students as their teaching assistant \n",
        "#We need to create a function where Professors can add students as TA\n",
        "class Professor(Person):\n",
        "  domain = 'Bishop'\n",
        "\n",
        "  def __init__(self,first,last,subjects=None):\n",
        "    super().__init__(first,last)\n",
        "    if subjects is None:\n",
        "      self.subjects = []\n",
        "    else:\n",
        "      self.subjects = subjects\n",
        "    self.TA = []\n",
        "\n",
        "      \n",
        "  def Add_TA(self,ta):\n",
        "    if ta not in self.TA:\n",
        "      self.TA.append(ta)\n",
        "\n",
        "  def Remove_TA(self,ta):\n",
        "    if ta in self.TA:\n",
        "      self.TA.remove(ta)\n",
        "\n",
        "  def View_TA(self):\n",
        "    for student in self.TA:\n",
        "      print(student.first+\" \"+student.last)\n",
        "\n",
        "  "
      ],
      "metadata": {
        "id": "4b8hc3J16bBu"
      },
      "execution_count": null,
      "outputs": []
    },
    {
      "cell_type": "code",
      "source": [
        "professor2 = Professor(\"Amit\",\"Shah\",['Fluid Mechanics','Thermodynamics','Engg Drawing'])"
      ],
      "metadata": {
        "id": "DXb6PP789Ky1"
      },
      "execution_count": null,
      "outputs": []
    },
    {
      "cell_type": "code",
      "source": [
        "student2 = Students('Aditya','Neupane','Mechanical')\n",
        "student3 = Students('Sumit','Yadav','Mechanical')\n",
        "student4 = Students('Sanjeev','Poudel','Mechanical')"
      ],
      "metadata": {
        "id": "edQdJwPh9P3W"
      },
      "execution_count": null,
      "outputs": []
    },
    {
      "cell_type": "code",
      "source": [
        "professor2.Add_TA(student2)\n",
        "professor2.Add_TA(student3)\n",
        "professor2.Add_TA(student4)"
      ],
      "metadata": {
        "id": "u2nscG9P9f8I"
      },
      "execution_count": null,
      "outputs": []
    },
    {
      "cell_type": "code",
      "source": [
        "professor2.TA"
      ],
      "metadata": {
        "colab": {
          "base_uri": "https://localhost:8080/"
        },
        "id": "NGb2JzL39teh",
        "outputId": "7862ded7-f287-4991-a3ce-5fd1af0cfa27"
      },
      "execution_count": null,
      "outputs": [
        {
          "output_type": "execute_result",
          "data": {
            "text/plain": [
              "[<__main__.Students at 0x7f7a53145af0>,\n",
              " <__main__.Students at 0x7f7a531451f0>,\n",
              " <__main__.Students at 0x7f7a531454c0>]"
            ]
          },
          "metadata": {},
          "execution_count": 44
        }
      ]
    },
    {
      "cell_type": "code",
      "source": [
        "professor2.View_TA()"
      ],
      "metadata": {
        "colab": {
          "base_uri": "https://localhost:8080/"
        },
        "id": "2YJc2OjD9wae",
        "outputId": "5ec57c97-48f4-44a2-ba94-006b1a6470a7"
      },
      "execution_count": null,
      "outputs": [
        {
          "output_type": "stream",
          "name": "stdout",
          "text": [
            "Aditya Neupane\n",
            "Sumit Yadav\n",
            "Sanjeev Poudel\n"
          ]
        }
      ]
    },
    {
      "cell_type": "code",
      "source": [
        "professor2.Remove_TA(student3)"
      ],
      "metadata": {
        "id": "qUrchQTJ-xoI"
      },
      "execution_count": null,
      "outputs": []
    },
    {
      "cell_type": "code",
      "source": [
        "professor2.View_TA()"
      ],
      "metadata": {
        "colab": {
          "base_uri": "https://localhost:8080/"
        },
        "id": "rCAGRx0D-1f2",
        "outputId": "41550664-cf59-4078-d9d7-ed17013056fb"
      },
      "execution_count": null,
      "outputs": [
        {
          "output_type": "stream",
          "name": "stdout",
          "text": [
            "Aditya Neupane\n",
            "Sanjeev Poudel\n"
          ]
        }
      ]
    },
    {
      "cell_type": "markdown",
      "source": [
        "#Multilevel Inheritance"
      ],
      "metadata": {
        "id": "bLZ7Ev5ULgtd"
      }
    },
    {
      "cell_type": "code",
      "source": [
        "#suppose our undergrad students can be part of several clubs such as : Music, Poetry, Drama, chess\n",
        "#and our postgrad students can be part of steveral research labs, such as: 'Thermodynamics', 'aerodynamics', 'Robotics'\n",
        "#We will define two classes one for each undergrad and postgard so that our students can join choice of thier clubs and research labs"
      ],
      "metadata": {
        "id": "HCiEAVVILgR6"
      },
      "execution_count": null,
      "outputs": []
    },
    {
      "cell_type": "code",
      "source": [
        "class Undergrad(Students):\n",
        "  clubs = ['Music','Poetry','Drama','Chess']\n",
        "\n",
        "  def join_club(self,club):\n",
        "    if club in self.clubs:\n",
        "      self.club = club"
      ],
      "metadata": {
        "id": "bMu9JMe7M14x"
      },
      "execution_count": null,
      "outputs": []
    },
    {
      "cell_type": "code",
      "source": [
        "class Postgrad(Students):\n",
        "  research_labs = ['Theromodynamics','Aerodynamics','Robotics']\n",
        "\n",
        "  def join_lab(self,lab):\n",
        "    if lab in self.research_labs:\n",
        "      self.lab = lab"
      ],
      "metadata": {
        "id": "hoLP7JPnNTu9"
      },
      "execution_count": null,
      "outputs": []
    },
    {
      "cell_type": "code",
      "source": [
        "stu_undergrad = Undergrad(\"Anil\",\"Kamat\",\"Mechanical\")\n",
        "stu_postgrad = Postgrad(\"Anil\",\"Sapkota\",\"Electrical\")"
      ],
      "metadata": {
        "id": "IN5V7VrgNrAN"
      },
      "execution_count": null,
      "outputs": []
    },
    {
      "cell_type": "code",
      "source": [
        "print(stu_undergrad.first)\n",
        "print(stu_undergrad.last)\n",
        "print(stu_undergrad.email())"
      ],
      "metadata": {
        "colab": {
          "base_uri": "https://localhost:8080/"
        },
        "id": "Mb_zSHVuN_Wa",
        "outputId": "e932dea5-1a6f-4c15-eee2-648eb847868f"
      },
      "execution_count": null,
      "outputs": [
        {
          "output_type": "stream",
          "name": "stdout",
          "text": [
            "Anil\n",
            "Kamat\n",
            "Kamat@rook.com\n",
            "None\n"
          ]
        }
      ]
    },
    {
      "cell_type": "code",
      "source": [
        "print(stu_postgrad.first)\n",
        "print(stu_postgrad.last)\n",
        "print(stu_postgrad.email())"
      ],
      "metadata": {
        "colab": {
          "base_uri": "https://localhost:8080/"
        },
        "id": "A9VC1Ym6OJYP",
        "outputId": "1f8d053c-b1f2-4628-b61c-c947256de7f5"
      },
      "execution_count": null,
      "outputs": [
        {
          "output_type": "stream",
          "name": "stdout",
          "text": [
            "Anil\n",
            "Sapkota\n",
            "Sapkota@rook.com\n",
            "None\n"
          ]
        }
      ]
    },
    {
      "cell_type": "code",
      "source": [
        "stu_undergrad.join_club('Music')"
      ],
      "metadata": {
        "id": "6MKhwtDcMlzk"
      },
      "execution_count": null,
      "outputs": []
    },
    {
      "cell_type": "code",
      "source": [
        "stu_undergrad.club"
      ],
      "metadata": {
        "colab": {
          "base_uri": "https://localhost:8080/",
          "height": 35
        },
        "id": "bUhxlhC4OZnW",
        "outputId": "7edfc39b-c58d-4500-b735-bf050bd6a258"
      },
      "execution_count": null,
      "outputs": [
        {
          "output_type": "execute_result",
          "data": {
            "text/plain": [
              "'Music'"
            ],
            "application/vnd.google.colaboratory.intrinsic+json": {
              "type": "string"
            }
          },
          "metadata": {},
          "execution_count": 57
        }
      ]
    },
    {
      "cell_type": "code",
      "source": [
        "stu_postgrad.join_lab('Robotics')"
      ],
      "metadata": {
        "id": "Rzo14_47OcKo"
      },
      "execution_count": null,
      "outputs": []
    },
    {
      "cell_type": "code",
      "source": [
        "stu_postgrad.lab"
      ],
      "metadata": {
        "colab": {
          "base_uri": "https://localhost:8080/",
          "height": 35
        },
        "id": "YRddVhpDOiqx",
        "outputId": "66143fa6-9772-4e91-c111-0fe6b2b4c877"
      },
      "execution_count": null,
      "outputs": [
        {
          "output_type": "execute_result",
          "data": {
            "text/plain": [
              "'Robotics'"
            ],
            "application/vnd.google.colaboratory.intrinsic+json": {
              "type": "string"
            }
          },
          "metadata": {},
          "execution_count": 59
        }
      ]
    },
    {
      "cell_type": "code",
      "source": [
        "student1 = Students(\"Rima\",\"Panthi\",\"Electrical\")"
      ],
      "metadata": {
        "id": "W0o67UkZOlOO"
      },
      "execution_count": null,
      "outputs": []
    },
    {
      "cell_type": "code",
      "source": [
        "student1.join_lab(\"Robotics\")"
      ],
      "metadata": {
        "colab": {
          "base_uri": "https://localhost:8080/",
          "height": 165
        },
        "id": "zde3KA82Ouxa",
        "outputId": "7d5b6799-e118-4afa-e234-ede1bae02ae6"
      },
      "execution_count": null,
      "outputs": [
        {
          "output_type": "error",
          "ename": "AttributeError",
          "evalue": "ignored",
          "traceback": [
            "\u001b[0;31m---------------------------------------------------------------------------\u001b[0m",
            "\u001b[0;31mAttributeError\u001b[0m                            Traceback (most recent call last)",
            "\u001b[0;32m<ipython-input-61-d1bd4eda9e0e>\u001b[0m in \u001b[0;36m<module>\u001b[0;34m\u001b[0m\n\u001b[0;32m----> 1\u001b[0;31m \u001b[0mstudent1\u001b[0m\u001b[0;34m.\u001b[0m\u001b[0mjoin_lab\u001b[0m\u001b[0;34m(\u001b[0m\u001b[0;34m\"Robotics\"\u001b[0m\u001b[0;34m)\u001b[0m\u001b[0;34m\u001b[0m\u001b[0;34m\u001b[0m\u001b[0m\n\u001b[0m",
            "\u001b[0;31mAttributeError\u001b[0m: 'Students' object has no attribute 'join_lab'"
          ]
        }
      ]
    },
    {
      "cell_type": "code",
      "source": [
        "#Looking back at our classes\n",
        "#Class Person\n",
        "#class Students with Person as parent class\n",
        "#class Professor which is also sub class of Person\n",
        "#Then we have Postgrad and Undergrad \n",
        "#these are child of Students and grandchild of Person"
      ],
      "metadata": {
        "id": "BPhx1SiLOyP1"
      },
      "execution_count": null,
      "outputs": []
    },
    {
      "cell_type": "code",
      "source": [],
      "metadata": {
        "id": "pYmcP-XsX0bx"
      },
      "execution_count": null,
      "outputs": []
    }
  ]
}