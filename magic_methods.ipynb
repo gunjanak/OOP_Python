{
  "nbformat": 4,
  "nbformat_minor": 0,
  "metadata": {
    "colab": {
      "provenance": [],
      "authorship_tag": "ABX9TyMhhOtF5ggRsk27ozQy1o9e",
      "include_colab_link": true
    },
    "kernelspec": {
      "name": "python3",
      "display_name": "Python 3"
    },
    "language_info": {
      "name": "python"
    }
  },
  "cells": [
    {
      "cell_type": "markdown",
      "metadata": {
        "id": "view-in-github",
        "colab_type": "text"
      },
      "source": [
        "<a href=\"https://colab.research.google.com/github/gunjanak/OOP_Python/blob/main/magic_methods.ipynb\" target=\"_parent\"><img src=\"https://colab.research.google.com/assets/colab-badge.svg\" alt=\"Open In Colab\"/></a>"
      ]
    },
    {
      "cell_type": "markdown",
      "source": [
        "Magic methods in Python are the special methods that start and end with the double underscores. They are also called dunder methods. Magic methods are not meant to be invoked directly by you, but the invocation happens internally from the class on a certain action"
      ],
      "metadata": {
        "id": "KHhNEIaFgKJ-"
      }
    },
    {
      "cell_type": "markdown",
      "source": [
        "#\\_\\_str\\_\\_"
      ],
      "metadata": {
        "id": "BbXpsAeUgrCu"
      }
    },
    {
      "cell_type": "code",
      "execution_count": 6,
      "metadata": {
        "id": "eYqTgJgluByC"
      },
      "outputs": [],
      "source": [
        "class Person:\n",
        "  domain = \"knight.com\"\n",
        "\n",
        "  def __init__(self,first,last):\n",
        "    self.first =  first\n",
        "    self.last = last\n",
        "\n",
        "  #def __str__(self):\n",
        "\n",
        "\n",
        "\n",
        "  def email(self):\n",
        "    self.email = self.first+\"_\"+self.last+\"@\"+self.domain\n",
        "    print(self.email)"
      ]
    },
    {
      "cell_type": "code",
      "source": [
        "per_1 = Person(\"Mickey\",\"Mouse\")"
      ],
      "metadata": {
        "id": "iVicYtDfgvQx"
      },
      "execution_count": 7,
      "outputs": []
    },
    {
      "cell_type": "code",
      "source": [
        "str(per_1)"
      ],
      "metadata": {
        "colab": {
          "base_uri": "https://localhost:8080/",
          "height": 35
        },
        "id": "dnNkXSCcg5Xw",
        "outputId": "47d678f9-cdc2-46ce-d85d-721179b3b834"
      },
      "execution_count": 8,
      "outputs": [
        {
          "output_type": "execute_result",
          "data": {
            "text/plain": [
              "'<__main__.Person object at 0x7f509506d340>'"
            ],
            "application/vnd.google.colaboratory.intrinsic+json": {
              "type": "string"
            }
          },
          "metadata": {},
          "execution_count": 8
        }
      ]
    },
    {
      "cell_type": "code",
      "source": [
        "per_1.email()"
      ],
      "metadata": {
        "colab": {
          "base_uri": "https://localhost:8080/"
        },
        "id": "l_kCVfsLg7WJ",
        "outputId": "5cac294c-cc70-4675-a482-b8f96d1ff562"
      },
      "execution_count": 9,
      "outputs": [
        {
          "output_type": "stream",
          "name": "stdout",
          "text": [
            "Mickey_Mouse@knight.com\n"
          ]
        }
      ]
    },
    {
      "cell_type": "code",
      "source": [
        "class Person:\n",
        "  domain = \"knight.com\"\n",
        "\n",
        "  def __init__(self,first,last):\n",
        "    self.first =  first\n",
        "    self.last = last\n",
        "\n",
        "  def __str__(self):\n",
        "    return self.first+\" \"+self.last\n",
        "\n",
        "\n",
        "\n",
        "  def email(self):\n",
        "    self.email = self.first+\"_\"+self.last+\"@\"+self.domain\n",
        "    print(self.email)"
      ],
      "metadata": {
        "id": "EYI_UcHtt1OK"
      },
      "execution_count": 10,
      "outputs": []
    },
    {
      "cell_type": "code",
      "source": [
        "per_2 = Person(\"Donald\",\"Duck\")"
      ],
      "metadata": {
        "id": "fEpVFdJTuD42"
      },
      "execution_count": 11,
      "outputs": []
    },
    {
      "cell_type": "code",
      "source": [
        "str(per_2)"
      ],
      "metadata": {
        "colab": {
          "base_uri": "https://localhost:8080/",
          "height": 35
        },
        "id": "18px8lRYuHbX",
        "outputId": "0974dd06-3982-4afd-91c3-a3938c2f1d8e"
      },
      "execution_count": 12,
      "outputs": [
        {
          "output_type": "execute_result",
          "data": {
            "text/plain": [
              "'Donald Duck'"
            ],
            "application/vnd.google.colaboratory.intrinsic+json": {
              "type": "string"
            }
          },
          "metadata": {},
          "execution_count": 12
        }
      ]
    },
    {
      "cell_type": "markdown",
      "source": [
        "#\\_\\_add\\_\\_"
      ],
      "metadata": {
        "id": "Mjd9FxohuZTy"
      }
    },
    {
      "cell_type": "code",
      "source": [
        "class cen_to_kelvin:\n",
        "\n",
        "  def __init__(self,centigrade):\n",
        "    self.centigrade = centigrade\n",
        "    self.kelvin = self.centigrade+273.15\n",
        "\n"
      ],
      "metadata": {
        "id": "fo_F4Hl1uKJy"
      },
      "execution_count": 16,
      "outputs": []
    },
    {
      "cell_type": "code",
      "source": [
        "temp_1  = cen_to_kelvin(12)"
      ],
      "metadata": {
        "id": "jn1JqDB5u6oO"
      },
      "execution_count": 17,
      "outputs": []
    },
    {
      "cell_type": "code",
      "source": [
        "temp_1.centigrade"
      ],
      "metadata": {
        "colab": {
          "base_uri": "https://localhost:8080/"
        },
        "id": "XF9Tc5UQvQYW",
        "outputId": "59571a1f-c880-40fc-8f81-81ec3dcf228a"
      },
      "execution_count": 18,
      "outputs": [
        {
          "output_type": "execute_result",
          "data": {
            "text/plain": [
              "12"
            ]
          },
          "metadata": {},
          "execution_count": 18
        }
      ]
    },
    {
      "cell_type": "code",
      "source": [
        "temp_1.kelvin"
      ],
      "metadata": {
        "colab": {
          "base_uri": "https://localhost:8080/"
        },
        "id": "GhDygB8-vV28",
        "outputId": "7d45254f-f9ae-4bc1-f7f6-cd8a10e40cd9"
      },
      "execution_count": 19,
      "outputs": [
        {
          "output_type": "execute_result",
          "data": {
            "text/plain": [
              "285.15"
            ]
          },
          "metadata": {},
          "execution_count": 19
        }
      ]
    },
    {
      "cell_type": "code",
      "source": [
        "temp_2 = cen_to_kelvin(-5)"
      ],
      "metadata": {
        "id": "sMBKMNRCvXqi"
      },
      "execution_count": 20,
      "outputs": []
    },
    {
      "cell_type": "code",
      "source": [
        "temp_2.centigrade"
      ],
      "metadata": {
        "colab": {
          "base_uri": "https://localhost:8080/"
        },
        "id": "Nd6PKFODvdmK",
        "outputId": "696e39ac-7af9-44b2-eaa3-71de896f607a"
      },
      "execution_count": 21,
      "outputs": [
        {
          "output_type": "execute_result",
          "data": {
            "text/plain": [
              "-5"
            ]
          },
          "metadata": {},
          "execution_count": 21
        }
      ]
    },
    {
      "cell_type": "code",
      "source": [
        "temp_2.kelvin"
      ],
      "metadata": {
        "colab": {
          "base_uri": "https://localhost:8080/"
        },
        "id": "OPotxzHjvfq4",
        "outputId": "738a61d1-dfb4-41c2-8a84-6f52a03066b2"
      },
      "execution_count": 22,
      "outputs": [
        {
          "output_type": "execute_result",
          "data": {
            "text/plain": [
              "268.15"
            ]
          },
          "metadata": {},
          "execution_count": 22
        }
      ]
    },
    {
      "cell_type": "code",
      "source": [
        "temp_1+temp_2"
      ],
      "metadata": {
        "colab": {
          "base_uri": "https://localhost:8080/",
          "height": 165
        },
        "id": "BC4H6sWbviTG",
        "outputId": "a365c411-5190-41f1-d471-41a8a6ec2673"
      },
      "execution_count": 23,
      "outputs": [
        {
          "output_type": "error",
          "ename": "TypeError",
          "evalue": "ignored",
          "traceback": [
            "\u001b[0;31m---------------------------------------------------------------------------\u001b[0m",
            "\u001b[0;31mTypeError\u001b[0m                                 Traceback (most recent call last)",
            "\u001b[0;32m<ipython-input-23-b09151d8c537>\u001b[0m in \u001b[0;36m<module>\u001b[0;34m\u001b[0m\n\u001b[0;32m----> 1\u001b[0;31m \u001b[0mtemp_1\u001b[0m\u001b[0;34m+\u001b[0m\u001b[0mtemp_2\u001b[0m\u001b[0;34m\u001b[0m\u001b[0;34m\u001b[0m\u001b[0m\n\u001b[0m",
            "\u001b[0;31mTypeError\u001b[0m: unsupported operand type(s) for +: 'cen_to_kelvin' and 'cen_to_kelvin'"
          ]
        }
      ]
    },
    {
      "cell_type": "code",
      "source": [
        "class cen_to_kelvin:\n",
        "\n",
        "  def __init__(self,centigrade=None):\n",
        "    self.centigrade = centigrade\n",
        "    if(centigrade):\n",
        "      self.kelvin = self.centigrade+273.15\n",
        "\n",
        "  def __add__(self,other_obj):\n",
        "    temp = cen_to_kelvin()\n",
        "    temp.kelvin= self.kelvin + other_obj.kelvin\n",
        "    return temp.kelvin\n",
        "\n"
      ],
      "metadata": {
        "id": "2FOzNtjVvmAo"
      },
      "execution_count": 39,
      "outputs": []
    },
    {
      "cell_type": "code",
      "source": [
        "temp_1 = cen_to_kelvin(5)\n",
        "temp_2 = cen_to_kelvin(10)"
      ],
      "metadata": {
        "id": "q1w5FHtUwcsW"
      },
      "execution_count": 40,
      "outputs": []
    },
    {
      "cell_type": "code",
      "source": [
        "temp_1.centigrade"
      ],
      "metadata": {
        "colab": {
          "base_uri": "https://localhost:8080/"
        },
        "id": "P_Qvx4R6wtBO",
        "outputId": "6f1726dc-4818-4c9b-8aac-5768bf1cdefe"
      },
      "execution_count": 41,
      "outputs": [
        {
          "output_type": "execute_result",
          "data": {
            "text/plain": [
              "5"
            ]
          },
          "metadata": {},
          "execution_count": 41
        }
      ]
    },
    {
      "cell_type": "code",
      "source": [
        "temp_1.kelvin"
      ],
      "metadata": {
        "colab": {
          "base_uri": "https://localhost:8080/"
        },
        "id": "nHAAswUVwv91",
        "outputId": "1695f09c-cc95-4484-a624-d00c7d56af88"
      },
      "execution_count": 42,
      "outputs": [
        {
          "output_type": "execute_result",
          "data": {
            "text/plain": [
              "278.15"
            ]
          },
          "metadata": {},
          "execution_count": 42
        }
      ]
    },
    {
      "cell_type": "code",
      "source": [
        "temp_2.kelvin"
      ],
      "metadata": {
        "colab": {
          "base_uri": "https://localhost:8080/"
        },
        "id": "jo8t3PQkxbSs",
        "outputId": "1f8e1adf-6ad2-4358-8c4f-2846a264b87b"
      },
      "execution_count": 44,
      "outputs": [
        {
          "output_type": "execute_result",
          "data": {
            "text/plain": [
              "283.15"
            ]
          },
          "metadata": {},
          "execution_count": 44
        }
      ]
    },
    {
      "cell_type": "code",
      "source": [
        "temp_1+temp_2"
      ],
      "metadata": {
        "colab": {
          "base_uri": "https://localhost:8080/"
        },
        "id": "lHApt81xwlys",
        "outputId": "4b128aed-9828-48d3-e05b-65f8c52e375c"
      },
      "execution_count": 43,
      "outputs": [
        {
          "output_type": "execute_result",
          "data": {
            "text/plain": [
              "561.3"
            ]
          },
          "metadata": {},
          "execution_count": 43
        }
      ]
    },
    {
      "cell_type": "markdown",
      "source": [
        "#\\_\\_ge\\_\\_"
      ],
      "metadata": {
        "id": "PUGfXdaKxruH"
      }
    },
    {
      "cell_type": "code",
      "source": [
        "#greater than equal to\n",
        "#in the following example we compare whether the object1.currency1 > = object2.currency2\n",
        "\n",
        "class moneyExchange:\n",
        "\n",
        "  def __init__(self,money):\n",
        "    self.money = money\n",
        "    self.euro = self.money*0.0071\n",
        "    self.yen = self.money*0.98\n",
        "\n",
        "    "
      ],
      "metadata": {
        "id": "j6NxpykzwoGE"
      },
      "execution_count": 45,
      "outputs": []
    },
    {
      "cell_type": "code",
      "source": [
        "money1 = moneyExchange(5000)"
      ],
      "metadata": {
        "id": "3xGZ1E-l0InK"
      },
      "execution_count": 46,
      "outputs": []
    },
    {
      "cell_type": "code",
      "source": [
        "money1.money"
      ],
      "metadata": {
        "colab": {
          "base_uri": "https://localhost:8080/"
        },
        "id": "osA5wzQf0NAp",
        "outputId": "5fe413c8-f763-4ff1-c0e0-91dd5cdfe819"
      },
      "execution_count": 47,
      "outputs": [
        {
          "output_type": "execute_result",
          "data": {
            "text/plain": [
              "5000"
            ]
          },
          "metadata": {},
          "execution_count": 47
        }
      ]
    },
    {
      "cell_type": "code",
      "source": [
        "money1.euro"
      ],
      "metadata": {
        "colab": {
          "base_uri": "https://localhost:8080/"
        },
        "id": "rzjhcjkT0Ppy",
        "outputId": "1ec0de17-0f7b-4f1f-ff83-a50a7dcc3d9e"
      },
      "execution_count": 48,
      "outputs": [
        {
          "output_type": "execute_result",
          "data": {
            "text/plain": [
              "35.5"
            ]
          },
          "metadata": {},
          "execution_count": 48
        }
      ]
    },
    {
      "cell_type": "code",
      "source": [
        "money1.yen"
      ],
      "metadata": {
        "colab": {
          "base_uri": "https://localhost:8080/"
        },
        "id": "j2UMzPbK0RTG",
        "outputId": "d2947487-fc98-4f9e-87ae-a44629828410"
      },
      "execution_count": 49,
      "outputs": [
        {
          "output_type": "execute_result",
          "data": {
            "text/plain": [
              "4900.0"
            ]
          },
          "metadata": {},
          "execution_count": 49
        }
      ]
    },
    {
      "cell_type": "code",
      "source": [
        "money2 = moneyExchange(6000)"
      ],
      "metadata": {
        "id": "mXTHFcvZ0UkX"
      },
      "execution_count": 50,
      "outputs": []
    },
    {
      "cell_type": "code",
      "source": [
        "money2.yen"
      ],
      "metadata": {
        "colab": {
          "base_uri": "https://localhost:8080/"
        },
        "id": "JAZiKrJv0Z1s",
        "outputId": "175316c3-13ab-4dd1-fe31-ac5ba5acee3d"
      },
      "execution_count": 51,
      "outputs": [
        {
          "output_type": "execute_result",
          "data": {
            "text/plain": [
              "5880.0"
            ]
          },
          "metadata": {},
          "execution_count": 51
        }
      ]
    },
    {
      "cell_type": "code",
      "source": [
        "money1 >= money2"
      ],
      "metadata": {
        "colab": {
          "base_uri": "https://localhost:8080/",
          "height": 165
        },
        "id": "WSptui3R0brV",
        "outputId": "182e5dd7-4f9f-4391-83dd-62f0bb308726"
      },
      "execution_count": 52,
      "outputs": [
        {
          "output_type": "error",
          "ename": "TypeError",
          "evalue": "ignored",
          "traceback": [
            "\u001b[0;31m---------------------------------------------------------------------------\u001b[0m",
            "\u001b[0;31mTypeError\u001b[0m                                 Traceback (most recent call last)",
            "\u001b[0;32m<ipython-input-52-678a20e66c68>\u001b[0m in \u001b[0;36m<module>\u001b[0;34m\u001b[0m\n\u001b[0;32m----> 1\u001b[0;31m \u001b[0mmoney1\u001b[0m \u001b[0;34m>=\u001b[0m \u001b[0mmoney2\u001b[0m\u001b[0;34m\u001b[0m\u001b[0;34m\u001b[0m\u001b[0m\n\u001b[0m",
            "\u001b[0;31mTypeError\u001b[0m: '>=' not supported between instances of 'moneyExchange' and 'moneyExchange'"
          ]
        }
      ]
    },
    {
      "cell_type": "code",
      "source": [
        "class moneyExchange:\n",
        "\n",
        "  def __init__(self,money):\n",
        "    self.money = money\n",
        "    self.euro = self.money*0.0071\n",
        "    self.yen = self.money*0.98\n",
        "\n",
        "  def __ge__(self,second_obj):\n",
        "    temp = moneyExchange(self.money)\n",
        "    if temp.money >= second_obj.money:\n",
        "      return True\n",
        "    else:\n",
        "      return False"
      ],
      "metadata": {
        "id": "ryUB1mVk0gMM"
      },
      "execution_count": 53,
      "outputs": []
    },
    {
      "cell_type": "code",
      "source": [
        "money1 = moneyExchange(5000)\n",
        "money2 = moneyExchange(6000)"
      ],
      "metadata": {
        "id": "B7Oct7kW1L3p"
      },
      "execution_count": 54,
      "outputs": []
    },
    {
      "cell_type": "code",
      "source": [
        "money1 >= money2"
      ],
      "metadata": {
        "colab": {
          "base_uri": "https://localhost:8080/"
        },
        "id": "O3cZhjqx1RKv",
        "outputId": "73950f20-1b67-4472-fd92-c840ec79af90"
      },
      "execution_count": 55,
      "outputs": [
        {
          "output_type": "execute_result",
          "data": {
            "text/plain": [
              "False"
            ]
          },
          "metadata": {},
          "execution_count": 55
        }
      ]
    },
    {
      "cell_type": "code",
      "source": [
        "money2 >= money1"
      ],
      "metadata": {
        "colab": {
          "base_uri": "https://localhost:8080/"
        },
        "id": "w6U7DGPp1Tra",
        "outputId": "b00962a9-776d-472c-ca67-8784f5dd1589"
      },
      "execution_count": 56,
      "outputs": [
        {
          "output_type": "execute_result",
          "data": {
            "text/plain": [
              "True"
            ]
          },
          "metadata": {},
          "execution_count": 56
        }
      ]
    },
    {
      "cell_type": "markdown",
      "source": [
        "#=="
      ],
      "metadata": {
        "id": "e2SvVbKQcbAW"
      }
    },
    {
      "cell_type": "code",
      "source": [
        "import datetime"
      ],
      "metadata": {
        "id": "BOr-8NAOdpfB"
      },
      "execution_count": 2,
      "outputs": []
    },
    {
      "cell_type": "code",
      "source": [
        "class Person:\n",
        "  domain = \"knight.com\"\n",
        "\n",
        "  def __init__(self,first,last,birthdate):\n",
        "    self.first =  first\n",
        "    self.last = last\n",
        "    self.birthdate = birthdate\n",
        "  \n",
        "  @property\n",
        "  def age(self):\n",
        "    today = datetime.date.today()\n",
        "    return today.year - self.birthdate.year\n",
        "\n",
        "  def email(self):\n",
        "    self.email = self.first+\"_\"+self.last+\"@\"+self.domain\n",
        "    print(self.email)"
      ],
      "metadata": {
        "id": "COG2zAYPcX4e"
      },
      "execution_count": 46,
      "outputs": []
    },
    {
      "cell_type": "code",
      "source": [
        "per1 = Person(\"Mickey\",\"Mouse\",datetime.date(1992, 3, 12))"
      ],
      "metadata": {
        "id": "symycSRyeTg-"
      },
      "execution_count": 47,
      "outputs": []
    },
    {
      "cell_type": "code",
      "source": [
        "per2 = Person(\"Donald\",\"Duck\",datetime.date(1992,3,12))"
      ],
      "metadata": {
        "id": "UfxtQ1iWeZzi"
      },
      "execution_count": 48,
      "outputs": []
    },
    {
      "cell_type": "code",
      "source": [
        "per1.age"
      ],
      "metadata": {
        "colab": {
          "base_uri": "https://localhost:8080/"
        },
        "id": "9ki5sBijeh3_",
        "outputId": "e28044ba-e599-4075-914b-8f4bdf27fb11"
      },
      "execution_count": 49,
      "outputs": [
        {
          "output_type": "execute_result",
          "data": {
            "text/plain": [
              "31"
            ]
          },
          "metadata": {},
          "execution_count": 49
        }
      ]
    },
    {
      "cell_type": "code",
      "source": [
        "per2.age"
      ],
      "metadata": {
        "colab": {
          "base_uri": "https://localhost:8080/"
        },
        "id": "IxsJY7vzejN0",
        "outputId": "85981ef1-c6c9-4bd6-9634-0f76af188fec"
      },
      "execution_count": 50,
      "outputs": [
        {
          "output_type": "execute_result",
          "data": {
            "text/plain": [
              "31"
            ]
          },
          "metadata": {},
          "execution_count": 50
        }
      ]
    },
    {
      "cell_type": "code",
      "source": [
        "per1 == per2"
      ],
      "metadata": {
        "colab": {
          "base_uri": "https://localhost:8080/"
        },
        "id": "3uNAihKPe-nI",
        "outputId": "c6c67dfd-17b8-4a59-fe82-d0c8d5f4e712"
      },
      "execution_count": 51,
      "outputs": [
        {
          "output_type": "execute_result",
          "data": {
            "text/plain": [
              "False"
            ]
          },
          "metadata": {},
          "execution_count": 51
        }
      ]
    },
    {
      "cell_type": "code",
      "source": [
        "#Let us say I want to add functionaliy so that if I compare two objects with != it will actually compare age of two objects"
      ],
      "metadata": {
        "id": "6dX_ofHffQD-"
      },
      "execution_count": 28,
      "outputs": []
    },
    {
      "cell_type": "code",
      "source": [
        "class Person:\n",
        "  domain = \"knight.com\"\n",
        "\n",
        "  def __init__(self,first,last,birthdate):\n",
        "    self.first =  first\n",
        "    self.last = last\n",
        "    self.birthdate = birthdate\n",
        "  \n",
        "  @property\n",
        "  def age(self):\n",
        "    today = datetime.date.today()\n",
        "    return today.year - self.birthdate.year\n",
        "\n",
        "  def email(self):\n",
        "    self.email = self.first+\"_\"+self.last+\"@\"+self.domain\n",
        "    print(self.email)\n",
        "  \n",
        "  def __eq__(self,obj):\n",
        "    if(self.age == obj.age):\n",
        "      return True\n",
        "    else:\n",
        "      return False"
      ],
      "metadata": {
        "id": "30d8UNuKfgUS"
      },
      "execution_count": 38,
      "outputs": []
    },
    {
      "cell_type": "code",
      "source": [
        "per1 = Person(\"Mickey\",\"Mouse\",datetime.date(1992, 3, 12))\n",
        "per2 = Person(\"Donald\",\"Duck\",datetime.date(1992,3,12))"
      ],
      "metadata": {
        "id": "1WUUZq3IfuU1"
      },
      "execution_count": 41,
      "outputs": []
    },
    {
      "cell_type": "code",
      "source": [
        "per1.age"
      ],
      "metadata": {
        "colab": {
          "base_uri": "https://localhost:8080/"
        },
        "id": "kOGkhsX3fzXM",
        "outputId": "06ea2dc1-3adf-485e-9786-c51eef96daf1"
      },
      "execution_count": 42,
      "outputs": [
        {
          "output_type": "execute_result",
          "data": {
            "text/plain": [
              "31"
            ]
          },
          "metadata": {},
          "execution_count": 42
        }
      ]
    },
    {
      "cell_type": "code",
      "source": [
        "per2.age"
      ],
      "metadata": {
        "colab": {
          "base_uri": "https://localhost:8080/"
        },
        "id": "Xe8dWpEQf03g",
        "outputId": "4db0760a-3c33-4999-e1d7-623a405d5126"
      },
      "execution_count": 43,
      "outputs": [
        {
          "output_type": "execute_result",
          "data": {
            "text/plain": [
              "31"
            ]
          },
          "metadata": {},
          "execution_count": 43
        }
      ]
    },
    {
      "cell_type": "code",
      "source": [
        "per1 == per2"
      ],
      "metadata": {
        "colab": {
          "base_uri": "https://localhost:8080/"
        },
        "id": "WA3GsC2rf2w7",
        "outputId": "274aed63-4fd2-4698-c6a3-b98736b7061f"
      },
      "execution_count": 45,
      "outputs": [
        {
          "output_type": "execute_result",
          "data": {
            "text/plain": [
              "True"
            ]
          },
          "metadata": {},
          "execution_count": 45
        }
      ]
    },
    {
      "cell_type": "markdown",
      "source": [
        "#\\_\\_repr\\_\\_"
      ],
      "metadata": {
        "id": "VNZDEfaI2TFh"
      }
    },
    {
      "cell_type": "markdown",
      "source": [
        "\\_\\_repr\\_\\_ is a special method used to represent a class's objects as a string."
      ],
      "metadata": {
        "id": "BQKN8LZg3QwB"
      }
    },
    {
      "cell_type": "code",
      "source": [
        "class Person:\n",
        "  domain = \"knight.com\"\n",
        "\n",
        "  def __init__(self,first,last):\n",
        "    self.first =  first\n",
        "    self.last = last\n",
        "\n",
        "\n",
        "  def email(self):\n",
        "    self.email = self.first+\"_\"+self.last+\"@\"+self.domain\n",
        "    print(self.email)"
      ],
      "metadata": {
        "id": "9p9P_DcI1XeA"
      },
      "execution_count": 57,
      "outputs": []
    },
    {
      "cell_type": "code",
      "source": [
        "per1 = Person(\"Micky\",\"Mouse\")"
      ],
      "metadata": {
        "id": "F3hxUlml2rFD"
      },
      "execution_count": 58,
      "outputs": []
    },
    {
      "cell_type": "code",
      "source": [
        "repr(per1)"
      ],
      "metadata": {
        "colab": {
          "base_uri": "https://localhost:8080/",
          "height": 35
        },
        "id": "UKIRl_xV2ujp",
        "outputId": "1797d027-d3b9-47d5-bb56-1d77826bbcec"
      },
      "execution_count": 59,
      "outputs": [
        {
          "output_type": "execute_result",
          "data": {
            "text/plain": [
              "'<__main__.Person object at 0x7f5094f225b0>'"
            ],
            "application/vnd.google.colaboratory.intrinsic+json": {
              "type": "string"
            }
          },
          "metadata": {},
          "execution_count": 59
        }
      ]
    },
    {
      "cell_type": "code",
      "source": [
        "per1"
      ],
      "metadata": {
        "colab": {
          "base_uri": "https://localhost:8080/"
        },
        "id": "VwpOlLDi2zIX",
        "outputId": "4d02d88a-d29a-4aee-d4c6-2dc6d4e8d3a5"
      },
      "execution_count": 60,
      "outputs": [
        {
          "output_type": "execute_result",
          "data": {
            "text/plain": [
              "<__main__.Person at 0x7f5094f225b0>"
            ]
          },
          "metadata": {},
          "execution_count": 60
        }
      ]
    },
    {
      "cell_type": "code",
      "source": [
        "class Person:\n",
        "  domain = \"knight.com\"\n",
        "\n",
        "  def __init__(self,first,last):\n",
        "    self.first =  first\n",
        "    self.last = last\n",
        "\n",
        "  def __repr__(self):\n",
        "    return self.first+\"-\"+self.last\n",
        "\n",
        "\n",
        "  def email(self):\n",
        "    self.email = self.first+\"_\"+self.last+\"@\"+self.domain\n",
        "    print(self.email)"
      ],
      "metadata": {
        "id": "e7Ul-Z9421Gd"
      },
      "execution_count": 64,
      "outputs": []
    },
    {
      "cell_type": "code",
      "source": [
        "per2 = Person(\"Donald\",\"Duck\")"
      ],
      "metadata": {
        "id": "b3_mRBHq3A0p"
      },
      "execution_count": 65,
      "outputs": []
    },
    {
      "cell_type": "code",
      "source": [
        "per2"
      ],
      "metadata": {
        "colab": {
          "base_uri": "https://localhost:8080/"
        },
        "id": "L2-G6yIm3F4Q",
        "outputId": "f2c2f141-4d7d-4f2b-e24f-fffa6ae9c295"
      },
      "execution_count": 66,
      "outputs": [
        {
          "output_type": "execute_result",
          "data": {
            "text/plain": [
              "Donald-Duck"
            ]
          },
          "metadata": {},
          "execution_count": 66
        }
      ]
    },
    {
      "cell_type": "markdown",
      "source": [
        "#\\_\\_new\\_\\_"
      ],
      "metadata": {
        "id": "pwH6EH625GWA"
      }
    },
    {
      "cell_type": "markdown",
      "source": [
        "When you create an instance of a class, Python first calls the \\_\\_new\\_\\_() method to create the object and then calls the \\_\\_init\\_\\_() method to initialize the object’s attributes."
      ],
      "metadata": {
        "id": "dG7O5gsZ5Q1m"
      }
    },
    {
      "cell_type": "code",
      "source": [
        "class Person:\n",
        "  domain = \"knight.com\"\n",
        "\n",
        "  def __init__(self,first,last):\n",
        "    self.first =  first\n",
        "    self.last = last\n",
        "\n",
        "  def email(self):\n",
        "    self.email = self.first+\"_\"+self.last+\"@\"+self.domain\n",
        "    print(self.email)"
      ],
      "metadata": {
        "id": "4mLyxJaz3G4M"
      },
      "execution_count": 67,
      "outputs": []
    },
    {
      "cell_type": "code",
      "source": [
        "per_1 = Person(\"Peter\",\"Parker\")"
      ],
      "metadata": {
        "id": "j7Xl284Q5i2q"
      },
      "execution_count": 77,
      "outputs": []
    },
    {
      "cell_type": "code",
      "source": [
        "type(per_1)"
      ],
      "metadata": {
        "colab": {
          "base_uri": "https://localhost:8080/"
        },
        "id": "1wFuAF6P5-Hp",
        "outputId": "10f7e9d3-cb92-42ad-feae-7520b82e4c47"
      },
      "execution_count": 73,
      "outputs": [
        {
          "output_type": "execute_result",
          "data": {
            "text/plain": [
              "__main__.Person"
            ]
          },
          "metadata": {},
          "execution_count": 73
        }
      ]
    },
    {
      "cell_type": "code",
      "source": [
        "per_2 = object.__new__(Person,\"Bruce\",\"Wayne\")"
      ],
      "metadata": {
        "id": "uxt5_G5J5n3-"
      },
      "execution_count": 79,
      "outputs": []
    },
    {
      "cell_type": "code",
      "source": [
        "per_2.__init__(\"Bruce\",\"Wayne\")"
      ],
      "metadata": {
        "id": "PNsAFlO36FQM"
      },
      "execution_count": 80,
      "outputs": []
    },
    {
      "cell_type": "code",
      "source": [
        "type(per_2)"
      ],
      "metadata": {
        "colab": {
          "base_uri": "https://localhost:8080/"
        },
        "id": "sEJvwLmF56-Q",
        "outputId": "f4baf966-b471-4915-9f48-6feb2db1e0b9"
      },
      "execution_count": 75,
      "outputs": [
        {
          "output_type": "execute_result",
          "data": {
            "text/plain": [
              "__main__.Person"
            ]
          },
          "metadata": {},
          "execution_count": 75
        }
      ]
    },
    {
      "cell_type": "code",
      "source": [
        "per_1.email()"
      ],
      "metadata": {
        "colab": {
          "base_uri": "https://localhost:8080/"
        },
        "id": "5mKNElCf5y1Q",
        "outputId": "f3c26e73-959c-476d-fb8a-bf527d932255"
      },
      "execution_count": 78,
      "outputs": [
        {
          "output_type": "stream",
          "name": "stdout",
          "text": [
            "Peter_Parker@knight.com\n"
          ]
        }
      ]
    },
    {
      "cell_type": "code",
      "source": [
        "per_2.email()"
      ],
      "metadata": {
        "colab": {
          "base_uri": "https://localhost:8080/"
        },
        "id": "O89xVal2501V",
        "outputId": "2f874d63-9429-4560-db5d-e20e9e1f214b"
      },
      "execution_count": 81,
      "outputs": [
        {
          "output_type": "stream",
          "name": "stdout",
          "text": [
            "Bruce_Wayne@knight.com\n"
          ]
        }
      ]
    },
    {
      "cell_type": "code",
      "source": [
        "#Changing behaviour of this __new__\n",
        "class Person:\n",
        "  domain = \"knight.com\"\n",
        "\n",
        "  def __new__(cls,first,last):\n",
        "    print(\"Creating object of class person\")\n",
        "    obj = object.__new__(cls)\n",
        "    return obj\n",
        "\n",
        "  def __init__(self,first,last):\n",
        "    self.first =  first\n",
        "    self.last = last\n",
        "\n",
        "  def email(self):\n",
        "    self.email = self.first+\"_\"+self.last+\"@\"+self.domain\n",
        "    print(self.email)"
      ],
      "metadata": {
        "id": "TEqkMMhs53G7"
      },
      "execution_count": 82,
      "outputs": []
    },
    {
      "cell_type": "code",
      "source": [
        "per1 = Person(\"Mickey\",\"Mouse\")"
      ],
      "metadata": {
        "colab": {
          "base_uri": "https://localhost:8080/"
        },
        "id": "vDuO8ic07Dyw",
        "outputId": "6d9d765f-12e9-42e7-d6ee-68951c4476b9"
      },
      "execution_count": 83,
      "outputs": [
        {
          "output_type": "stream",
          "name": "stdout",
          "text": [
            "Creating object of class person\n"
          ]
        }
      ]
    },
    {
      "cell_type": "code",
      "source": [
        "per1.email()"
      ],
      "metadata": {
        "colab": {
          "base_uri": "https://localhost:8080/"
        },
        "id": "XSXwF_j57IfL",
        "outputId": "f37fd156-cfb8-47a5-d0bb-f2e019754298"
      },
      "execution_count": 84,
      "outputs": [
        {
          "output_type": "stream",
          "name": "stdout",
          "text": [
            "Mickey_Mouse@knight.com\n"
          ]
        }
      ]
    },
    {
      "cell_type": "markdown",
      "source": [
        "#\\_\\_del\\_\\_"
      ],
      "metadata": {
        "id": "-GcahHj57ojJ"
      }
    },
    {
      "cell_type": "code",
      "source": [
        "#In Python, the __del__() method is referred to as a destructor method.\n",
        "#It is called after an object’s garbage collection occurs, \n",
        "#which happens after all references to the item have been destroyed."
      ],
      "metadata": {
        "id": "pQs0Sv6-7jhq"
      },
      "execution_count": 85,
      "outputs": []
    },
    {
      "cell_type": "code",
      "source": [
        "class Person:\n",
        "  domain = \"knight.com\"\n",
        "\n",
        "  def __init__(self,first,last):\n",
        "    self.first =  first\n",
        "    self.last = last\n",
        "\n",
        "  def email(self):\n",
        "    self.email = self.first+\"_\"+self.last+\"@\"+self.domain\n",
        "    print(self.email)"
      ],
      "metadata": {
        "id": "5oY1PdaM7sib"
      },
      "execution_count": 86,
      "outputs": []
    },
    {
      "cell_type": "code",
      "source": [
        "per1 = Person(\"Donald\",\"Duck\")"
      ],
      "metadata": {
        "id": "V6FdsPrP7yT3"
      },
      "execution_count": 87,
      "outputs": []
    },
    {
      "cell_type": "code",
      "source": [
        "per1.email()"
      ],
      "metadata": {
        "colab": {
          "base_uri": "https://localhost:8080/"
        },
        "id": "op63ygwO72C5",
        "outputId": "4a342d60-5fdf-4c55-c45a-cee4a4d0d8de"
      },
      "execution_count": 88,
      "outputs": [
        {
          "output_type": "stream",
          "name": "stdout",
          "text": [
            "Donald_Duck@knight.com\n"
          ]
        }
      ]
    },
    {
      "cell_type": "code",
      "source": [
        "del per1"
      ],
      "metadata": {
        "id": "2TD3-Dqz73in"
      },
      "execution_count": 89,
      "outputs": []
    },
    {
      "cell_type": "code",
      "source": [
        "per1.email()"
      ],
      "metadata": {
        "colab": {
          "base_uri": "https://localhost:8080/",
          "height": 165
        },
        "id": "djh1lnNK8CYV",
        "outputId": "830aceaa-a3c6-4ad8-9fe7-a9d873bda76e"
      },
      "execution_count": 90,
      "outputs": [
        {
          "output_type": "error",
          "ename": "NameError",
          "evalue": "ignored",
          "traceback": [
            "\u001b[0;31m---------------------------------------------------------------------------\u001b[0m",
            "\u001b[0;31mNameError\u001b[0m                                 Traceback (most recent call last)",
            "\u001b[0;32m<ipython-input-90-2780778bd6f1>\u001b[0m in \u001b[0;36m<module>\u001b[0;34m\u001b[0m\n\u001b[0;32m----> 1\u001b[0;31m \u001b[0mper1\u001b[0m\u001b[0;34m.\u001b[0m\u001b[0memail\u001b[0m\u001b[0;34m(\u001b[0m\u001b[0;34m)\u001b[0m\u001b[0;34m\u001b[0m\u001b[0;34m\u001b[0m\u001b[0m\n\u001b[0m",
            "\u001b[0;31mNameError\u001b[0m: name 'per1' is not defined"
          ]
        }
      ]
    },
    {
      "cell_type": "code",
      "source": [
        "#We can redefine the behaviour of __del__\n",
        "#let us say we want to print a message while deleting the object\n",
        "class Person:\n",
        "  domain = \"knight.com\"\n",
        "  email_dict = []\n",
        "\n",
        "  def __init__(self,first,last):\n",
        "    self.first =  first\n",
        "    self.last = last\n",
        "\n",
        "  def email(self):\n",
        "    self.email = self.first+\"_\"+self.last+\"@\"+self.domain\n",
        "    print(self.email)\n",
        "\n",
        "  def __del__(self):\n",
        "    #self.email_dict.append(self.email())\n",
        "    print(\"Deleting the object\")\n",
        "\n"
      ],
      "metadata": {
        "id": "TcDSCMpA8Ebr"
      },
      "execution_count": 126,
      "outputs": []
    },
    {
      "cell_type": "code",
      "source": [
        "per1 = Person(\"Donald\",\"Duck\")"
      ],
      "metadata": {
        "id": "tBfPAKtz8dpY"
      },
      "execution_count": 127,
      "outputs": []
    },
    {
      "cell_type": "code",
      "source": [
        "per1.email()"
      ],
      "metadata": {
        "colab": {
          "base_uri": "https://localhost:8080/"
        },
        "id": "QJjdaehe8juf",
        "outputId": "e16e23eb-280b-4d11-bd98-5c109c799a0f"
      },
      "execution_count": 128,
      "outputs": [
        {
          "output_type": "stream",
          "name": "stdout",
          "text": [
            "Donald_Duck@knight.com\n"
          ]
        }
      ]
    },
    {
      "cell_type": "code",
      "source": [
        "del per1"
      ],
      "metadata": {
        "colab": {
          "base_uri": "https://localhost:8080/"
        },
        "id": "atxwaOpJ8meH",
        "outputId": "292e1768-135b-4f89-f060-eb1f03b4d9ca"
      },
      "execution_count": 129,
      "outputs": [
        {
          "output_type": "stream",
          "name": "stdout",
          "text": [
            "Deleting the object\n"
          ]
        }
      ]
    },
    {
      "cell_type": "code",
      "source": [
        "per2 = Person(\"Mickey\",\"Mouse\")"
      ],
      "metadata": {
        "id": "DrCW5QZj9aWC"
      },
      "execution_count": 130,
      "outputs": []
    },
    {
      "cell_type": "code",
      "source": [
        "per2.email()"
      ],
      "metadata": {
        "colab": {
          "base_uri": "https://localhost:8080/"
        },
        "id": "3U073Ju19irH",
        "outputId": "28980994-002d-4f50-9773-f57204853b5d"
      },
      "execution_count": 131,
      "outputs": [
        {
          "output_type": "stream",
          "name": "stdout",
          "text": [
            "Mickey_Mouse@knight.com\n"
          ]
        }
      ]
    },
    {
      "cell_type": "code",
      "source": [
        "del per2"
      ],
      "metadata": {
        "colab": {
          "base_uri": "https://localhost:8080/"
        },
        "id": "IuNoTqnP9vIP",
        "outputId": "636f11a6-58bf-441b-e6bf-5baf82ffe72f"
      },
      "execution_count": 132,
      "outputs": [
        {
          "output_type": "stream",
          "name": "stdout",
          "text": [
            "Deleting the object\n"
          ]
        }
      ]
    },
    {
      "cell_type": "code",
      "source": [
        "hash(55)"
      ],
      "metadata": {
        "colab": {
          "base_uri": "https://localhost:8080/"
        },
        "id": "2P2jZjyGCxLY",
        "outputId": "d86ed5b3-cc63-4242-d608-cb7b5cac522b"
      },
      "execution_count": 133,
      "outputs": [
        {
          "output_type": "execute_result",
          "data": {
            "text/plain": [
              "55"
            ]
          },
          "metadata": {},
          "execution_count": 133
        }
      ]
    },
    {
      "cell_type": "markdown",
      "source": [
        "#\\_\\_dict\\_\\_"
      ],
      "metadata": {
        "id": "Oa1e0_72EUwi"
      }
    },
    {
      "cell_type": "code",
      "source": [
        "class Person:\n",
        "  domain = \"knight.com\"\n",
        "\n",
        "  def __init__(self,first,last):\n",
        "    self.first =  first\n",
        "    self.last = last\n",
        "\n",
        "  def email(self):\n",
        "    self.email = self.first+\"_\"+self.last+\"@\"+self.domain\n",
        "    print(self.email)"
      ],
      "metadata": {
        "id": "iVE5e8OLDTUg"
      },
      "execution_count": 134,
      "outputs": []
    },
    {
      "cell_type": "code",
      "source": [
        "per1 = Person(\"Mickey\",\"Mouse\")"
      ],
      "metadata": {
        "id": "z8vR4vVQEi8a"
      },
      "execution_count": 135,
      "outputs": []
    },
    {
      "cell_type": "code",
      "source": [
        "per1.email()"
      ],
      "metadata": {
        "colab": {
          "base_uri": "https://localhost:8080/"
        },
        "id": "RlykU391EnSn",
        "outputId": "bad8b7cb-cfe3-46d6-c5cb-9985a2445cf1"
      },
      "execution_count": 136,
      "outputs": [
        {
          "output_type": "stream",
          "name": "stdout",
          "text": [
            "Mickey_Mouse@knight.com\n"
          ]
        }
      ]
    },
    {
      "cell_type": "code",
      "source": [
        "Person.__dict__"
      ],
      "metadata": {
        "colab": {
          "base_uri": "https://localhost:8080/"
        },
        "id": "E4sEV9hvEp3L",
        "outputId": "3d85a616-82a0-4269-da4a-ae19251f2d38"
      },
      "execution_count": 137,
      "outputs": [
        {
          "output_type": "execute_result",
          "data": {
            "text/plain": [
              "mappingproxy({'__module__': '__main__',\n",
              "              'domain': 'knight.com',\n",
              "              '__init__': <function __main__.Person.__init__(self, first, last)>,\n",
              "              'email': <function __main__.Person.email(self)>,\n",
              "              '__dict__': <attribute '__dict__' of 'Person' objects>,\n",
              "              '__weakref__': <attribute '__weakref__' of 'Person' objects>,\n",
              "              '__doc__': None})"
            ]
          },
          "metadata": {},
          "execution_count": 137
        }
      ]
    },
    {
      "cell_type": "code",
      "source": [
        "per1.__dict__"
      ],
      "metadata": {
        "colab": {
          "base_uri": "https://localhost:8080/"
        },
        "id": "r7U2a3uvEz1y",
        "outputId": "1a59b670-e446-4151-de5a-3f212338dddc"
      },
      "execution_count": 138,
      "outputs": [
        {
          "output_type": "execute_result",
          "data": {
            "text/plain": [
              "{'first': 'Mickey', 'last': 'Mouse', 'email': 'Mickey_Mouse@knight.com'}"
            ]
          },
          "metadata": {},
          "execution_count": 138
        }
      ]
    },
    {
      "cell_type": "code",
      "source": [],
      "metadata": {
        "id": "loMTqR4FFL-r"
      },
      "execution_count": null,
      "outputs": []
    }
  ]
}