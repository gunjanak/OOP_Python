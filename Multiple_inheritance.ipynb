{
  "nbformat": 4,
  "nbformat_minor": 0,
  "metadata": {
    "colab": {
      "provenance": [],
      "authorship_tag": "ABX9TyML7KakC1kpnUizEwgw04sV",
      "include_colab_link": true
    },
    "kernelspec": {
      "name": "python3",
      "display_name": "Python 3"
    },
    "language_info": {
      "name": "python"
    }
  },
  "cells": [
    {
      "cell_type": "markdown",
      "metadata": {
        "id": "view-in-github",
        "colab_type": "text"
      },
      "source": [
        "<a href=\"https://colab.research.google.com/github/gunjanak/OOP_Python/blob/main/Multiple_inheritance.ipynb\" target=\"_parent\"><img src=\"https://colab.research.google.com/assets/colab-badge.svg\" alt=\"Open In Colab\"/></a>"
      ]
    },
    {
      "cell_type": "code",
      "execution_count": null,
      "metadata": {
        "id": "u3DSVRLxX68Z"
      },
      "outputs": [],
      "source": [
        "class A:\n",
        "  def general_function(self):\n",
        "    print(\"This is general function in class A\")\n",
        "  def func_A(self):\n",
        "    print(\"This is function of class A\")"
      ]
    },
    {
      "cell_type": "code",
      "source": [
        "class B:\n",
        "  def func_B(self):\n",
        "    print(\"This is function of class B\")"
      ],
      "metadata": {
        "id": "Xa-iPB_GbYSC"
      },
      "execution_count": null,
      "outputs": []
    },
    {
      "cell_type": "code",
      "source": [
        "#Here C is child of both A and B\n",
        "class C(A,B):\n",
        "  def func_C(self):\n",
        "    print(\"This is function of class C\")"
      ],
      "metadata": {
        "id": "MBe2H6woby9K"
      },
      "execution_count": null,
      "outputs": []
    },
    {
      "cell_type": "code",
      "source": [
        "a = A()\n",
        "b = B()\n",
        "c = C()"
      ],
      "metadata": {
        "id": "WkBwHThmcDTX"
      },
      "execution_count": null,
      "outputs": []
    },
    {
      "cell_type": "code",
      "source": [
        "print(a.general_function())\n",
        "print(a.func_A())"
      ],
      "metadata": {
        "colab": {
          "base_uri": "https://localhost:8080/"
        },
        "id": "-j-rLtgccIKz",
        "outputId": "14c90c14-056c-4145-bbc1-ee55337ec979"
      },
      "execution_count": null,
      "outputs": [
        {
          "output_type": "stream",
          "name": "stdout",
          "text": [
            "This is general function in class A\n",
            "None\n",
            "This is function of class A\n",
            "None\n"
          ]
        }
      ]
    },
    {
      "cell_type": "code",
      "source": [
        "print(b.general_function())"
      ],
      "metadata": {
        "colab": {
          "base_uri": "https://localhost:8080/",
          "height": 165
        },
        "id": "gJd6bul0cWB1",
        "outputId": "67ee86e7-78cd-4f1a-a0f6-d87610866da5"
      },
      "execution_count": null,
      "outputs": [
        {
          "output_type": "error",
          "ename": "AttributeError",
          "evalue": "ignored",
          "traceback": [
            "\u001b[0;31m---------------------------------------------------------------------------\u001b[0m",
            "\u001b[0;31mAttributeError\u001b[0m                            Traceback (most recent call last)",
            "\u001b[0;32m<ipython-input-6-3056a02991bc>\u001b[0m in \u001b[0;36m<module>\u001b[0;34m\u001b[0m\n\u001b[0;32m----> 1\u001b[0;31m \u001b[0mprint\u001b[0m\u001b[0;34m(\u001b[0m\u001b[0mb\u001b[0m\u001b[0;34m.\u001b[0m\u001b[0mgeneral_function\u001b[0m\u001b[0;34m(\u001b[0m\u001b[0;34m)\u001b[0m\u001b[0;34m)\u001b[0m\u001b[0;34m\u001b[0m\u001b[0;34m\u001b[0m\u001b[0m\n\u001b[0m",
            "\u001b[0;31mAttributeError\u001b[0m: 'B' object has no attribute 'general_function'"
          ]
        }
      ]
    },
    {
      "cell_type": "code",
      "source": [
        "print(b.func_B())"
      ],
      "metadata": {
        "id": "P8HLohv_cZfD"
      },
      "execution_count": null,
      "outputs": []
    },
    {
      "cell_type": "code",
      "source": [
        "print(c.general_function())"
      ],
      "metadata": {
        "colab": {
          "base_uri": "https://localhost:8080/"
        },
        "id": "EOgmYRi4cddb",
        "outputId": "23f41fde-0124-4dc3-ab4b-a3cc6454b315"
      },
      "execution_count": null,
      "outputs": [
        {
          "output_type": "stream",
          "name": "stdout",
          "text": [
            "This is general function in class A\n",
            "None\n"
          ]
        }
      ]
    },
    {
      "cell_type": "code",
      "source": [
        "print(c.func_C())"
      ],
      "metadata": {
        "colab": {
          "base_uri": "https://localhost:8080/"
        },
        "id": "fSpD8xCNchre",
        "outputId": "339ce4db-9ca6-4a72-fef7-218bbe58cb74"
      },
      "execution_count": null,
      "outputs": [
        {
          "output_type": "stream",
          "name": "stdout",
          "text": [
            "This is function of class C\n",
            "None\n"
          ]
        }
      ]
    },
    {
      "cell_type": "code",
      "source": [
        "#Now let us add general_function() in class B\n",
        "class A:\n",
        "  def general_function(self):\n",
        "    print(\"This is general function in class A\")\n",
        "  def func_A(self):\n",
        "    print(\"This is function of class A\")\n",
        "\n",
        "class B:\n",
        "  def general_function(self):\n",
        "    print(\"This is general function in class B\")\n",
        "\n",
        "  def func_B(self):\n",
        "    print(\"This is function of class B\")\n",
        "\n",
        "#Here C is child of both A and B\n",
        "class C(A,B):\n",
        "  def func_C(self):\n",
        "    print(\"This is function of class C\")"
      ],
      "metadata": {
        "id": "6rdaon8dclJG"
      },
      "execution_count": null,
      "outputs": []
    },
    {
      "cell_type": "code",
      "source": [
        "a = A()\n",
        "b = B()\n",
        "c = C()"
      ],
      "metadata": {
        "id": "5hhIQjiCc-cL"
      },
      "execution_count": null,
      "outputs": []
    },
    {
      "cell_type": "code",
      "source": [
        "print(a.general_function())"
      ],
      "metadata": {
        "colab": {
          "base_uri": "https://localhost:8080/"
        },
        "id": "wcgvjCaXdO76",
        "outputId": "9cee2803-7648-4303-cfcf-3d2bed59d6ea"
      },
      "execution_count": null,
      "outputs": [
        {
          "output_type": "stream",
          "name": "stdout",
          "text": [
            "This is general function in class A\n",
            "None\n"
          ]
        }
      ]
    },
    {
      "cell_type": "code",
      "source": [
        "print(b.general_function())"
      ],
      "metadata": {
        "colab": {
          "base_uri": "https://localhost:8080/"
        },
        "id": "r6qDX2ZKdT5w",
        "outputId": "1a46d48a-df9d-40bc-a041-7c786cc7a3c3"
      },
      "execution_count": null,
      "outputs": [
        {
          "output_type": "stream",
          "name": "stdout",
          "text": [
            "This is general function in class B\n",
            "None\n"
          ]
        }
      ]
    },
    {
      "cell_type": "code",
      "source": [
        "#It will take the first class or left most class among its parent\n",
        "print(c.general_function())"
      ],
      "metadata": {
        "colab": {
          "base_uri": "https://localhost:8080/"
        },
        "id": "FVSD2pdGdXhj",
        "outputId": "522e4a70-5f31-4c81-8079-ddae711ba8eb"
      },
      "execution_count": null,
      "outputs": [
        {
          "output_type": "stream",
          "name": "stdout",
          "text": [
            "This is general function in class A\n",
            "None\n"
          ]
        }
      ]
    },
    {
      "cell_type": "code",
      "source": [
        "#Let us have another class D\n",
        "#This is sub class of B,A\n",
        "class D(B,A):\n",
        "  pass"
      ],
      "metadata": {
        "id": "KcmsUYLsdlQ_"
      },
      "execution_count": null,
      "outputs": []
    },
    {
      "cell_type": "code",
      "source": [
        "d = D()"
      ],
      "metadata": {
        "id": "pWHyvbckd0gN"
      },
      "execution_count": null,
      "outputs": []
    },
    {
      "cell_type": "code",
      "source": [
        "d.general_function()"
      ],
      "metadata": {
        "colab": {
          "base_uri": "https://localhost:8080/"
        },
        "id": "Mw-Rbpftd8t5",
        "outputId": "9084e636-7ba5-4a74-9e1d-4a39194c06a3"
      },
      "execution_count": null,
      "outputs": [
        {
          "output_type": "stream",
          "name": "stdout",
          "text": [
            "This is general function in class B\n"
          ]
        }
      ]
    },
    {
      "cell_type": "markdown",
      "source": [
        "#Example 1"
      ],
      "metadata": {
        "id": "8AE1asjpeMYD"
      }
    },
    {
      "cell_type": "code",
      "source": [
        "class Parent:\n",
        "    def __init__(self,first):\n",
        "      self.first = first\n",
        "      self.parent_attribute = 'I am a parent'\n",
        "\n",
        "    def parent_method(self):\n",
        "        print('Back in my day...')\n"
      ],
      "metadata": {
        "id": "QSSPdf8GYTA_"
      },
      "execution_count": null,
      "outputs": []
    },
    {
      "cell_type": "code",
      "source": [
        "class Parent2:\n",
        "    def __init__(self,last):\n",
        "      self.last = last\n",
        "      self.parent2_attribute = 'I am a parent 2'\n",
        "\n",
        "    def parent2_method(self):\n",
        "        print('Back in our day...')"
      ],
      "metadata": {
        "id": "e0TaZuVjYUdL"
      },
      "execution_count": null,
      "outputs": []
    },
    {
      "cell_type": "code",
      "source": [
        "# Create a child class that inherits from Parent\n",
        "class Child(Parent,Parent2):\n",
        "    def __init__(self,first,last):\n",
        "        Parent.__init__(self,first)\n",
        "        Parent2.__init__(self,last)\n",
        "        self.child_attribute = 'I am a child'"
      ],
      "metadata": {
        "id": "PCjzJgyMYdMi"
      },
      "execution_count": null,
      "outputs": []
    },
    {
      "cell_type": "code",
      "source": [
        "# Create instance of child\n",
        "child = Child('Aanchal','Pandey')\n",
        "\n",
        "# Show attributes and methods of child class\n",
        "print(child.child_attribute)\n",
        "print(child.parent_attribute)\n",
        "print(child.parent2_method())\n",
        "print(child.parent2_attribute)\n",
        "child.parent_method()"
      ],
      "metadata": {
        "colab": {
          "base_uri": "https://localhost:8080/"
        },
        "id": "lvW-_F83Ygnj",
        "outputId": "df2d5536-a838-4ae1-e50c-fc3f1d1e067c"
      },
      "execution_count": null,
      "outputs": [
        {
          "output_type": "stream",
          "name": "stdout",
          "text": [
            "I am a child\n",
            "I am a parent\n",
            "Back in our day...\n",
            "None\n",
            "I am a parent 2\n",
            "Back in my day...\n"
          ]
        }
      ]
    },
    {
      "cell_type": "code",
      "source": [
        "child.first"
      ],
      "metadata": {
        "colab": {
          "base_uri": "https://localhost:8080/",
          "height": 35
        },
        "id": "kLVr9KP_Yjrx",
        "outputId": "744bccf3-54b8-4116-c72e-5f512d5cb810"
      },
      "execution_count": null,
      "outputs": [
        {
          "output_type": "execute_result",
          "data": {
            "text/plain": [
              "'Aanchal'"
            ],
            "application/vnd.google.colaboratory.intrinsic+json": {
              "type": "string"
            }
          },
          "metadata": {},
          "execution_count": 22
        }
      ]
    },
    {
      "cell_type": "code",
      "source": [
        "child.last"
      ],
      "metadata": {
        "colab": {
          "base_uri": "https://localhost:8080/",
          "height": 35
        },
        "id": "YRR7wTQNagyr",
        "outputId": "2174796f-90e8-45ee-f01b-05ca7e103cd7"
      },
      "execution_count": null,
      "outputs": [
        {
          "output_type": "execute_result",
          "data": {
            "text/plain": [
              "'Pandey'"
            ],
            "application/vnd.google.colaboratory.intrinsic+json": {
              "type": "string"
            }
          },
          "metadata": {},
          "execution_count": 23
        }
      ]
    },
    {
      "cell_type": "markdown",
      "source": [
        "#Example 2"
      ],
      "metadata": {
        "id": "MNZy5HFBj09B"
      }
    },
    {
      "cell_type": "code",
      "source": [
        "#We have a class Person\n",
        "#We have class Students and class Professors these two class inherits from Person class\n",
        "#We have another class TA which inherits from both Students and Professors"
      ],
      "metadata": {
        "id": "fVzkIyG8d-o4"
      },
      "execution_count": null,
      "outputs": []
    },
    {
      "cell_type": "code",
      "source": [
        "class Person:\n",
        "  domain = 'Knight'\n",
        "  def __init__(self,first,last):\n",
        "    self.first = first\n",
        "    self.last = last\n",
        "\n",
        "  def email(self):\n",
        "    self.email = self.last + '@'+ self.domain+'.com'\n",
        "    print(self.email)"
      ],
      "metadata": {
        "id": "LFT1-UEBdmmB"
      },
      "execution_count": null,
      "outputs": []
    },
    {
      "cell_type": "code",
      "source": [
        "class Professor(Person):\n",
        "  domain = 'Bishop'\n",
        "\n",
        "  def __init__(self,first,last,subjects=None):\n",
        "    super().__init__(first,last)\n",
        "    #self.first = first\n",
        "    #self.last = last\n",
        "    self.subjects = subjects\n"
      ],
      "metadata": {
        "id": "akHwbhgWXAXL"
      },
      "execution_count": null,
      "outputs": []
    },
    {
      "cell_type": "code",
      "source": [
        "class Students(Person):\n",
        "  domain = 'Rook'\n",
        "\n",
        "  def __init__(self,first,last,stream):\n",
        "    super().__init__(first,last)\n",
        "    #self.first = first\n",
        "    #self.last = last\n",
        "    self.stream = stream"
      ],
      "metadata": {
        "id": "IiqnLOLWcU4m"
      },
      "execution_count": null,
      "outputs": []
    },
    {
      "cell_type": "code",
      "source": [
        "class TA(Students,Professor):\n",
        "  def __init__(self,first,last,stream,subjects=None):\n",
        "    Students.__init__(self,first,last,stream)\n",
        "    Professor.__init__(self,first,last,subjects)\n",
        "    #self.subjects = subjects"
      ],
      "metadata": {
        "id": "p1UYYuFOchu1"
      },
      "execution_count": null,
      "outputs": []
    },
    {
      "cell_type": "code",
      "source": [
        "ta = TA('Bikram',\"karn\",'Mechanical','Thermodynamics')"
      ],
      "metadata": {
        "id": "Xb_MNKzMdAoW"
      },
      "execution_count": null,
      "outputs": []
    },
    {
      "cell_type": "code",
      "source": [
        "ta.stream"
      ],
      "metadata": {
        "colab": {
          "base_uri": "https://localhost:8080/"
        },
        "id": "uhYXAz9kdIuj",
        "outputId": "9d8eaa26-759d-4a60-8922-34018931ba38"
      },
      "execution_count": null,
      "outputs": [
        {
          "output_type": "execute_result",
          "data": {
            "text/plain": [
              "'Mechanical'"
            ],
            "application/vnd.google.colaboratory.intrinsic+json": {
              "type": "string"
            }
          },
          "metadata": {},
          "execution_count": 30
        }
      ]
    },
    {
      "cell_type": "code",
      "source": [
        "#multiple-resolution order\n",
        "TA.mro()"
      ],
      "metadata": {
        "colab": {
          "base_uri": "https://localhost:8080/"
        },
        "id": "-LQ3GtFKgQat",
        "outputId": "fd2ed3c2-c543-4631-97a6-924b39e50dac"
      },
      "execution_count": null,
      "outputs": [
        {
          "output_type": "execute_result",
          "data": {
            "text/plain": [
              "[__main__.TA, __main__.Students, __main__.Professor, __main__.Person, object]"
            ]
          },
          "metadata": {},
          "execution_count": 31
        }
      ]
    },
    {
      "cell_type": "code",
      "source": [
        "ta.last"
      ],
      "metadata": {
        "colab": {
          "base_uri": "https://localhost:8080/"
        },
        "id": "6hVK9yerdK1d",
        "outputId": "0cdb146e-1815-4c0d-882e-9d3b621ba619"
      },
      "execution_count": null,
      "outputs": [
        {
          "output_type": "execute_result",
          "data": {
            "text/plain": [
              "'karn'"
            ],
            "application/vnd.google.colaboratory.intrinsic+json": {
              "type": "string"
            }
          },
          "metadata": {},
          "execution_count": 32
        }
      ]
    },
    {
      "cell_type": "code",
      "source": [
        "ta.stream"
      ],
      "metadata": {
        "colab": {
          "base_uri": "https://localhost:8080/"
        },
        "id": "oAAiXnaudiRk",
        "outputId": "9cc83392-9a8a-4513-e00c-81772c8409be"
      },
      "execution_count": null,
      "outputs": [
        {
          "output_type": "execute_result",
          "data": {
            "text/plain": [
              "'Mechanical'"
            ],
            "application/vnd.google.colaboratory.intrinsic+json": {
              "type": "string"
            }
          },
          "metadata": {},
          "execution_count": 33
        }
      ]
    },
    {
      "cell_type": "code",
      "source": [
        "ta.subjects"
      ],
      "metadata": {
        "colab": {
          "base_uri": "https://localhost:8080/"
        },
        "id": "8qMzT8I_djm9",
        "outputId": "f11c000e-c078-41c4-ae1d-c221ba01efd8"
      },
      "execution_count": null,
      "outputs": [
        {
          "output_type": "execute_result",
          "data": {
            "text/plain": [
              "'Thermodynamics'"
            ],
            "application/vnd.google.colaboratory.intrinsic+json": {
              "type": "string"
            }
          },
          "metadata": {},
          "execution_count": 34
        }
      ]
    },
    {
      "cell_type": "code",
      "source": [
        "ta.email()"
      ],
      "metadata": {
        "id": "5EB_sp5Gdawq",
        "colab": {
          "base_uri": "https://localhost:8080/"
        },
        "outputId": "f51d00d2-88e0-4595-95af-b66d8ef93a67"
      },
      "execution_count": null,
      "outputs": [
        {
          "output_type": "stream",
          "name": "stdout",
          "text": [
            "karn@Rook.com\n"
          ]
        }
      ]
    },
    {
      "cell_type": "code",
      "source": [],
      "metadata": {
        "id": "Yt3kZ0lujqy3"
      },
      "execution_count": null,
      "outputs": []
    }
  ]
}