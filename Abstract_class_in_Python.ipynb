{
  "nbformat": 4,
  "nbformat_minor": 0,
  "metadata": {
    "colab": {
      "provenance": [],
      "collapsed_sections": [
        "ubZ97JbolUCh",
        "RsUQ4U8Lo1na",
        "BY5ux9wsxVWk",
        "8TVFysbPzWUG"
      ],
      "authorship_tag": "ABX9TyMms/suUmYz/aClvbDyeQn8",
      "include_colab_link": true
    },
    "kernelspec": {
      "name": "python3",
      "display_name": "Python 3"
    },
    "language_info": {
      "name": "python"
    }
  },
  "cells": [
    {
      "cell_type": "markdown",
      "metadata": {
        "id": "view-in-github",
        "colab_type": "text"
      },
      "source": [
        "<a href=\"https://colab.research.google.com/github/gunjanak/OOP_Python/blob/main/Abstract_class_in_Python.ipynb\" target=\"_parent\"><img src=\"https://colab.research.google.com/assets/colab-badge.svg\" alt=\"Open In Colab\"/></a>"
      ]
    },
    {
      "cell_type": "markdown",
      "source": [
        "An abstract class can be considered as a blueprint for other classes. It allows you to create a set of methods that must be created within any child classes built from the abstract class. A class which contains one or more abstract methods is called an abstract class. An abstract method is a method that has a declaration but does not have an implementation. While we are designing large functional units we use an abstract class. When we want to provide a common interface for different implementations of a component, we use an abstract class. "
      ],
      "metadata": {
        "id": "BXmQf85Ak_Ab"
      }
    },
    {
      "cell_type": "markdown",
      "source": [
        "Python does not support concept of Abstract class by default.\n",
        "\n",
        "We need to use ABC(Abstract Base Class) library to implement this concept."
      ],
      "metadata": {
        "id": "Hz6JfCiSlBAj"
      }
    },
    {
      "cell_type": "markdown",
      "source": [
        "#Basic Example"
      ],
      "metadata": {
        "id": "ubZ97JbolUCh"
      }
    },
    {
      "cell_type": "code",
      "execution_count": 1,
      "metadata": {
        "id": "iZyLwDU8kaAE"
      },
      "outputs": [],
      "source": [
        "from abc import ABC, abstractmethod"
      ]
    },
    {
      "cell_type": "code",
      "source": [
        "class A(ABC):\n",
        "\n",
        "  @abstractmethod\n",
        "  def print_me(self):\n",
        "    pass"
      ],
      "metadata": {
        "id": "o-fs36v_mNnv"
      },
      "execution_count": 2,
      "outputs": []
    },
    {
      "cell_type": "code",
      "source": [
        "#trying to instantiate an object of class A\n",
        "a1 = A()"
      ],
      "metadata": {
        "colab": {
          "base_uri": "https://localhost:8080/",
          "height": 183
        },
        "id": "_UQs5Og0mZTe",
        "outputId": "79555fed-6b47-4b98-da3c-52f4e9cf4fc5"
      },
      "execution_count": 3,
      "outputs": [
        {
          "output_type": "error",
          "ename": "TypeError",
          "evalue": "ignored",
          "traceback": [
            "\u001b[0;31m---------------------------------------------------------------------------\u001b[0m",
            "\u001b[0;31mTypeError\u001b[0m                                 Traceback (most recent call last)",
            "\u001b[0;32m<ipython-input-3-b204b6eaa3de>\u001b[0m in \u001b[0;36m<module>\u001b[0;34m\u001b[0m\n\u001b[1;32m      1\u001b[0m \u001b[0;31m#trying to instantiate an object of class A\u001b[0m\u001b[0;34m\u001b[0m\u001b[0;34m\u001b[0m\u001b[0;34m\u001b[0m\u001b[0m\n\u001b[0;32m----> 2\u001b[0;31m \u001b[0ma1\u001b[0m \u001b[0;34m=\u001b[0m \u001b[0mA\u001b[0m\u001b[0;34m(\u001b[0m\u001b[0;34m)\u001b[0m\u001b[0;34m\u001b[0m\u001b[0;34m\u001b[0m\u001b[0m\n\u001b[0m",
            "\u001b[0;31mTypeError\u001b[0m: Can't instantiate abstract class A with abstract methods print_me"
          ]
        }
      ]
    },
    {
      "cell_type": "code",
      "source": [
        "#Trying to create a class B, which is subclass of abstract class A\n",
        "#We are not overloading method print_me for now\n",
        "class B(A):\n",
        "  pass"
      ],
      "metadata": {
        "id": "UZF5JXx0mmtC"
      },
      "execution_count": 5,
      "outputs": []
    },
    {
      "cell_type": "code",
      "source": [
        "#trying to instantiate an object of class B\n",
        "b1 = B()"
      ],
      "metadata": {
        "colab": {
          "base_uri": "https://localhost:8080/",
          "height": 183
        },
        "id": "wUmsy5icm9eM",
        "outputId": "18e692f6-3cf7-4ee0-89d8-c42db11495c4"
      },
      "execution_count": 6,
      "outputs": [
        {
          "output_type": "error",
          "ename": "TypeError",
          "evalue": "ignored",
          "traceback": [
            "\u001b[0;31m---------------------------------------------------------------------------\u001b[0m",
            "\u001b[0;31mTypeError\u001b[0m                                 Traceback (most recent call last)",
            "\u001b[0;32m<ipython-input-6-63f676e94211>\u001b[0m in \u001b[0;36m<module>\u001b[0;34m\u001b[0m\n\u001b[1;32m      1\u001b[0m \u001b[0;31m#trying to instantiate an object of class B\u001b[0m\u001b[0;34m\u001b[0m\u001b[0;34m\u001b[0m\u001b[0;34m\u001b[0m\u001b[0m\n\u001b[0;32m----> 2\u001b[0;31m \u001b[0mb1\u001b[0m \u001b[0;34m=\u001b[0m \u001b[0mB\u001b[0m\u001b[0;34m(\u001b[0m\u001b[0;34m)\u001b[0m\u001b[0;34m\u001b[0m\u001b[0;34m\u001b[0m\u001b[0m\n\u001b[0m",
            "\u001b[0;31mTypeError\u001b[0m: Can't instantiate abstract class B with abstract methods print_me"
          ]
        }
      ]
    },
    {
      "cell_type": "code",
      "source": [
        "#Redefining class C\n",
        "#redefining method print_me\n",
        "class C(A):\n",
        "\n",
        "  def print_me(self):\n",
        "    print(\"Hey why do you want to print me!\")"
      ],
      "metadata": {
        "id": "LtnOa42vnDso"
      },
      "execution_count": 7,
      "outputs": []
    },
    {
      "cell_type": "code",
      "source": [
        "c1 = C()"
      ],
      "metadata": {
        "id": "o6T4MCoindyi"
      },
      "execution_count": 8,
      "outputs": []
    },
    {
      "cell_type": "code",
      "source": [
        "c1.print_me()"
      ],
      "metadata": {
        "colab": {
          "base_uri": "https://localhost:8080/"
        },
        "id": "yLWBApa1nfWz",
        "outputId": "f9fdc1e5-4016-4dd3-c3fe-c9daf1c5d366"
      },
      "execution_count": 9,
      "outputs": [
        {
          "output_type": "stream",
          "name": "stdout",
          "text": [
            "Hey why do you want to print me!\n"
          ]
        }
      ]
    },
    {
      "cell_type": "markdown",
      "source": [
        "#A look at turtle in google colab"
      ],
      "metadata": {
        "id": "RsUQ4U8Lo1na"
      }
    },
    {
      "cell_type": "code",
      "source": [
        "!pip install ColabTurtle"
      ],
      "metadata": {
        "colab": {
          "base_uri": "https://localhost:8080/"
        },
        "id": "G-tpTYbSnhe6",
        "outputId": "12757db4-17db-4cd4-fbf0-2396153657b6"
      },
      "execution_count": 10,
      "outputs": [
        {
          "output_type": "stream",
          "name": "stdout",
          "text": [
            "Looking in indexes: https://pypi.org/simple, https://us-python.pkg.dev/colab-wheels/public/simple/\n",
            "Collecting ColabTurtle\n",
            "  Downloading ColabTurtle-2.1.0.tar.gz (6.8 kB)\n",
            "  Preparing metadata (setup.py) ... \u001b[?25l\u001b[?25hdone\n",
            "Building wheels for collected packages: ColabTurtle\n",
            "  Building wheel for ColabTurtle (setup.py) ... \u001b[?25l\u001b[?25hdone\n",
            "  Created wheel for ColabTurtle: filename=ColabTurtle-2.1.0-py3-none-any.whl size=7656 sha256=eea02272548842800569b19a3b966408703b2c7b6dd1951eb5c25bd593e32afc\n",
            "  Stored in directory: /root/.cache/pip/wheels/a9/85/dc/29b6b43c4c6c0fe37192ccad65fe2adcef1e52dd24b0eb61fc\n",
            "Successfully built ColabTurtle\n",
            "Installing collected packages: ColabTurtle\n",
            "Successfully installed ColabTurtle-2.1.0\n"
          ]
        }
      ]
    },
    {
      "cell_type": "code",
      "source": [
        "from ColabTurtle.Turtle import *"
      ],
      "metadata": {
        "id": "Kd_L5IOJo-o7"
      },
      "execution_count": 11,
      "outputs": []
    },
    {
      "cell_type": "code",
      "source": [
        "import ColabTurtle.Turtle as tim"
      ],
      "metadata": {
        "id": "Ic3F7L-2pEV7"
      },
      "execution_count": 12,
      "outputs": []
    },
    {
      "cell_type": "code",
      "source": [
        "def initialize():\n",
        "  initializeTurtle()\n",
        "  penup()\n",
        "  goto(300,20)\n",
        "  circle(-50)\n",
        "  pendown()\n",
        "  tim.right(90)\n",
        "  tim.color(255,20,100)\n",
        " \n",
        "  \n"
      ],
      "metadata": {
        "id": "v8p6WLLwqU0d"
      },
      "execution_count": 43,
      "outputs": []
    },
    {
      "cell_type": "code",
      "source": [],
      "metadata": {
        "id": "a386sxlZtjMm"
      },
      "execution_count": null,
      "outputs": []
    },
    {
      "cell_type": "code",
      "source": [
        "#drawing triangle\n",
        "no_of_sides = 3\n",
        "angle = 360/no_of_sides\n",
        "initialize()\n",
        "tim.forward(200)\n",
        "tim.right(120)\n",
        "tim.forward(200)\n",
        "tim.right(120)\n",
        "tim.forward(200)"
      ],
      "metadata": {
        "colab": {
          "base_uri": "https://localhost:8080/",
          "height": 521
        },
        "id": "-1WW4Y8Xpb_v",
        "outputId": "5f3bf6bf-6fb4-41d8-f473-84d19b8c1c1b"
      },
      "execution_count": 37,
      "outputs": [
        {
          "output_type": "display_data",
          "data": {
            "text/plain": [
              "<IPython.core.display.HTML object>"
            ],
            "text/html": [
              "\n",
              "      <svg width=\"800\" height=\"500\">\n",
              "        <rect width=\"100%\" height=\"100%\" fill=\"black\"/>\n",
              "        <line x1=\"300\" y1=\"20\" x2=\"500.0\" y2=\"20.0\" stroke-linecap=\"round\" style=\"stroke:rgb(255,20,100);stroke-width:4\"/><line x1=\"500.0\" y1=\"20.0\" x2=\"400.0\" y2=\"193.205\" stroke-linecap=\"round\" style=\"stroke:rgb(255,20,100);stroke-width:4\"/><line x1=\"400.0\" y1=\"193.205\" x2=\"300.0\" y2=\"20.0\" stroke-linecap=\"round\" style=\"stroke:rgb(255,20,100);stroke-width:4\"/>\n",
              "        <g visibility=visible transform=\"rotate(330,300.0,20.0) translate(282.0, 2.0)\">\n",
              "<path style=\" stroke:none;fill-rule:evenodd;fill:rgb(255,20,100);fill-opacity:1;\" d=\"M 18.214844 0.632812 C 16.109375 1.800781 15.011719 4.074219 15.074219 7.132812 L 15.085938 7.652344 L 14.785156 7.496094 C 13.476562 6.824219 11.957031 6.671875 10.40625 7.066406 C 8.46875 7.550781 6.515625 9.15625 4.394531 11.992188 C 3.0625 13.777344 2.679688 14.636719 3.042969 15.027344 L 3.15625 15.152344 L 3.519531 15.152344 C 4.238281 15.152344 4.828125 14.886719 8.1875 13.039062 C 9.386719 12.378906 10.371094 11.839844 10.378906 11.839844 C 10.386719 11.839844 10.355469 11.929688 10.304688 12.035156 C 9.832031 13.09375 9.257812 14.820312 8.96875 16.078125 C 7.914062 20.652344 8.617188 24.53125 11.070312 27.660156 C 11.351562 28.015625 11.363281 27.914062 10.972656 28.382812 C 8.925781 30.84375 7.945312 33.28125 8.238281 35.1875 C 8.289062 35.527344 8.28125 35.523438 8.917969 35.523438 C 10.941406 35.523438 13.074219 34.207031 15.136719 31.6875 C 15.359375 31.417969 15.328125 31.425781 15.5625 31.574219 C 16.292969 32.042969 18.023438 32.964844 18.175781 32.964844 C 18.335938 32.964844 19.941406 32.210938 20.828125 31.71875 C 20.996094 31.625 21.136719 31.554688 21.136719 31.558594 C 21.203125 31.664062 21.898438 32.414062 22.222656 32.730469 C 23.835938 34.300781 25.5625 35.132812 27.582031 35.300781 C 27.90625 35.328125 27.9375 35.308594 28.007812 34.984375 C 28.382812 33.242188 27.625 30.925781 25.863281 28.425781 L 25.542969 27.96875 L 25.699219 27.785156 C 28.945312 23.960938 29.132812 18.699219 26.257812 11.96875 L 26.207031 11.84375 L 27.945312 12.703125 C 31.53125 14.476562 32.316406 14.800781 33.03125 14.800781 C 33.976562 14.800781 33.78125 13.9375 32.472656 12.292969 C 28.519531 7.355469 25.394531 5.925781 21.921875 7.472656 L 21.558594 7.636719 L 21.578125 7.542969 C 21.699219 6.992188 21.761719 5.742188 21.699219 5.164062 C 21.496094 3.296875 20.664062 1.964844 19.003906 0.855469 C 18.480469 0.503906 18.457031 0.5 18.214844 0.632812\"/>\n",
              "</g>\n",
              "      </svg>\n",
              "    "
            ]
          },
          "metadata": {}
        }
      ]
    },
    {
      "cell_type": "code",
      "source": [
        "#drawing rectangle\n",
        "no_of_sides = 4\n",
        "angle = 360/no_of_sides\n",
        "initialize()\n",
        "for i in range(no_of_sides):\n",
        "  tim.forward(200)\n",
        "  tim.right(angle)\n",
        "\n"
      ],
      "metadata": {
        "colab": {
          "base_uri": "https://localhost:8080/",
          "height": 521
        },
        "id": "8cUD6tCFp-pL",
        "outputId": "eb7fa6ab-ebc1-4886-b40e-3e66f86173ea"
      },
      "execution_count": 38,
      "outputs": [
        {
          "output_type": "display_data",
          "data": {
            "text/plain": [
              "<IPython.core.display.HTML object>"
            ],
            "text/html": [
              "\n",
              "      <svg width=\"800\" height=\"500\">\n",
              "        <rect width=\"100%\" height=\"100%\" fill=\"black\"/>\n",
              "        <line x1=\"300\" y1=\"20\" x2=\"500.0\" y2=\"20.0\" stroke-linecap=\"round\" style=\"stroke:rgb(255,20,100);stroke-width:4\"/><line x1=\"500.0\" y1=\"20.0\" x2=\"500.0\" y2=\"220.0\" stroke-linecap=\"round\" style=\"stroke:rgb(255,20,100);stroke-width:4\"/><line x1=\"500.0\" y1=\"220.0\" x2=\"300.0\" y2=\"220.0\" stroke-linecap=\"round\" style=\"stroke:rgb(255,20,100);stroke-width:4\"/><line x1=\"300.0\" y1=\"220.0\" x2=\"300.0\" y2=\"20.0\" stroke-linecap=\"round\" style=\"stroke:rgb(255,20,100);stroke-width:4\"/>\n",
              "        <g visibility=visible transform=\"rotate(90.0,300.0,20.0) translate(282.0, 2.0)\">\n",
              "<path style=\" stroke:none;fill-rule:evenodd;fill:rgb(255,20,100);fill-opacity:1;\" d=\"M 18.214844 0.632812 C 16.109375 1.800781 15.011719 4.074219 15.074219 7.132812 L 15.085938 7.652344 L 14.785156 7.496094 C 13.476562 6.824219 11.957031 6.671875 10.40625 7.066406 C 8.46875 7.550781 6.515625 9.15625 4.394531 11.992188 C 3.0625 13.777344 2.679688 14.636719 3.042969 15.027344 L 3.15625 15.152344 L 3.519531 15.152344 C 4.238281 15.152344 4.828125 14.886719 8.1875 13.039062 C 9.386719 12.378906 10.371094 11.839844 10.378906 11.839844 C 10.386719 11.839844 10.355469 11.929688 10.304688 12.035156 C 9.832031 13.09375 9.257812 14.820312 8.96875 16.078125 C 7.914062 20.652344 8.617188 24.53125 11.070312 27.660156 C 11.351562 28.015625 11.363281 27.914062 10.972656 28.382812 C 8.925781 30.84375 7.945312 33.28125 8.238281 35.1875 C 8.289062 35.527344 8.28125 35.523438 8.917969 35.523438 C 10.941406 35.523438 13.074219 34.207031 15.136719 31.6875 C 15.359375 31.417969 15.328125 31.425781 15.5625 31.574219 C 16.292969 32.042969 18.023438 32.964844 18.175781 32.964844 C 18.335938 32.964844 19.941406 32.210938 20.828125 31.71875 C 20.996094 31.625 21.136719 31.554688 21.136719 31.558594 C 21.203125 31.664062 21.898438 32.414062 22.222656 32.730469 C 23.835938 34.300781 25.5625 35.132812 27.582031 35.300781 C 27.90625 35.328125 27.9375 35.308594 28.007812 34.984375 C 28.382812 33.242188 27.625 30.925781 25.863281 28.425781 L 25.542969 27.96875 L 25.699219 27.785156 C 28.945312 23.960938 29.132812 18.699219 26.257812 11.96875 L 26.207031 11.84375 L 27.945312 12.703125 C 31.53125 14.476562 32.316406 14.800781 33.03125 14.800781 C 33.976562 14.800781 33.78125 13.9375 32.472656 12.292969 C 28.519531 7.355469 25.394531 5.925781 21.921875 7.472656 L 21.558594 7.636719 L 21.578125 7.542969 C 21.699219 6.992188 21.761719 5.742188 21.699219 5.164062 C 21.496094 3.296875 20.664062 1.964844 19.003906 0.855469 C 18.480469 0.503906 18.457031 0.5 18.214844 0.632812\"/>\n",
              "</g>\n",
              "      </svg>\n",
              "    "
            ]
          },
          "metadata": {}
        }
      ]
    },
    {
      "cell_type": "code",
      "source": [
        "#drawing pentagon\n",
        "no_of_sides = 5\n",
        "angle = 360/no_of_sides\n",
        "initialize()\n",
        "for i in range(no_of_sides):\n",
        "  tim.forward(200)\n",
        "  tim.right(angle)\n",
        "\n"
      ],
      "metadata": {
        "colab": {
          "base_uri": "https://localhost:8080/",
          "height": 521
        },
        "id": "hqC-FActqLzq",
        "outputId": "e4d625e0-04df-4590-bef5-57f3c59a827a"
      },
      "execution_count": 39,
      "outputs": [
        {
          "output_type": "display_data",
          "data": {
            "text/plain": [
              "<IPython.core.display.HTML object>"
            ],
            "text/html": [
              "\n",
              "      <svg width=\"800\" height=\"500\">\n",
              "        <rect width=\"100%\" height=\"100%\" fill=\"black\"/>\n",
              "        <line x1=\"300\" y1=\"20\" x2=\"500.0\" y2=\"20.0\" stroke-linecap=\"round\" style=\"stroke:rgb(255,20,100);stroke-width:4\"/><line x1=\"500.0\" y1=\"20.0\" x2=\"561.803\" y2=\"210.211\" stroke-linecap=\"round\" style=\"stroke:rgb(255,20,100);stroke-width:4\"/><line x1=\"561.803\" y1=\"210.211\" x2=\"400.0\" y2=\"327.768\" stroke-linecap=\"round\" style=\"stroke:rgb(255,20,100);stroke-width:4\"/><line x1=\"400.0\" y1=\"327.768\" x2=\"238.197\" y2=\"210.211\" stroke-linecap=\"round\" style=\"stroke:rgb(255,20,100);stroke-width:4\"/><line x1=\"238.197\" y1=\"210.211\" x2=\"300.0\" y2=\"20.0\" stroke-linecap=\"round\" style=\"stroke:rgb(255,20,100);stroke-width:4\"/>\n",
              "        <g visibility=visible transform=\"rotate(90.0,300.0,20.0) translate(282.0, 2.0)\">\n",
              "<path style=\" stroke:none;fill-rule:evenodd;fill:rgb(255,20,100);fill-opacity:1;\" d=\"M 18.214844 0.632812 C 16.109375 1.800781 15.011719 4.074219 15.074219 7.132812 L 15.085938 7.652344 L 14.785156 7.496094 C 13.476562 6.824219 11.957031 6.671875 10.40625 7.066406 C 8.46875 7.550781 6.515625 9.15625 4.394531 11.992188 C 3.0625 13.777344 2.679688 14.636719 3.042969 15.027344 L 3.15625 15.152344 L 3.519531 15.152344 C 4.238281 15.152344 4.828125 14.886719 8.1875 13.039062 C 9.386719 12.378906 10.371094 11.839844 10.378906 11.839844 C 10.386719 11.839844 10.355469 11.929688 10.304688 12.035156 C 9.832031 13.09375 9.257812 14.820312 8.96875 16.078125 C 7.914062 20.652344 8.617188 24.53125 11.070312 27.660156 C 11.351562 28.015625 11.363281 27.914062 10.972656 28.382812 C 8.925781 30.84375 7.945312 33.28125 8.238281 35.1875 C 8.289062 35.527344 8.28125 35.523438 8.917969 35.523438 C 10.941406 35.523438 13.074219 34.207031 15.136719 31.6875 C 15.359375 31.417969 15.328125 31.425781 15.5625 31.574219 C 16.292969 32.042969 18.023438 32.964844 18.175781 32.964844 C 18.335938 32.964844 19.941406 32.210938 20.828125 31.71875 C 20.996094 31.625 21.136719 31.554688 21.136719 31.558594 C 21.203125 31.664062 21.898438 32.414062 22.222656 32.730469 C 23.835938 34.300781 25.5625 35.132812 27.582031 35.300781 C 27.90625 35.328125 27.9375 35.308594 28.007812 34.984375 C 28.382812 33.242188 27.625 30.925781 25.863281 28.425781 L 25.542969 27.96875 L 25.699219 27.785156 C 28.945312 23.960938 29.132812 18.699219 26.257812 11.96875 L 26.207031 11.84375 L 27.945312 12.703125 C 31.53125 14.476562 32.316406 14.800781 33.03125 14.800781 C 33.976562 14.800781 33.78125 13.9375 32.472656 12.292969 C 28.519531 7.355469 25.394531 5.925781 21.921875 7.472656 L 21.558594 7.636719 L 21.578125 7.542969 C 21.699219 6.992188 21.761719 5.742188 21.699219 5.164062 C 21.496094 3.296875 20.664062 1.964844 19.003906 0.855469 C 18.480469 0.503906 18.457031 0.5 18.214844 0.632812\"/>\n",
              "</g>\n",
              "      </svg>\n",
              "    "
            ]
          },
          "metadata": {}
        }
      ]
    },
    {
      "cell_type": "code",
      "source": [
        "#drawing hexagon\n",
        "no_of_sides = 6\n",
        "angle = 360/no_of_sides\n",
        "initialize()\n",
        "for i in range(no_of_sides):\n",
        "  tim.forward(200)\n",
        "  tim.right(angle)\n",
        "\n"
      ],
      "metadata": {
        "colab": {
          "base_uri": "https://localhost:8080/",
          "height": 521
        },
        "id": "EE0d59bgrxw0",
        "outputId": "ec3fbb0f-4943-47ef-a1af-cf1cbe891eb1"
      },
      "execution_count": 40,
      "outputs": [
        {
          "output_type": "display_data",
          "data": {
            "text/plain": [
              "<IPython.core.display.HTML object>"
            ],
            "text/html": [
              "\n",
              "      <svg width=\"800\" height=\"500\">\n",
              "        <rect width=\"100%\" height=\"100%\" fill=\"black\"/>\n",
              "        <line x1=\"300\" y1=\"20\" x2=\"500.0\" y2=\"20.0\" stroke-linecap=\"round\" style=\"stroke:rgb(255,20,100);stroke-width:4\"/><line x1=\"500.0\" y1=\"20.0\" x2=\"600.0\" y2=\"193.205\" stroke-linecap=\"round\" style=\"stroke:rgb(255,20,100);stroke-width:4\"/><line x1=\"600.0\" y1=\"193.205\" x2=\"500.0\" y2=\"366.41\" stroke-linecap=\"round\" style=\"stroke:rgb(255,20,100);stroke-width:4\"/><line x1=\"500.0\" y1=\"366.41\" x2=\"300.0\" y2=\"366.41\" stroke-linecap=\"round\" style=\"stroke:rgb(255,20,100);stroke-width:4\"/><line x1=\"300.0\" y1=\"366.41\" x2=\"200.0\" y2=\"193.205\" stroke-linecap=\"round\" style=\"stroke:rgb(255,20,100);stroke-width:4\"/><line x1=\"200.0\" y1=\"193.205\" x2=\"300.0\" y2=\"20.0\" stroke-linecap=\"round\" style=\"stroke:rgb(255,20,100);stroke-width:4\"/>\n",
              "        <g visibility=visible transform=\"rotate(90.0,300.0,20.0) translate(282.0, 2.0)\">\n",
              "<path style=\" stroke:none;fill-rule:evenodd;fill:rgb(255,20,100);fill-opacity:1;\" d=\"M 18.214844 0.632812 C 16.109375 1.800781 15.011719 4.074219 15.074219 7.132812 L 15.085938 7.652344 L 14.785156 7.496094 C 13.476562 6.824219 11.957031 6.671875 10.40625 7.066406 C 8.46875 7.550781 6.515625 9.15625 4.394531 11.992188 C 3.0625 13.777344 2.679688 14.636719 3.042969 15.027344 L 3.15625 15.152344 L 3.519531 15.152344 C 4.238281 15.152344 4.828125 14.886719 8.1875 13.039062 C 9.386719 12.378906 10.371094 11.839844 10.378906 11.839844 C 10.386719 11.839844 10.355469 11.929688 10.304688 12.035156 C 9.832031 13.09375 9.257812 14.820312 8.96875 16.078125 C 7.914062 20.652344 8.617188 24.53125 11.070312 27.660156 C 11.351562 28.015625 11.363281 27.914062 10.972656 28.382812 C 8.925781 30.84375 7.945312 33.28125 8.238281 35.1875 C 8.289062 35.527344 8.28125 35.523438 8.917969 35.523438 C 10.941406 35.523438 13.074219 34.207031 15.136719 31.6875 C 15.359375 31.417969 15.328125 31.425781 15.5625 31.574219 C 16.292969 32.042969 18.023438 32.964844 18.175781 32.964844 C 18.335938 32.964844 19.941406 32.210938 20.828125 31.71875 C 20.996094 31.625 21.136719 31.554688 21.136719 31.558594 C 21.203125 31.664062 21.898438 32.414062 22.222656 32.730469 C 23.835938 34.300781 25.5625 35.132812 27.582031 35.300781 C 27.90625 35.328125 27.9375 35.308594 28.007812 34.984375 C 28.382812 33.242188 27.625 30.925781 25.863281 28.425781 L 25.542969 27.96875 L 25.699219 27.785156 C 28.945312 23.960938 29.132812 18.699219 26.257812 11.96875 L 26.207031 11.84375 L 27.945312 12.703125 C 31.53125 14.476562 32.316406 14.800781 33.03125 14.800781 C 33.976562 14.800781 33.78125 13.9375 32.472656 12.292969 C 28.519531 7.355469 25.394531 5.925781 21.921875 7.472656 L 21.558594 7.636719 L 21.578125 7.542969 C 21.699219 6.992188 21.761719 5.742188 21.699219 5.164062 C 21.496094 3.296875 20.664062 1.964844 19.003906 0.855469 C 18.480469 0.503906 18.457031 0.5 18.214844 0.632812\"/>\n",
              "</g>\n",
              "      </svg>\n",
              "    "
            ]
          },
          "metadata": {}
        }
      ]
    },
    {
      "cell_type": "markdown",
      "source": [
        "#ColabTurtlePlus Intro"
      ],
      "metadata": {
        "id": "BY5ux9wsxVWk"
      }
    },
    {
      "cell_type": "code",
      "source": [
        "!pip install ColabTurtlePlus"
      ],
      "metadata": {
        "colab": {
          "base_uri": "https://localhost:8080/"
        },
        "id": "-izGG5qitwT3",
        "outputId": "8aaacf64-b17a-4c6b-9ef5-513bf5463644"
      },
      "execution_count": 44,
      "outputs": [
        {
          "output_type": "stream",
          "name": "stdout",
          "text": [
            "Looking in indexes: https://pypi.org/simple, https://us-python.pkg.dev/colab-wheels/public/simple/\n",
            "Collecting ColabTurtlePlus\n",
            "  Downloading ColabTurtlePlus-2.0.1-py3-none-any.whl (31 kB)\n",
            "Installing collected packages: ColabTurtlePlus\n",
            "Successfully installed ColabTurtlePlus-2.0.1\n"
          ]
        }
      ]
    },
    {
      "cell_type": "code",
      "source": [
        "#from ColabTurtlePlus.Turtle import *\n",
        "import ColabTurtlePlus.Turtle as turtle"
      ],
      "metadata": {
        "colab": {
          "base_uri": "https://localhost:8080/"
        },
        "id": "hb432YWxt4L2",
        "outputId": "405c2a55-df5c-4403-d48c-fb9588992153"
      },
      "execution_count": 1,
      "outputs": [
        {
          "output_type": "stream",
          "name": "stdout",
          "text": [
            "Put clearscreen() as the first line in a cell (after the import command) to re-run turtle commands in the cell\n"
          ]
        }
      ]
    },
    {
      "cell_type": "code",
      "source": [
        "def initialize():\n",
        "  turtle.clearscreen()\n",
        "  turtle.setup(300,300)\n",
        "  turtle.color(255,20,100)\n",
        "  turtle.penup()\n",
        "  turtle.goto(+50,+100)\n",
        "  turtle.pendown()\n",
        "  turtle.right(90)\n",
        "  turtle.color(255,20,100)\n"
      ],
      "metadata": {
        "id": "EJQNtBkauiO8"
      },
      "execution_count": 73,
      "outputs": []
    },
    {
      "cell_type": "code",
      "source": [
        "initialize()"
      ],
      "metadata": {
        "colab": {
          "base_uri": "https://localhost:8080/",
          "height": 321
        },
        "id": "AzVk8FfhurHq",
        "outputId": "0f0ea7bf-75c6-4f11-ba43-5e503bc1f3ac"
      },
      "execution_count": 74,
      "outputs": [
        {
          "output_type": "display_data",
          "data": {
            "text/plain": [
              "<IPython.core.display.HTML object>"
            ],
            "text/html": [
              "\n",
              "      <svg width=\"300\" height=\"300\">  \n",
              "        <rect width=\"100%\" height=\"100%\" style=\"fill:white;stroke:;stroke-width:1\"/>\n",
              "        \n",
              "        \n",
              "        \n",
              "        \n",
              "        \n",
              "        <g id=\"classic\" visibility=\"visible\" transform=\"rotate(0,200.0,50.0) translate(200.0, 50.0)\">\n",
              "<polygon points=\"-5,-4.5 0,-2.5 5,-4.5 0,4.5\" transform=\"skewX(0) scale(1,1)\" style=\"stroke:rgb(255,20,100);fill:rgb(255,20,100);stroke-width:1\" />\n",
              "</g>\n",
              "      </svg>\n",
              "    "
            ]
          },
          "metadata": {}
        }
      ]
    },
    {
      "cell_type": "code",
      "source": [
        "#drawing hexagon\n",
        "no_of_sides = 6\n",
        "angle = 360/no_of_sides\n",
        "initialize()\n",
        "for i in range(no_of_sides):\n",
        "  turtle.forward(100)\n",
        "  turtle.right(angle)\n",
        "\n"
      ],
      "metadata": {
        "colab": {
          "base_uri": "https://localhost:8080/",
          "height": 321
        },
        "id": "lBO0lFI_uaJO",
        "outputId": "d3f5e5d2-6724-4738-9b55-c25747beb77a"
      },
      "execution_count": 75,
      "outputs": [
        {
          "output_type": "display_data",
          "data": {
            "text/plain": [
              "<IPython.core.display.HTML object>"
            ],
            "text/html": [
              "\n",
              "      <svg width=\"300\" height=\"300\">  \n",
              "        <rect width=\"100%\" height=\"100%\" style=\"fill:white;stroke:;stroke-width:1\"/>\n",
              "        \n",
              "        \n",
              "        <line x1=\"200.0\" y1=\"50.0\" x2=\"200.0\" y2=\"150.0\" stroke-linecap=\"round\" style=\"stroke:rgb(255,20,100);stroke-width:1\" /><line x1=\"200.0\" y1=\"150.0\" x2=\"113.397\" y2=\"200.0\" stroke-linecap=\"round\" style=\"stroke:rgb(255,20,100);stroke-width:1\" /><line x1=\"113.397\" y1=\"200.0\" x2=\"26.794\" y2=\"150.0\" stroke-linecap=\"round\" style=\"stroke:rgb(255,20,100);stroke-width:1\" /><line x1=\"26.794\" y1=\"150.0\" x2=\"26.794\" y2=\"50.0\" stroke-linecap=\"round\" style=\"stroke:rgb(255,20,100);stroke-width:1\" /><line x1=\"26.794\" y1=\"50.0\" x2=\"113.397\" y2=\"-0.0\" stroke-linecap=\"round\" style=\"stroke:rgb(255,20,100);stroke-width:1\" /><line x1=\"113.397\" y1=\"-0.0\" x2=\"200.0\" y2=\"50.0\" stroke-linecap=\"round\" style=\"stroke:rgb(255,20,100);stroke-width:1\" />\n",
              "        \n",
              "        \n",
              "        <g id=\"classic\" visibility=\"visible\" transform=\"rotate(-60.0,200.0,50.0) translate(200.0, 50.0)\">\n",
              "<polygon points=\"-5,-4.5 0,-2.5 5,-4.5 0,4.5\" transform=\"skewX(0) scale(1,1)\" style=\"stroke:rgb(255,20,100);fill:rgb(255,20,100);stroke-width:1\" />\n",
              "<animateTransform id = \"one\" attributeName=\"transform\" \n",
              "                      type=\"scale\"\n",
              "                      from=\"1 1\" to=\"1 1\"\n",
              "                      begin=\"0s\" dur=\"0.01s\"\n",
              "                      repeatCount=\"1\"\n",
              "                      additive=\"sum\"\n",
              "                      fill=\"freeze\"\n",
              "                /><animateTransform attributeName=\"transform\"\n",
              "                    type=\"rotate\"\n",
              "                    from=\"0 0 0\" to =\"60.0 0 0\"\n",
              "                    begin=\"one.end\" dur=\"0.16666666666666666s\"\n",
              "                    repeatCount=\"1\"\n",
              "                    additive=\"sum\"\n",
              "                    fill=\"freeze\"\n",
              "                /></g>\n",
              "      </svg>\n",
              "    "
            ]
          },
          "metadata": {}
        }
      ]
    },
    {
      "cell_type": "code",
      "source": [
        "#drawing pentagon\n",
        "no_of_sides = 5\n",
        "angle = 360/no_of_sides\n",
        "initialize()\n",
        "for i in range(no_of_sides):\n",
        "  turtle.forward(100)\n",
        "  turtle.right(angle)\n",
        "\n"
      ],
      "metadata": {
        "colab": {
          "base_uri": "https://localhost:8080/",
          "height": 321
        },
        "id": "rGil5MAXw2yP",
        "outputId": "ef0df8c9-9e00-46b7-c1e2-bad2927cc554"
      },
      "execution_count": 76,
      "outputs": [
        {
          "output_type": "display_data",
          "data": {
            "text/plain": [
              "<IPython.core.display.HTML object>"
            ],
            "text/html": [
              "\n",
              "      <svg width=\"300\" height=\"300\">  \n",
              "        <rect width=\"100%\" height=\"100%\" style=\"fill:white;stroke:;stroke-width:1\"/>\n",
              "        \n",
              "        \n",
              "        <line x1=\"200.0\" y1=\"50.0\" x2=\"200.0\" y2=\"150.0\" stroke-linecap=\"round\" style=\"stroke:rgb(255,20,100);stroke-width:1\" /><line x1=\"200.0\" y1=\"150.0\" x2=\"104.894\" y2=\"180.902\" stroke-linecap=\"round\" style=\"stroke:rgb(255,20,100);stroke-width:1\" /><line x1=\"104.894\" y1=\"180.902\" x2=\"46.115\" y2=\"100.0\" stroke-linecap=\"round\" style=\"stroke:rgb(255,20,100);stroke-width:1\" /><line x1=\"46.115\" y1=\"100.0\" x2=\"104.894\" y2=\"19.098\" stroke-linecap=\"round\" style=\"stroke:rgb(255,20,100);stroke-width:1\" /><line x1=\"104.894\" y1=\"19.098\" x2=\"200.0\" y2=\"50.0\" stroke-linecap=\"round\" style=\"stroke:rgb(255,20,100);stroke-width:1\" />\n",
              "        \n",
              "        \n",
              "        <g id=\"classic\" visibility=\"visible\" transform=\"rotate(-72.0,200.0,50.0) translate(200.0, 50.0)\">\n",
              "<polygon points=\"-5,-4.5 0,-2.5 5,-4.5 0,4.5\" transform=\"skewX(0) scale(1,1)\" style=\"stroke:rgb(255,20,100);fill:rgb(255,20,100);stroke-width:1\" />\n",
              "<animateTransform id = \"one\" attributeName=\"transform\" \n",
              "                      type=\"scale\"\n",
              "                      from=\"1 1\" to=\"1 1\"\n",
              "                      begin=\"0s\" dur=\"0.01s\"\n",
              "                      repeatCount=\"1\"\n",
              "                      additive=\"sum\"\n",
              "                      fill=\"freeze\"\n",
              "                /><animateTransform attributeName=\"transform\"\n",
              "                    type=\"rotate\"\n",
              "                    from=\"0 0 0\" to =\"72.0 0 0\"\n",
              "                    begin=\"one.end\" dur=\"0.2s\"\n",
              "                    repeatCount=\"1\"\n",
              "                    additive=\"sum\"\n",
              "                    fill=\"freeze\"\n",
              "                /></g>\n",
              "      </svg>\n",
              "    "
            ]
          },
          "metadata": {}
        }
      ]
    },
    {
      "cell_type": "code",
      "source": [
        "#drawing rectangle\n",
        "no_of_sides = 4\n",
        "angle = 360/no_of_sides\n",
        "initialize()\n",
        "for i in range(no_of_sides):\n",
        "  turtle.forward(100)\n",
        "  turtle.right(angle)\n",
        "\n"
      ],
      "metadata": {
        "colab": {
          "base_uri": "https://localhost:8080/",
          "height": 321
        },
        "id": "BaKMNX_SxDfn",
        "outputId": "65a444a6-cc62-40b7-9d4d-2f92c2affc53"
      },
      "execution_count": 77,
      "outputs": [
        {
          "output_type": "display_data",
          "data": {
            "text/plain": [
              "<IPython.core.display.HTML object>"
            ],
            "text/html": [
              "\n",
              "      <svg width=\"300\" height=\"300\">  \n",
              "        <rect width=\"100%\" height=\"100%\" style=\"fill:white;stroke:;stroke-width:1\"/>\n",
              "        \n",
              "        \n",
              "        <line x1=\"200.0\" y1=\"50.0\" x2=\"200.0\" y2=\"150.0\" stroke-linecap=\"round\" style=\"stroke:rgb(255,20,100);stroke-width:1\" /><line x1=\"200.0\" y1=\"150.0\" x2=\"100.0\" y2=\"150.0\" stroke-linecap=\"round\" style=\"stroke:rgb(255,20,100);stroke-width:1\" /><line x1=\"100.0\" y1=\"150.0\" x2=\"100.0\" y2=\"50.0\" stroke-linecap=\"round\" style=\"stroke:rgb(255,20,100);stroke-width:1\" /><line x1=\"100.0\" y1=\"50.0\" x2=\"200.0\" y2=\"50.0\" stroke-linecap=\"round\" style=\"stroke:rgb(255,20,100);stroke-width:1\" />\n",
              "        \n",
              "        \n",
              "        <g id=\"classic\" visibility=\"visible\" transform=\"rotate(-90.0,200.0,50.0) translate(200.0, 50.0)\">\n",
              "<polygon points=\"-5,-4.5 0,-2.5 5,-4.5 0,4.5\" transform=\"skewX(0) scale(1,1)\" style=\"stroke:rgb(255,20,100);fill:rgb(255,20,100);stroke-width:1\" />\n",
              "<animateTransform id = \"one\" attributeName=\"transform\" \n",
              "                      type=\"scale\"\n",
              "                      from=\"1 1\" to=\"1 1\"\n",
              "                      begin=\"0s\" dur=\"0.01s\"\n",
              "                      repeatCount=\"1\"\n",
              "                      additive=\"sum\"\n",
              "                      fill=\"freeze\"\n",
              "                /><animateTransform attributeName=\"transform\"\n",
              "                    type=\"rotate\"\n",
              "                    from=\"0 0 0\" to =\"90.0 0 0\"\n",
              "                    begin=\"one.end\" dur=\"0.25s\"\n",
              "                    repeatCount=\"1\"\n",
              "                    additive=\"sum\"\n",
              "                    fill=\"freeze\"\n",
              "                /></g>\n",
              "      </svg>\n",
              "    "
            ]
          },
          "metadata": {}
        }
      ]
    },
    {
      "cell_type": "code",
      "source": [
        "#Drawing circle\n",
        "initialize()\n",
        "turtle.penup()\n",
        "turtle.goto(-100,0)\n",
        "turtle.pendown()\n",
        "turtle.circle(100)"
      ],
      "metadata": {
        "colab": {
          "base_uri": "https://localhost:8080/",
          "height": 321
        },
        "id": "Wgj9zSt5xGlT",
        "outputId": "0c4e0d7c-8331-4a8d-da45-fab707320791"
      },
      "execution_count": 84,
      "outputs": [
        {
          "output_type": "display_data",
          "data": {
            "text/plain": [
              "<IPython.core.display.HTML object>"
            ],
            "text/html": [
              "\n",
              "      <svg width=\"300\" height=\"300\">  \n",
              "        <rect width=\"100%\" height=\"100%\" style=\"fill:white;stroke:;stroke-width:1\"/>\n",
              "        \n",
              "        \n",
              "        <path d=\"M 50.0 150.0 A 100 100 0 0 0 53.407 175.882\" stroke-linecap=\"round\" \n",
              "            fill=\"transparent\" fill-opacity=\"0\" style=\"stroke:rgb(255,20,100);stroke-width:1\"/><path d=\"M 53.407 175.882 A 100 100 0 0 0 63.397 200.0\" stroke-linecap=\"round\" \n",
              "            fill=\"transparent\" fill-opacity=\"0\" style=\"stroke:rgb(255,20,100);stroke-width:1\"/><path d=\"M 63.397 200.0 A 100 100 0 0 0 79.289 220.711\" stroke-linecap=\"round\" \n",
              "            fill=\"transparent\" fill-opacity=\"0\" style=\"stroke:rgb(255,20,100);stroke-width:1\"/><path d=\"M 79.289 220.711 A 100 100 0 0 0 100.0 236.603\" stroke-linecap=\"round\" \n",
              "            fill=\"transparent\" fill-opacity=\"0\" style=\"stroke:rgb(255,20,100);stroke-width:1\"/><path d=\"M 100.0 236.603 A 100 100 0 0 0 124.118 246.593\" stroke-linecap=\"round\" \n",
              "            fill=\"transparent\" fill-opacity=\"0\" style=\"stroke:rgb(255,20,100);stroke-width:1\"/><path d=\"M 124.118 246.593 A 100 100 0 0 0 150.0 250.0\" stroke-linecap=\"round\" \n",
              "            fill=\"transparent\" fill-opacity=\"0\" style=\"stroke:rgb(255,20,100);stroke-width:1\"/><path d=\"M 150.0 250.0 A 100 100 0 0 0 175.882 246.593\" stroke-linecap=\"round\" \n",
              "            fill=\"transparent\" fill-opacity=\"0\" style=\"stroke:rgb(255,20,100);stroke-width:1\"/><path d=\"M 175.882 246.593 A 100 100 0 0 0 200.0 236.603\" stroke-linecap=\"round\" \n",
              "            fill=\"transparent\" fill-opacity=\"0\" style=\"stroke:rgb(255,20,100);stroke-width:1\"/><path d=\"M 200.0 236.603 A 100 100 0 0 0 220.711 220.711\" stroke-linecap=\"round\" \n",
              "            fill=\"transparent\" fill-opacity=\"0\" style=\"stroke:rgb(255,20,100);stroke-width:1\"/><path d=\"M 220.711 220.711 A 100 100 0 0 0 236.603 200.0\" stroke-linecap=\"round\" \n",
              "            fill=\"transparent\" fill-opacity=\"0\" style=\"stroke:rgb(255,20,100);stroke-width:1\"/><path d=\"M 236.603 200.0 A 100 100 0 0 0 246.593 175.882\" stroke-linecap=\"round\" \n",
              "            fill=\"transparent\" fill-opacity=\"0\" style=\"stroke:rgb(255,20,100);stroke-width:1\"/><path d=\"M 246.593 175.882 A 100 100 0 0 0 250.0 150.0\" stroke-linecap=\"round\" \n",
              "            fill=\"transparent\" fill-opacity=\"0\" style=\"stroke:rgb(255,20,100);stroke-width:1\"/><path d=\"M 250.0 150.0 A 100 100 0 0 0 246.593 124.118\" stroke-linecap=\"round\" \n",
              "            fill=\"transparent\" fill-opacity=\"0\" style=\"stroke:rgb(255,20,100);stroke-width:1\"/><path d=\"M 246.593 124.118 A 100 100 0 0 0 236.603 100.0\" stroke-linecap=\"round\" \n",
              "            fill=\"transparent\" fill-opacity=\"0\" style=\"stroke:rgb(255,20,100);stroke-width:1\"/><path d=\"M 236.603 100.0 A 100 100 0 0 0 220.711 79.289\" stroke-linecap=\"round\" \n",
              "            fill=\"transparent\" fill-opacity=\"0\" style=\"stroke:rgb(255,20,100);stroke-width:1\"/><path d=\"M 220.711 79.289 A 100 100 0 0 0 200.0 63.397\" stroke-linecap=\"round\" \n",
              "            fill=\"transparent\" fill-opacity=\"0\" style=\"stroke:rgb(255,20,100);stroke-width:1\"/><path d=\"M 200.0 63.397 A 100 100 0 0 0 175.882 53.407\" stroke-linecap=\"round\" \n",
              "            fill=\"transparent\" fill-opacity=\"0\" style=\"stroke:rgb(255,20,100);stroke-width:1\"/><path d=\"M 175.882 53.407 A 100 100 0 0 0 150.0 50.0\" stroke-linecap=\"round\" \n",
              "            fill=\"transparent\" fill-opacity=\"0\" style=\"stroke:rgb(255,20,100);stroke-width:1\"/><path d=\"M 150.0 50.0 A 100 100 0 0 0 124.118 53.407\" stroke-linecap=\"round\" \n",
              "            fill=\"transparent\" fill-opacity=\"0\" style=\"stroke:rgb(255,20,100);stroke-width:1\"/><path d=\"M 124.118 53.407 A 100 100 0 0 0 100.0 63.397\" stroke-linecap=\"round\" \n",
              "            fill=\"transparent\" fill-opacity=\"0\" style=\"stroke:rgb(255,20,100);stroke-width:1\"/><path d=\"M 100.0 63.397 A 100 100 0 0 0 79.289 79.289\" stroke-linecap=\"round\" \n",
              "            fill=\"transparent\" fill-opacity=\"0\" style=\"stroke:rgb(255,20,100);stroke-width:1\"/><path d=\"M 79.289 79.289 A 100 100 0 0 0 63.397 100.0\" stroke-linecap=\"round\" \n",
              "            fill=\"transparent\" fill-opacity=\"0\" style=\"stroke:rgb(255,20,100);stroke-width:1\"/><path d=\"M 63.397 100.0 A 100 100 0 0 0 53.407 124.118\" stroke-linecap=\"round\" \n",
              "            fill=\"transparent\" fill-opacity=\"0\" style=\"stroke:rgb(255,20,100);stroke-width:1\"/><path d=\"M 53.407 124.118 A 100 100 0 0 0 50.0 150.0\" stroke-linecap=\"round\" \n",
              "            fill=\"transparent\" fill-opacity=\"0\" style=\"stroke:rgb(255,20,100);stroke-width:1\"/>\n",
              "        \n",
              "        \n",
              "        <g id=\"classic\" visibility=\"visible\" transform=\"rotate(0.0,50.0,150.0) translate(50.0, 150.0)\">\n",
              "<polygon points=\"-5,-4.5 0,-2.5 5,-4.5 0,4.5\" transform=\"skewX(0) scale(1,1)\" style=\"stroke:rgb(255,20,100);fill:rgb(255,20,100);stroke-width:1\" />\n",
              "</g>\n",
              "      </svg>\n",
              "    "
            ]
          },
          "metadata": {}
        }
      ]
    },
    {
      "cell_type": "markdown",
      "source": [
        "#Abstract Class"
      ],
      "metadata": {
        "id": "8TVFysbPzWUG"
      }
    },
    {
      "cell_type": "code",
      "source": [
        "from abc import ABC, abstractmethod"
      ],
      "metadata": {
        "id": "zojwijeQzjpX"
      },
      "execution_count": 85,
      "outputs": []
    },
    {
      "cell_type": "code",
      "source": [
        "#Let us have an abstract class named shape\n",
        "class Shape(ABC):\n",
        "\n",
        "  @abstractmethod\n",
        "  def area(self):\n",
        "    pass\n",
        "  \n",
        "  @abstractmethod\n",
        "  def draw_me(self):\n",
        "    pass\n",
        "\n",
        "  @staticmethod\n",
        "  def initialize():\n",
        "    turtle.clearscreen()\n",
        "    turtle.setup(300,300)\n",
        "    turtle.color(255,20,100)\n",
        "    turtle.penup()\n",
        "    turtle.goto(+50,+100)\n",
        "    turtle.pendown()\n",
        "    turtle.right(90)\n",
        "    turtle.color(255,20,100)\n"
      ],
      "metadata": {
        "id": "CRfSz8YAxoqK"
      },
      "execution_count": 99,
      "outputs": []
    },
    {
      "cell_type": "code",
      "source": [
        "import math"
      ],
      "metadata": {
        "id": "FLlA99sM0ZA6"
      },
      "execution_count": 87,
      "outputs": []
    },
    {
      "cell_type": "code",
      "source": [
        "class Circle(Shape):\n",
        "\n",
        "  def __init__(self,radius):\n",
        "    self.radius = radius\n",
        "\n",
        "  \n",
        "\n",
        "  @property\n",
        "  def area(self):\n",
        "    return math.pi*math.pi*self.radius\n",
        "\n",
        "  def draw_me(self):\n",
        "    #Drawing circle\n",
        "    self.initialize()\n",
        "    turtle.penup()\n",
        "    turtle.goto(-100,0)\n",
        "    turtle.pendown()\n",
        "    turtle.circle(self.radius)\n",
        "\n",
        "  \n",
        "\n",
        "\n"
      ],
      "metadata": {
        "id": "BapDnSTs0HSj"
      },
      "execution_count": 104,
      "outputs": []
    },
    {
      "cell_type": "code",
      "source": [
        "#trying to instantiate shape\n",
        "shape1 = Shape()"
      ],
      "metadata": {
        "colab": {
          "base_uri": "https://localhost:8080/",
          "height": 183
        },
        "id": "UKgZNSu01kAl",
        "outputId": "48203d3f-a218-4b56-87a7-275ed80cfc1b"
      },
      "execution_count": 105,
      "outputs": [
        {
          "output_type": "error",
          "ename": "TypeError",
          "evalue": "ignored",
          "traceback": [
            "\u001b[0;31m---------------------------------------------------------------------------\u001b[0m",
            "\u001b[0;31mTypeError\u001b[0m                                 Traceback (most recent call last)",
            "\u001b[0;32m<ipython-input-105-b62a38dcfc95>\u001b[0m in \u001b[0;36m<module>\u001b[0;34m\u001b[0m\n\u001b[1;32m      1\u001b[0m \u001b[0;31m#trying to instantiate shape\u001b[0m\u001b[0;34m\u001b[0m\u001b[0;34m\u001b[0m\u001b[0;34m\u001b[0m\u001b[0m\n\u001b[0;32m----> 2\u001b[0;31m \u001b[0mshape1\u001b[0m \u001b[0;34m=\u001b[0m \u001b[0mShape\u001b[0m\u001b[0;34m(\u001b[0m\u001b[0;34m)\u001b[0m\u001b[0;34m\u001b[0m\u001b[0;34m\u001b[0m\u001b[0m\n\u001b[0m",
            "\u001b[0;31mTypeError\u001b[0m: Can't instantiate abstract class Shape with abstract methods area, draw_me"
          ]
        }
      ]
    },
    {
      "cell_type": "code",
      "source": [
        "c1 = Circle(50)"
      ],
      "metadata": {
        "id": "ahCe1PVV0oHO"
      },
      "execution_count": 106,
      "outputs": []
    },
    {
      "cell_type": "code",
      "source": [
        "c1.area"
      ],
      "metadata": {
        "colab": {
          "base_uri": "https://localhost:8080/"
        },
        "id": "Ef9-ZLCc2VeQ",
        "outputId": "dfeb40f4-866f-49b7-a6b1-16dd0796a73b"
      },
      "execution_count": 107,
      "outputs": [
        {
          "output_type": "execute_result",
          "data": {
            "text/plain": [
              "493.4802200544679"
            ]
          },
          "metadata": {},
          "execution_count": 107
        }
      ]
    },
    {
      "cell_type": "code",
      "source": [
        "c1.draw_me()"
      ],
      "metadata": {
        "colab": {
          "base_uri": "https://localhost:8080/",
          "height": 321
        },
        "id": "YEE3z2JD1LDS",
        "outputId": "2cb79f1f-2fed-4da7-a172-f67d4964ad8b"
      },
      "execution_count": 108,
      "outputs": [
        {
          "output_type": "display_data",
          "data": {
            "text/plain": [
              "<IPython.core.display.HTML object>"
            ],
            "text/html": [
              "\n",
              "      <svg width=\"300\" height=\"300\">  \n",
              "        <rect width=\"100%\" height=\"100%\" style=\"fill:white;stroke:;stroke-width:1\"/>\n",
              "        \n",
              "        \n",
              "        <path d=\"M 50.0 150.0 A 50 50 0 0 0 51.704 162.941\" stroke-linecap=\"round\" \n",
              "            fill=\"transparent\" fill-opacity=\"0\" style=\"stroke:rgb(255,20,100);stroke-width:1\"/><path d=\"M 51.704 162.941 A 50 50 0 0 0 56.699 175.0\" stroke-linecap=\"round\" \n",
              "            fill=\"transparent\" fill-opacity=\"0\" style=\"stroke:rgb(255,20,100);stroke-width:1\"/><path d=\"M 56.699 175.0 A 50 50 0 0 0 64.645 185.355\" stroke-linecap=\"round\" \n",
              "            fill=\"transparent\" fill-opacity=\"0\" style=\"stroke:rgb(255,20,100);stroke-width:1\"/><path d=\"M 64.645 185.355 A 50 50 0 0 0 75.0 193.301\" stroke-linecap=\"round\" \n",
              "            fill=\"transparent\" fill-opacity=\"0\" style=\"stroke:rgb(255,20,100);stroke-width:1\"/><path d=\"M 75.0 193.301 A 50 50 0 0 0 87.059 198.296\" stroke-linecap=\"round\" \n",
              "            fill=\"transparent\" fill-opacity=\"0\" style=\"stroke:rgb(255,20,100);stroke-width:1\"/><path d=\"M 87.059 198.296 A 50 50 0 0 0 100.0 200.0\" stroke-linecap=\"round\" \n",
              "            fill=\"transparent\" fill-opacity=\"0\" style=\"stroke:rgb(255,20,100);stroke-width:1\"/><path d=\"M 100.0 200.0 A 50 50 0 0 0 112.941 198.296\" stroke-linecap=\"round\" \n",
              "            fill=\"transparent\" fill-opacity=\"0\" style=\"stroke:rgb(255,20,100);stroke-width:1\"/><path d=\"M 112.941 198.296 A 50 50 0 0 0 125.0 193.301\" stroke-linecap=\"round\" \n",
              "            fill=\"transparent\" fill-opacity=\"0\" style=\"stroke:rgb(255,20,100);stroke-width:1\"/><path d=\"M 125.0 193.301 A 50 50 0 0 0 135.355 185.355\" stroke-linecap=\"round\" \n",
              "            fill=\"transparent\" fill-opacity=\"0\" style=\"stroke:rgb(255,20,100);stroke-width:1\"/><path d=\"M 135.355 185.355 A 50 50 0 0 0 143.301 175.0\" stroke-linecap=\"round\" \n",
              "            fill=\"transparent\" fill-opacity=\"0\" style=\"stroke:rgb(255,20,100);stroke-width:1\"/><path d=\"M 143.301 175.0 A 50 50 0 0 0 148.296 162.941\" stroke-linecap=\"round\" \n",
              "            fill=\"transparent\" fill-opacity=\"0\" style=\"stroke:rgb(255,20,100);stroke-width:1\"/><path d=\"M 148.296 162.941 A 50 50 0 0 0 150.0 150.0\" stroke-linecap=\"round\" \n",
              "            fill=\"transparent\" fill-opacity=\"0\" style=\"stroke:rgb(255,20,100);stroke-width:1\"/><path d=\"M 150.0 150.0 A 50 50 0 0 0 148.296 137.059\" stroke-linecap=\"round\" \n",
              "            fill=\"transparent\" fill-opacity=\"0\" style=\"stroke:rgb(255,20,100);stroke-width:1\"/><path d=\"M 148.296 137.059 A 50 50 0 0 0 143.301 125.0\" stroke-linecap=\"round\" \n",
              "            fill=\"transparent\" fill-opacity=\"0\" style=\"stroke:rgb(255,20,100);stroke-width:1\"/><path d=\"M 143.301 125.0 A 50 50 0 0 0 135.355 114.645\" stroke-linecap=\"round\" \n",
              "            fill=\"transparent\" fill-opacity=\"0\" style=\"stroke:rgb(255,20,100);stroke-width:1\"/><path d=\"M 135.355 114.645 A 50 50 0 0 0 125.0 106.699\" stroke-linecap=\"round\" \n",
              "            fill=\"transparent\" fill-opacity=\"0\" style=\"stroke:rgb(255,20,100);stroke-width:1\"/><path d=\"M 125.0 106.699 A 50 50 0 0 0 112.941 101.704\" stroke-linecap=\"round\" \n",
              "            fill=\"transparent\" fill-opacity=\"0\" style=\"stroke:rgb(255,20,100);stroke-width:1\"/><path d=\"M 112.941 101.704 A 50 50 0 0 0 100.0 100.0\" stroke-linecap=\"round\" \n",
              "            fill=\"transparent\" fill-opacity=\"0\" style=\"stroke:rgb(255,20,100);stroke-width:1\"/><path d=\"M 100.0 100.0 A 50 50 0 0 0 87.059 101.704\" stroke-linecap=\"round\" \n",
              "            fill=\"transparent\" fill-opacity=\"0\" style=\"stroke:rgb(255,20,100);stroke-width:1\"/><path d=\"M 87.059 101.704 A 50 50 0 0 0 75.0 106.699\" stroke-linecap=\"round\" \n",
              "            fill=\"transparent\" fill-opacity=\"0\" style=\"stroke:rgb(255,20,100);stroke-width:1\"/><path d=\"M 75.0 106.699 A 50 50 0 0 0 64.645 114.645\" stroke-linecap=\"round\" \n",
              "            fill=\"transparent\" fill-opacity=\"0\" style=\"stroke:rgb(255,20,100);stroke-width:1\"/><path d=\"M 64.645 114.645 A 50 50 0 0 0 56.699 125.0\" stroke-linecap=\"round\" \n",
              "            fill=\"transparent\" fill-opacity=\"0\" style=\"stroke:rgb(255,20,100);stroke-width:1\"/><path d=\"M 56.699 125.0 A 50 50 0 0 0 51.704 137.059\" stroke-linecap=\"round\" \n",
              "            fill=\"transparent\" fill-opacity=\"0\" style=\"stroke:rgb(255,20,100);stroke-width:1\"/><path d=\"M 51.704 137.059 A 50 50 0 0 0 50.0 150.0\" stroke-linecap=\"round\" \n",
              "            fill=\"transparent\" fill-opacity=\"0\" style=\"stroke:rgb(255,20,100);stroke-width:1\"/>\n",
              "        \n",
              "        \n",
              "        <g id=\"classic\" visibility=\"visible\" transform=\"rotate(0.0,50.0,150.0) translate(50.0, 150.0)\">\n",
              "<polygon points=\"-5,-4.5 0,-2.5 5,-4.5 0,4.5\" transform=\"skewX(0) scale(1,1)\" style=\"stroke:rgb(255,20,100);fill:rgb(255,20,100);stroke-width:1\" />\n",
              "</g>\n",
              "      </svg>\n",
              "    "
            ]
          },
          "metadata": {}
        }
      ]
    },
    {
      "cell_type": "code",
      "source": [
        "class Square(Shape):\n",
        "\n",
        "  def __init__(self,side_length):\n",
        "    self.length = side_length\n",
        "\n",
        "  @property\n",
        "  def area(self):\n",
        "    return self.length * self.length\n",
        "\n",
        "  def draw_me(self):\n",
        "    #Drawing square\n",
        "    self.initialize()\n",
        "    no_of_sides = 4\n",
        "    angle = 360/no_of_sides\n",
        "    for i in range(no_of_sides):\n",
        "      turtle.forward(self.length)\n",
        "      turtle.right(angle)\n",
        "\n"
      ],
      "metadata": {
        "id": "t6f4LAgI1SLh"
      },
      "execution_count": 114,
      "outputs": []
    },
    {
      "cell_type": "code",
      "source": [
        "sq1 = Square(75)"
      ],
      "metadata": {
        "id": "285curVn2-4T"
      },
      "execution_count": 115,
      "outputs": []
    },
    {
      "cell_type": "code",
      "source": [
        "sq1.draw_me()"
      ],
      "metadata": {
        "colab": {
          "base_uri": "https://localhost:8080/",
          "height": 321
        },
        "id": "TduS9GNs3FIw",
        "outputId": "690dc95e-6f05-41ed-9f87-6d250eab01cc"
      },
      "execution_count": 116,
      "outputs": [
        {
          "output_type": "display_data",
          "data": {
            "text/plain": [
              "<IPython.core.display.HTML object>"
            ],
            "text/html": [
              "\n",
              "      <svg width=\"300\" height=\"300\">  \n",
              "        <rect width=\"100%\" height=\"100%\" style=\"fill:white;stroke:;stroke-width:1\"/>\n",
              "        \n",
              "        \n",
              "        <line x1=\"200.0\" y1=\"50.0\" x2=\"200.0\" y2=\"125.0\" stroke-linecap=\"round\" style=\"stroke:rgb(255,20,100);stroke-width:1\" /><line x1=\"200.0\" y1=\"125.0\" x2=\"125.0\" y2=\"125.0\" stroke-linecap=\"round\" style=\"stroke:rgb(255,20,100);stroke-width:1\" /><line x1=\"125.0\" y1=\"125.0\" x2=\"125.0\" y2=\"50.0\" stroke-linecap=\"round\" style=\"stroke:rgb(255,20,100);stroke-width:1\" /><line x1=\"125.0\" y1=\"50.0\" x2=\"200.0\" y2=\"50.0\" stroke-linecap=\"round\" style=\"stroke:rgb(255,20,100);stroke-width:1\" />\n",
              "        \n",
              "        \n",
              "        <g id=\"classic\" visibility=\"visible\" transform=\"rotate(-90.0,200.0,50.0) translate(200.0, 50.0)\">\n",
              "<polygon points=\"-5,-4.5 0,-2.5 5,-4.5 0,4.5\" transform=\"skewX(0) scale(1,1)\" style=\"stroke:rgb(255,20,100);fill:rgb(255,20,100);stroke-width:1\" />\n",
              "<animateTransform id = \"one\" attributeName=\"transform\" \n",
              "                      type=\"scale\"\n",
              "                      from=\"1 1\" to=\"1 1\"\n",
              "                      begin=\"0s\" dur=\"0.01s\"\n",
              "                      repeatCount=\"1\"\n",
              "                      additive=\"sum\"\n",
              "                      fill=\"freeze\"\n",
              "                /><animateTransform attributeName=\"transform\"\n",
              "                    type=\"rotate\"\n",
              "                    from=\"0 0 0\" to =\"90.0 0 0\"\n",
              "                    begin=\"one.end\" dur=\"0.25s\"\n",
              "                    repeatCount=\"1\"\n",
              "                    additive=\"sum\"\n",
              "                    fill=\"freeze\"\n",
              "                /></g>\n",
              "      </svg>\n",
              "    "
            ]
          },
          "metadata": {}
        }
      ]
    },
    {
      "cell_type": "code",
      "source": [
        "sq1.area"
      ],
      "metadata": {
        "colab": {
          "base_uri": "https://localhost:8080/"
        },
        "id": "8Qj7Qk2V3Hyx",
        "outputId": "b1851e7a-ca2c-4df5-eb04-f2fd06d4dd1f"
      },
      "execution_count": 117,
      "outputs": [
        {
          "output_type": "execute_result",
          "data": {
            "text/plain": [
              "5625"
            ]
          },
          "metadata": {},
          "execution_count": 117
        }
      ]
    },
    {
      "cell_type": "code",
      "source": [
        "class eq_triangle(Shape):\n",
        "\n",
        "  def __init__(self,side_length):\n",
        "    self.length = side_length\n",
        "\n",
        "  @property\n",
        "  def area(self):\n",
        "    return (math.sqrt(3)/4)*self.length \n",
        "\n",
        "  def draw_me(self):\n",
        "    #Drawing square\n",
        "    self.initialize()\n",
        "    no_of_sides = 3\n",
        "    angle = 360/no_of_sides\n",
        "    for i in range(no_of_sides):\n",
        "      turtle.forward(self.length)\n",
        "      turtle.right(angle)\n",
        "\n"
      ],
      "metadata": {
        "id": "WHDFLszY3QuH"
      },
      "execution_count": 118,
      "outputs": []
    },
    {
      "cell_type": "code",
      "source": [
        "tr1 = eq_triangle(85)"
      ],
      "metadata": {
        "id": "HUh59_qA3mtj"
      },
      "execution_count": 119,
      "outputs": []
    },
    {
      "cell_type": "code",
      "source": [
        "tr1.area"
      ],
      "metadata": {
        "colab": {
          "base_uri": "https://localhost:8080/"
        },
        "id": "L24409Cv3qbU",
        "outputId": "d7811dce-bf97-4243-a468-26e33ba58bc8"
      },
      "execution_count": 120,
      "outputs": [
        {
          "output_type": "execute_result",
          "data": {
            "text/plain": [
              "36.80607966083864"
            ]
          },
          "metadata": {},
          "execution_count": 120
        }
      ]
    },
    {
      "cell_type": "code",
      "source": [
        "tr1.draw_me()"
      ],
      "metadata": {
        "colab": {
          "base_uri": "https://localhost:8080/",
          "height": 321
        },
        "id": "8-4JueZV3sC1",
        "outputId": "c847f26e-3f68-4549-a882-a70fa14d268d"
      },
      "execution_count": 121,
      "outputs": [
        {
          "output_type": "display_data",
          "data": {
            "text/plain": [
              "<IPython.core.display.HTML object>"
            ],
            "text/html": [
              "\n",
              "      <svg width=\"300\" height=\"300\">  \n",
              "        <rect width=\"100%\" height=\"100%\" style=\"fill:white;stroke:;stroke-width:1\"/>\n",
              "        \n",
              "        \n",
              "        <line x1=\"200.0\" y1=\"50.0\" x2=\"200.0\" y2=\"135.0\" stroke-linecap=\"round\" style=\"stroke:rgb(255,20,100);stroke-width:1\" /><line x1=\"200.0\" y1=\"135.0\" x2=\"126.388\" y2=\"92.5\" stroke-linecap=\"round\" style=\"stroke:rgb(255,20,100);stroke-width:1\" /><line x1=\"126.388\" y1=\"92.5\" x2=\"200.0\" y2=\"50.0\" stroke-linecap=\"round\" style=\"stroke:rgb(255,20,100);stroke-width:1\" />\n",
              "        \n",
              "        \n",
              "        <g id=\"classic\" visibility=\"visible\" transform=\"rotate(240.0,200.0,50.0) translate(200.0, 50.0)\">\n",
              "<polygon points=\"-5,-4.5 0,-2.5 5,-4.5 0,4.5\" transform=\"skewX(0) scale(1,1)\" style=\"stroke:rgb(255,20,100);fill:rgb(255,20,100);stroke-width:1\" />\n",
              "<animateTransform id = \"one\" attributeName=\"transform\" \n",
              "                      type=\"scale\"\n",
              "                      from=\"1 1\" to=\"1 1\"\n",
              "                      begin=\"0s\" dur=\"0.01s\"\n",
              "                      repeatCount=\"1\"\n",
              "                      additive=\"sum\"\n",
              "                      fill=\"freeze\"\n",
              "                /><animateTransform attributeName=\"transform\"\n",
              "                    type=\"rotate\"\n",
              "                    from=\"0 0 0\" to =\"120.0 0 0\"\n",
              "                    begin=\"one.end\" dur=\"0.3333333333333333s\"\n",
              "                    repeatCount=\"1\"\n",
              "                    additive=\"sum\"\n",
              "                    fill=\"freeze\"\n",
              "                /></g>\n",
              "      </svg>\n",
              "    "
            ]
          },
          "metadata": {}
        }
      ]
    },
    {
      "cell_type": "code",
      "source": [
        "#Basically using abstract class is like giving guidelines to write a report\n",
        "#Each report must be written with font size 14, font: Times New roman, reference style: APA ect"
      ],
      "metadata": {
        "id": "NI6_VwgK3ye_"
      },
      "execution_count": 122,
      "outputs": []
    }
  ]
}