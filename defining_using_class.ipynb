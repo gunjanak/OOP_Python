{
  "nbformat": 4,
  "nbformat_minor": 0,
  "metadata": {
    "colab": {
      "provenance": [],
      "authorship_tag": "ABX9TyOn/dgBmfMaO5vYKg/QyXpM",
      "include_colab_link": true
    },
    "kernelspec": {
      "name": "python3",
      "display_name": "Python 3"
    },
    "language_info": {
      "name": "python"
    }
  },
  "cells": [
    {
      "cell_type": "markdown",
      "metadata": {
        "id": "view-in-github",
        "colab_type": "text"
      },
      "source": [
        "<a href=\"https://colab.research.google.com/github/gunjanak/OOP_Python/blob/main/defining_using_class.ipynb\" target=\"_parent\"><img src=\"https://colab.research.google.com/assets/colab-badge.svg\" alt=\"Open In Colab\"/></a>"
      ]
    },
    {
      "cell_type": "code",
      "execution_count": 1,
      "metadata": {
        "id": "lKfmVUMrUCwu"
      },
      "outputs": [],
      "source": [
        "#here is an example of a simple custom class which stores information about a person\n",
        "\n",
        "#We will use this for date objets \n",
        "import datetime "
      ]
    },
    {
      "cell_type": "markdown",
      "source": [
        "Class = Code that defines what an object will remember (its data or state) and the things that \n",
        "it will be able to do (its functions or behavior)."
      ],
      "metadata": {
        "id": "TBMaHvbgZEJ7"
      }
    },
    {
      "cell_type": "code",
      "source": [
        "#We start the class definition with the class keyword, followed by the class name and a colon.\n",
        "#We have two functions here\n",
        "#Functions inside class are called methods\n",
        "#We have 'fullname' method and 'age' method\n",
        "#The fullname method will concatenate firstname and secondname and print fullname\n",
        "#The age method subtracts birth year with current year  \n"
      ],
      "metadata": {
        "id": "HgAxOBbDXl7d"
      },
      "execution_count": 2,
      "outputs": []
    },
    {
      "cell_type": "code",
      "source": [
        "class Human:\n",
        "\n",
        "  def fullname(self):\n",
        "    self.fullname = self.firstname + self.secondname \n",
        "    print('Hello: '+self.fullname)\n",
        "  def age(self):\n",
        "    today = datetime.date.today()\n",
        "    age = today.year - self.birthday.year\n",
        "    return age"
      ],
      "metadata": {
        "id": "CAy4cO6VVyhC"
      },
      "execution_count": 3,
      "outputs": []
    },
    {
      "cell_type": "markdown",
      "source": [
        "**instantiation : The process of creating an object from a class.**"
      ],
      "metadata": {
        "id": "deIJ7YLwZOkC"
      }
    },
    {
      "cell_type": "code",
      "source": [
        "#Here we instantiate the class\n",
        "human = Human()"
      ],
      "metadata": {
        "id": "jMCnHg4nWDOg"
      },
      "execution_count": 4,
      "outputs": []
    },
    {
      "cell_type": "code",
      "source": [
        "#We have not defined any variable(class variable or instance variable) while defining the class"
      ],
      "metadata": {
        "id": "153wy-DcafkG"
      },
      "execution_count": 5,
      "outputs": []
    },
    {
      "cell_type": "code",
      "source": [
        "#This is our first variable firstname\n",
        "human.firstname = 'Dev'"
      ],
      "metadata": {
        "id": "dRzpxYQnWSrS"
      },
      "execution_count": 6,
      "outputs": []
    },
    {
      "cell_type": "code",
      "source": [
        "#This is our second variable secondname\n",
        "human.secondname = 'Anand'"
      ],
      "metadata": {
        "id": "jZoojXt_a5iX"
      },
      "execution_count": 7,
      "outputs": []
    },
    {
      "cell_type": "code",
      "source": [
        "#We call the method fullname\n",
        "human.fullname()"
      ],
      "metadata": {
        "colab": {
          "base_uri": "https://localhost:8080/"
        },
        "id": "2XGv56iXWtFW",
        "outputId": "68622f97-cd89-45bb-bbf5-7977c6f1b5aa"
      },
      "execution_count": 8,
      "outputs": [
        {
          "output_type": "stream",
          "name": "stdout",
          "text": [
            "Hello: DevAnand\n"
          ]
        }
      ]
    },
    {
      "cell_type": "code",
      "source": [
        "#This is our third variable birthday\n",
        "human.birthday = datetime.date(1990,2,25)"
      ],
      "metadata": {
        "id": "gkrw-1FaWG5D"
      },
      "execution_count": 9,
      "outputs": []
    },
    {
      "cell_type": "code",
      "source": [
        "#We are calling another method age\n",
        "human.age()"
      ],
      "metadata": {
        "colab": {
          "base_uri": "https://localhost:8080/"
        },
        "id": "d2e2lhfRWNk9",
        "outputId": "271d46e3-ac96-4045-9655-04f0b4324c18"
      },
      "execution_count": 10,
      "outputs": [
        {
          "output_type": "execute_result",
          "data": {
            "text/plain": [
              "33"
            ]
          },
          "metadata": {},
          "execution_count": 10
        }
      ]
    },
    {
      "cell_type": "code",
      "source": [
        "type(human)"
      ],
      "metadata": {
        "colab": {
          "base_uri": "https://localhost:8080/"
        },
        "id": "GwZKq5A5W369",
        "outputId": "9a87e9f9-815c-4844-fe96-10b31f3c9a31"
      },
      "execution_count": 11,
      "outputs": [
        {
          "output_type": "execute_result",
          "data": {
            "text/plain": [
              "__main__.Human"
            ]
          },
          "metadata": {},
          "execution_count": 11
        }
      ]
    },
    {
      "cell_type": "code",
      "source": [
        "type(human.fullname)"
      ],
      "metadata": {
        "colab": {
          "base_uri": "https://localhost:8080/"
        },
        "id": "ervqp4vZW5LB",
        "outputId": "ab70d60b-1a70-47df-85f2-f307074134b7"
      },
      "execution_count": 12,
      "outputs": [
        {
          "output_type": "execute_result",
          "data": {
            "text/plain": [
              "str"
            ]
          },
          "metadata": {},
          "execution_count": 12
        }
      ]
    },
    {
      "cell_type": "code",
      "source": [
        "type(human.birthday)"
      ],
      "metadata": {
        "colab": {
          "base_uri": "https://localhost:8080/"
        },
        "id": "x6h0kSjOW955",
        "outputId": "47294788-2e0f-4edb-9cb0-4ae7111200e1"
      },
      "execution_count": 13,
      "outputs": [
        {
          "output_type": "execute_result",
          "data": {
            "text/plain": [
              "datetime.date"
            ]
          },
          "metadata": {},
          "execution_count": 13
        }
      ]
    },
    {
      "cell_type": "markdown",
      "source": [
        "#Using __init__"
      ],
      "metadata": {
        "id": "26_bAp3xbsyu"
      }
    },
    {
      "cell_type": "code",
      "source": [
        "class Person:\n",
        "  def __init__(self,firstname,secondname,birthday):\n",
        "    self.firstname = firstname\n",
        "    self.secondname = secondname\n",
        "    self.birthday = birthday\n",
        "\n",
        "  def fullname(self):\n",
        "    self.fullname = self.firstname + self.secondname \n",
        "    print('Hello: '+self.fullname)\n",
        "\n",
        "  def age(self):\n",
        "    today = datetime.date.today()\n",
        "    age = today.year - self.birthday.year\n",
        "    return age"
      ],
      "metadata": {
        "id": "pXGsJLQ9Udhh"
      },
      "execution_count": 14,
      "outputs": []
    },
    {
      "cell_type": "code",
      "source": [
        "person = Person(\"Jane\",\"Singh\",datetime.date(1992,3,12))"
      ],
      "metadata": {
        "id": "QsOktXFNU8I1"
      },
      "execution_count": 15,
      "outputs": []
    },
    {
      "cell_type": "code",
      "source": [
        "print(person.firstname)"
      ],
      "metadata": {
        "colab": {
          "base_uri": "https://localhost:8080/"
        },
        "id": "SWh84M8zVGAB",
        "outputId": "bff247d5-411a-4b3a-f31d-859239ea6602"
      },
      "execution_count": 16,
      "outputs": [
        {
          "output_type": "stream",
          "name": "stdout",
          "text": [
            "Jane\n"
          ]
        }
      ]
    },
    {
      "cell_type": "code",
      "source": [
        "print(person.secondname)"
      ],
      "metadata": {
        "colab": {
          "base_uri": "https://localhost:8080/"
        },
        "id": "u5yMHalWVJd8",
        "outputId": "6ef0c6ca-2937-437a-9556-2bd3666ee629"
      },
      "execution_count": 17,
      "outputs": [
        {
          "output_type": "stream",
          "name": "stdout",
          "text": [
            "Singh\n"
          ]
        }
      ]
    },
    {
      "cell_type": "code",
      "source": [
        "print(person.age())"
      ],
      "metadata": {
        "colab": {
          "base_uri": "https://localhost:8080/"
        },
        "id": "q7A_uEKJVNBF",
        "outputId": "ed34c4ac-f545-46ec-c5ec-8462e9617cd3"
      },
      "execution_count": 18,
      "outputs": [
        {
          "output_type": "stream",
          "name": "stdout",
          "text": [
            "31\n"
          ]
        }
      ]
    },
    {
      "cell_type": "code",
      "source": [
        "print(person.fullname())"
      ],
      "metadata": {
        "colab": {
          "base_uri": "https://localhost:8080/"
        },
        "id": "OSR4PqJjVQyc",
        "outputId": "6c9fc78a-f1e9-485d-bff9-5a0e65032743"
      },
      "execution_count": 19,
      "outputs": [
        {
          "output_type": "stream",
          "name": "stdout",
          "text": [
            "Hello: JaneSingh\n",
            "None\n"
          ]
        }
      ]
    },
    {
      "cell_type": "markdown",
      "source": [
        "In this class, we have three methods.\n",
        "\n",
        "The first is called \\_\\_init\\_\\_, which is a special method.\n",
        "\n",
        "When we call the class object, a new instance of the class is creatd, and the \\_\\_init\\_\\_ method on this new object is immediately executed with the parameters that we passed to the class object.\n",
        "The purpose ofthis method is to setup a new object using data that we have provided.\n",
        "\n",
        "The second method concatenates the firstname and lastname.Before printing it.\n",
        "\n",
        "The third method calculates the age\n",
        "\n",
        "\n",
        "You may have noticed that both of these method definitions have self as the first parameter, and we use this variable inside the method bodies - but we do not appear to pass this parameter in.\n",
        "\n",
        "\n",
        "This is because whenever we call a method on an object, the object itself is automatically passed in as the first parameter.\n",
        "This gives us a way to access the object's properties from inside the object's methods.\n",
        "\n",
        "In some languages this parameter is implicit -  that is, it is not visible in the fucntion signature -  and we access it with a special keyword. In Python it is explicitly exposed.\n",
        "\n",
        "It does not have to be called self, but this is a very strongly followed convention.\n",
        "\n",
        "\n",
        "Defining a function does not make the function run.\n",
        "\n",
        "Defining a class also does not make anything run - it just tells Python about the class.\n",
        "\n",
        "\n"
      ],
      "metadata": {
        "id": "vsXNIelUzEBu"
      }
    },
    {
      "cell_type": "markdown",
      "source": [
        "#Comparing Human and Person\n",
        "\n",
        "So far we have defined two classes: Human and Person\n",
        "\n",
        "In Human we have not defined \\_\\_init\\_\\_ method and initialized the attributes of the class after the instantiation of the object.\n",
        "This work but what we have tried to access the methods fullname or age befor initializing any attributes as in following example."
      ],
      "metadata": {
        "id": "0rTklEKU3wvG"
      }
    },
    {
      "cell_type": "code",
      "source": [
        "human2 = Human()"
      ],
      "metadata": {
        "id": "drxk0ux2y9Et"
      },
      "execution_count": null,
      "outputs": []
    },
    {
      "cell_type": "code",
      "source": [
        "human2.age()"
      ],
      "metadata": {
        "colab": {
          "base_uri": "https://localhost:8080/",
          "height": 304
        },
        "id": "eiKODXv_4pxi",
        "outputId": "7c022ea3-0e91-48b9-fe6a-d08aa32cb655"
      },
      "execution_count": null,
      "outputs": [
        {
          "output_type": "error",
          "ename": "AttributeError",
          "evalue": "ignored",
          "traceback": [
            "\u001b[0;31m---------------------------------------------------------------------------\u001b[0m",
            "\u001b[0;31mAttributeError\u001b[0m                            Traceback (most recent call last)",
            "\u001b[0;32m<ipython-input-15-d450ebe56f23>\u001b[0m in \u001b[0;36m<module>\u001b[0;34m\u001b[0m\n\u001b[0;32m----> 1\u001b[0;31m \u001b[0mhuman2\u001b[0m\u001b[0;34m.\u001b[0m\u001b[0mage\u001b[0m\u001b[0;34m(\u001b[0m\u001b[0;34m)\u001b[0m\u001b[0;34m\u001b[0m\u001b[0;34m\u001b[0m\u001b[0m\n\u001b[0m",
            "\u001b[0;32m<ipython-input-13-5f2d2b5a6aad>\u001b[0m in \u001b[0;36mage\u001b[0;34m(self)\u001b[0m\n\u001b[1;32m      6\u001b[0m   \u001b[0;32mdef\u001b[0m \u001b[0mage\u001b[0m\u001b[0;34m(\u001b[0m\u001b[0mself\u001b[0m\u001b[0;34m)\u001b[0m\u001b[0;34m:\u001b[0m\u001b[0;34m\u001b[0m\u001b[0;34m\u001b[0m\u001b[0m\n\u001b[1;32m      7\u001b[0m     \u001b[0mtoday\u001b[0m \u001b[0;34m=\u001b[0m \u001b[0mdatetime\u001b[0m\u001b[0;34m.\u001b[0m\u001b[0mdate\u001b[0m\u001b[0;34m.\u001b[0m\u001b[0mtoday\u001b[0m\u001b[0;34m(\u001b[0m\u001b[0;34m)\u001b[0m\u001b[0;34m\u001b[0m\u001b[0;34m\u001b[0m\u001b[0m\n\u001b[0;32m----> 8\u001b[0;31m     \u001b[0mage\u001b[0m \u001b[0;34m=\u001b[0m \u001b[0mtoday\u001b[0m\u001b[0;34m.\u001b[0m\u001b[0myear\u001b[0m \u001b[0;34m-\u001b[0m \u001b[0mself\u001b[0m\u001b[0;34m.\u001b[0m\u001b[0mbirthday\u001b[0m\u001b[0;34m.\u001b[0m\u001b[0myear\u001b[0m\u001b[0;34m\u001b[0m\u001b[0;34m\u001b[0m\u001b[0m\n\u001b[0m\u001b[1;32m      9\u001b[0m     \u001b[0;32mreturn\u001b[0m \u001b[0mage\u001b[0m\u001b[0;34m\u001b[0m\u001b[0;34m\u001b[0m\u001b[0m\n",
            "\u001b[0;31mAttributeError\u001b[0m: 'Human' object has no attribute 'birthday'"
          ]
        }
      ]
    },
    {
      "cell_type": "code",
      "source": [
        "human2.fullname()"
      ],
      "metadata": {
        "colab": {
          "base_uri": "https://localhost:8080/",
          "height": 321
        },
        "id": "VjhG0ZL84w38",
        "outputId": "a687553f-c7db-40dd-b4f0-49749d94543a"
      },
      "execution_count": null,
      "outputs": [
        {
          "output_type": "error",
          "ename": "AttributeError",
          "evalue": "ignored",
          "traceback": [
            "\u001b[0;31m---------------------------------------------------------------------------\u001b[0m",
            "\u001b[0;31mAttributeError\u001b[0m                            Traceback (most recent call last)",
            "\u001b[0;32m<ipython-input-16-b059161edad3>\u001b[0m in \u001b[0;36m<module>\u001b[0;34m\u001b[0m\n\u001b[0;32m----> 1\u001b[0;31m \u001b[0mhuman2\u001b[0m\u001b[0;34m.\u001b[0m\u001b[0mfullname\u001b[0m\u001b[0;34m(\u001b[0m\u001b[0;34m)\u001b[0m\u001b[0;34m\u001b[0m\u001b[0;34m\u001b[0m\u001b[0m\n\u001b[0m",
            "\u001b[0;32m<ipython-input-13-5f2d2b5a6aad>\u001b[0m in \u001b[0;36mfullname\u001b[0;34m(self)\u001b[0m\n\u001b[1;32m      2\u001b[0m \u001b[0;34m\u001b[0m\u001b[0m\n\u001b[1;32m      3\u001b[0m   \u001b[0;32mdef\u001b[0m \u001b[0mfullname\u001b[0m\u001b[0;34m(\u001b[0m\u001b[0mself\u001b[0m\u001b[0;34m)\u001b[0m\u001b[0;34m:\u001b[0m\u001b[0;34m\u001b[0m\u001b[0;34m\u001b[0m\u001b[0m\n\u001b[0;32m----> 4\u001b[0;31m     \u001b[0mself\u001b[0m\u001b[0;34m.\u001b[0m\u001b[0mfullname\u001b[0m \u001b[0;34m=\u001b[0m \u001b[0mself\u001b[0m\u001b[0;34m.\u001b[0m\u001b[0mfirstname\u001b[0m \u001b[0;34m+\u001b[0m \u001b[0mself\u001b[0m\u001b[0;34m.\u001b[0m\u001b[0msecondname\u001b[0m\u001b[0;34m\u001b[0m\u001b[0;34m\u001b[0m\u001b[0m\n\u001b[0m\u001b[1;32m      5\u001b[0m     \u001b[0mprint\u001b[0m\u001b[0;34m(\u001b[0m\u001b[0;34m'Hello: '\u001b[0m\u001b[0;34m+\u001b[0m\u001b[0mself\u001b[0m\u001b[0;34m.\u001b[0m\u001b[0mfullname\u001b[0m\u001b[0;34m)\u001b[0m\u001b[0;34m\u001b[0m\u001b[0;34m\u001b[0m\u001b[0m\n\u001b[1;32m      6\u001b[0m   \u001b[0;32mdef\u001b[0m \u001b[0mage\u001b[0m\u001b[0;34m(\u001b[0m\u001b[0mself\u001b[0m\u001b[0;34m)\u001b[0m\u001b[0;34m:\u001b[0m\u001b[0;34m\u001b[0m\u001b[0;34m\u001b[0m\u001b[0m\n",
            "\u001b[0;31mAttributeError\u001b[0m: 'Human' object has no attribute 'firstname'"
          ]
        }
      ]
    },
    {
      "cell_type": "code",
      "source": [
        "human2.fullname()"
      ],
      "metadata": {
        "colab": {
          "base_uri": "https://localhost:8080/",
          "height": 321
        },
        "id": "n9hZc3uv4035",
        "outputId": "f8b4f1a2-9c67-4416-f293-800be77e1318"
      },
      "execution_count": null,
      "outputs": [
        {
          "output_type": "error",
          "ename": "AttributeError",
          "evalue": "ignored",
          "traceback": [
            "\u001b[0;31m---------------------------------------------------------------------------\u001b[0m",
            "\u001b[0;31mAttributeError\u001b[0m                            Traceback (most recent call last)",
            "\u001b[0;32m<ipython-input-18-b059161edad3>\u001b[0m in \u001b[0;36m<module>\u001b[0;34m\u001b[0m\n\u001b[0;32m----> 1\u001b[0;31m \u001b[0mhuman2\u001b[0m\u001b[0;34m.\u001b[0m\u001b[0mfullname\u001b[0m\u001b[0;34m(\u001b[0m\u001b[0;34m)\u001b[0m\u001b[0;34m\u001b[0m\u001b[0;34m\u001b[0m\u001b[0m\n\u001b[0m",
            "\u001b[0;32m<ipython-input-13-5f2d2b5a6aad>\u001b[0m in \u001b[0;36mfullname\u001b[0;34m(self)\u001b[0m\n\u001b[1;32m      2\u001b[0m \u001b[0;34m\u001b[0m\u001b[0m\n\u001b[1;32m      3\u001b[0m   \u001b[0;32mdef\u001b[0m \u001b[0mfullname\u001b[0m\u001b[0;34m(\u001b[0m\u001b[0mself\u001b[0m\u001b[0;34m)\u001b[0m\u001b[0;34m:\u001b[0m\u001b[0;34m\u001b[0m\u001b[0;34m\u001b[0m\u001b[0m\n\u001b[0;32m----> 4\u001b[0;31m     \u001b[0mself\u001b[0m\u001b[0;34m.\u001b[0m\u001b[0mfullname\u001b[0m \u001b[0;34m=\u001b[0m \u001b[0mself\u001b[0m\u001b[0;34m.\u001b[0m\u001b[0mfirstname\u001b[0m \u001b[0;34m+\u001b[0m \u001b[0mself\u001b[0m\u001b[0;34m.\u001b[0m\u001b[0msecondname\u001b[0m\u001b[0;34m\u001b[0m\u001b[0;34m\u001b[0m\u001b[0m\n\u001b[0m\u001b[1;32m      5\u001b[0m     \u001b[0mprint\u001b[0m\u001b[0;34m(\u001b[0m\u001b[0;34m'Hello: '\u001b[0m\u001b[0;34m+\u001b[0m\u001b[0mself\u001b[0m\u001b[0;34m.\u001b[0m\u001b[0mfullname\u001b[0m\u001b[0;34m)\u001b[0m\u001b[0;34m\u001b[0m\u001b[0;34m\u001b[0m\u001b[0m\n\u001b[1;32m      6\u001b[0m   \u001b[0;32mdef\u001b[0m \u001b[0mage\u001b[0m\u001b[0;34m(\u001b[0m\u001b[0mself\u001b[0m\u001b[0;34m)\u001b[0m\u001b[0;34m:\u001b[0m\u001b[0;34m\u001b[0m\u001b[0;34m\u001b[0m\u001b[0m\n",
            "\u001b[0;31mAttributeError\u001b[0m: 'Human' object has no attribute 'firstname'"
          ]
        }
      ]
    },
    {
      "cell_type": "markdown",
      "source": [
        "We can clearly see that this will generate error.\n",
        "\n",
        "\n",
        "\n",
        "The \\_\\_init\\_\\_ method will definitely be excuted before anything else when we create the object - so it is a good place to do all out initialisation of the objet's data.\n",
        "\n",
        "If we create a new attribute outside the \\_\\_init\\_\\_ method, we run the risk that we will try to use it before it has been initialised.\n",
        "\n",
        "\n",
        "Initialising all our attributes in \\_\\_init\\_\\_ even if we just set them to empty values,makes our code less error prone. It also makes it easier to read and understand - we can see at a glance what attributes our object has."
      ],
      "metadata": {
        "id": "encrUXl45ASx"
      }
    },
    {
      "cell_type": "markdown",
      "source": [
        "#Class Attributes"
      ],
      "metadata": {
        "id": "0i8KCpxr8pVZ"
      }
    },
    {
      "cell_type": "markdown",
      "source": [
        "All attributes which are defined on a Person instance are instance attributes - they are addedto the instance when the \\_\\_init\\_\\_ method is executed.\n",
        "\n",
        "We can, however, also define attributes which are set on the class.\n",
        "\n",
        "These attributes will be shared by all instances of that class. In many ways they behave just like instance attributes, but there are some caveats that we should be aware of."
      ],
      "metadata": {
        "id": "Lle4zmQt8wTb"
      }
    },
    {
      "cell_type": "code",
      "source": [
        "class Person:\n",
        "  TITLES = ('Dr','Mr','Mrs','Ms')\n",
        "\n",
        "  def __init__(self,title,name,surname):\n",
        "    if title not in self.TITLES:\n",
        "      raise ValueError(\"%s is not a valid title.\"%title)\n",
        "\n",
        "    self.title = title\n",
        "    self.name = name\n",
        "    self.surname = surname"
      ],
      "metadata": {
        "id": "HnDEBR1P450o"
      },
      "execution_count": null,
      "outputs": []
    },
    {
      "cell_type": "code",
      "source": [
        "person = Person('Mrs','Roopa','Paneser')"
      ],
      "metadata": {
        "id": "2_R8MjaZ-CEv"
      },
      "execution_count": null,
      "outputs": []
    },
    {
      "cell_type": "code",
      "source": [
        "person2 = Person('lrs','Jaya','Sherpa')"
      ],
      "metadata": {
        "id": "AasrhfrE-j4e"
      },
      "execution_count": null,
      "outputs": []
    },
    {
      "cell_type": "code",
      "source": [
        "person.title"
      ],
      "metadata": {
        "colab": {
          "base_uri": "https://localhost:8080/",
          "height": 35
        },
        "id": "HVAn5LTu-pMv",
        "outputId": "100e5fc4-5206-4a60-8596-c1207b34b8e1"
      },
      "execution_count": null,
      "outputs": [
        {
          "output_type": "execute_result",
          "data": {
            "text/plain": [
              "'Mrs'"
            ],
            "application/vnd.google.colaboratory.intrinsic+json": {
              "type": "string"
            }
          },
          "metadata": {},
          "execution_count": 22
        }
      ]
    },
    {
      "cell_type": "code",
      "source": [
        "person.name"
      ],
      "metadata": {
        "colab": {
          "base_uri": "https://localhost:8080/",
          "height": 35
        },
        "id": "6YQgGbXY-s4U",
        "outputId": "3e59c02f-d85b-4d76-e05f-21eb1ee854e1"
      },
      "execution_count": null,
      "outputs": [
        {
          "output_type": "execute_result",
          "data": {
            "text/plain": [
              "'Roopa'"
            ],
            "application/vnd.google.colaboratory.intrinsic+json": {
              "type": "string"
            }
          },
          "metadata": {},
          "execution_count": 23
        }
      ]
    },
    {
      "cell_type": "code",
      "source": [
        "person.surname"
      ],
      "metadata": {
        "colab": {
          "base_uri": "https://localhost:8080/",
          "height": 35
        },
        "id": "fkTvvNaj-ush",
        "outputId": "dc70b7b1-24f2-4a51-e916-1720f929a132"
      },
      "execution_count": null,
      "outputs": [
        {
          "output_type": "execute_result",
          "data": {
            "text/plain": [
              "'Paneser'"
            ],
            "application/vnd.google.colaboratory.intrinsic+json": {
              "type": "string"
            }
          },
          "metadata": {},
          "execution_count": 24
        }
      ]
    },
    {
      "cell_type": "code",
      "source": [
        "#We can access class attribute TITLES just like we would access and instance attribute\n",
        "person.TITLES"
      ],
      "metadata": {
        "colab": {
          "base_uri": "https://localhost:8080/"
        },
        "id": "rlnDW9aK-wQV",
        "outputId": "ae06bb8c-25db-435b-c895-139bbbbd5eba"
      },
      "execution_count": null,
      "outputs": [
        {
          "output_type": "execute_result",
          "data": {
            "text/plain": [
              "('Dr', 'Mr', 'Mrs', 'Ms')"
            ]
          },
          "metadata": {},
          "execution_count": 25
        }
      ]
    },
    {
      "cell_type": "code",
      "source": [
        "#We can also access class attribute TITLES from the class\n",
        "Person.TITLES"
      ],
      "metadata": {
        "colab": {
          "base_uri": "https://localhost:8080/"
        },
        "id": "lwQeVZ36_PHd",
        "outputId": "80a2bc31-aee5-40c6-ebcd-23566f23f361"
      },
      "execution_count": null,
      "outputs": [
        {
          "output_type": "execute_result",
          "data": {
            "text/plain": [
              "('Dr', 'Mr', 'Mrs', 'Ms')"
            ]
          },
          "metadata": {},
          "execution_count": 26
        }
      ]
    },
    {
      "cell_type": "code",
      "source": [
        "person.surname"
      ],
      "metadata": {
        "colab": {
          "base_uri": "https://localhost:8080/",
          "height": 35
        },
        "id": "vf9J9SUi_dGq",
        "outputId": "be3e652d-efa1-4623-8e04-d2f63643ca21"
      },
      "execution_count": null,
      "outputs": [
        {
          "output_type": "execute_result",
          "data": {
            "text/plain": [
              "'Paneser'"
            ],
            "application/vnd.google.colaboratory.intrinsic+json": {
              "type": "string"
            }
          },
          "metadata": {},
          "execution_count": 27
        }
      ]
    },
    {
      "cell_type": "code",
      "source": [
        "Person.surname"
      ],
      "metadata": {
        "colab": {
          "base_uri": "https://localhost:8080/",
          "height": 200
        },
        "id": "IGcrNr-p_fDt",
        "outputId": "9a493a62-ed50-4160-e03f-cc003bb787d8"
      },
      "execution_count": null,
      "outputs": [
        {
          "output_type": "error",
          "ename": "AttributeError",
          "evalue": "ignored",
          "traceback": [
            "\u001b[0;31m---------------------------------------------------------------------------\u001b[0m",
            "\u001b[0;31mAttributeError\u001b[0m                            Traceback (most recent call last)",
            "\u001b[0;32m<ipython-input-28-dfa90b2620d2>\u001b[0m in \u001b[0;36m<module>\u001b[0;34m\u001b[0m\n\u001b[0;32m----> 1\u001b[0;31m \u001b[0mPerson\u001b[0m\u001b[0;34m.\u001b[0m\u001b[0msurname\u001b[0m\u001b[0;34m\u001b[0m\u001b[0;34m\u001b[0m\u001b[0m\n\u001b[0m",
            "\u001b[0;31mAttributeError\u001b[0m: type object 'Person' has no attribute 'surname'"
          ]
        }
      ]
    },
    {
      "cell_type": "code",
      "source": [
        "class Numbers:\n",
        "  count = 0\n",
        "\n",
        "  def __init__(self,x,y):\n",
        "    self.x = x\n",
        "    self.y = y\n",
        "    self.count  = self.count+1\n",
        "\n",
        "  def add(self):\n",
        "    return self.x + self.y"
      ],
      "metadata": {
        "id": "cqAJ-Sdy_g2B"
      },
      "execution_count": null,
      "outputs": []
    },
    {
      "cell_type": "code",
      "source": [
        "num = Numbers(1,2)"
      ],
      "metadata": {
        "id": "ztJfIAQa_-WL"
      },
      "execution_count": null,
      "outputs": []
    },
    {
      "cell_type": "code",
      "source": [
        "num2 = Numbers(55,66)"
      ],
      "metadata": {
        "id": "a8aQwob8ACba"
      },
      "execution_count": null,
      "outputs": []
    },
    {
      "cell_type": "code",
      "source": [
        "num.count"
      ],
      "metadata": {
        "colab": {
          "base_uri": "https://localhost:8080/"
        },
        "id": "lRx594vtAQD_",
        "outputId": "677dc6a7-4e96-4757-84f2-e9f780fffaf4"
      },
      "execution_count": null,
      "outputs": [
        {
          "output_type": "execute_result",
          "data": {
            "text/plain": [
              "1"
            ]
          },
          "metadata": {},
          "execution_count": 4
        }
      ]
    },
    {
      "cell_type": "code",
      "source": [
        "num2.count"
      ],
      "metadata": {
        "colab": {
          "base_uri": "https://localhost:8080/"
        },
        "id": "aK5JjLpXARdk",
        "outputId": "d0598a97-8d95-4795-e2bf-0102642bef28"
      },
      "execution_count": null,
      "outputs": [
        {
          "output_type": "execute_result",
          "data": {
            "text/plain": [
              "1"
            ]
          },
          "metadata": {},
          "execution_count": 5
        }
      ]
    },
    {
      "cell_type": "code",
      "source": [
        "num2.add()"
      ],
      "metadata": {
        "colab": {
          "base_uri": "https://localhost:8080/"
        },
        "id": "tYKa1m98ATNU",
        "outputId": "fbfbe6f6-d3e6-4b91-d4de-6a9b88a634a4"
      },
      "execution_count": null,
      "outputs": [
        {
          "output_type": "execute_result",
          "data": {
            "text/plain": [
              "121"
            ]
          },
          "metadata": {},
          "execution_count": 6
        }
      ]
    },
    {
      "cell_type": "code",
      "source": [
        "#Class attributes can also sometimes be used to provide default attribute values\n",
        "class Switch:\n",
        "  on = False\n",
        "\n",
        "  def turnOn(self):\n",
        "    self.on = True"
      ],
      "metadata": {
        "id": "LlMwJyWNAWos"
      },
      "execution_count": null,
      "outputs": []
    },
    {
      "cell_type": "code",
      "source": [
        "switch1 = Switch()"
      ],
      "metadata": {
        "id": "k1CuVzarApm9"
      },
      "execution_count": null,
      "outputs": []
    },
    {
      "cell_type": "code",
      "source": [
        "switch1.on"
      ],
      "metadata": {
        "colab": {
          "base_uri": "https://localhost:8080/"
        },
        "id": "LrFjhmqxAsQA",
        "outputId": "9dcd7580-bb4d-4bec-eda4-8242744b55a7"
      },
      "execution_count": null,
      "outputs": [
        {
          "output_type": "execute_result",
          "data": {
            "text/plain": [
              "False"
            ]
          },
          "metadata": {},
          "execution_count": 9
        }
      ]
    },
    {
      "cell_type": "code",
      "source": [
        "switch1.turnOn()"
      ],
      "metadata": {
        "id": "UJDzc_O4AvNg"
      },
      "execution_count": null,
      "outputs": []
    },
    {
      "cell_type": "code",
      "source": [
        "switch1.on"
      ],
      "metadata": {
        "colab": {
          "base_uri": "https://localhost:8080/"
        },
        "id": "S76VjLrWAybu",
        "outputId": "3b4e9a32-d32a-4463-e9e6-d955cc5000b0"
      },
      "execution_count": null,
      "outputs": [
        {
          "output_type": "execute_result",
          "data": {
            "text/plain": [
              "True"
            ]
          },
          "metadata": {},
          "execution_count": 11
        }
      ]
    },
    {
      "cell_type": "code",
      "source": [
        "switch2 = Switch()\n"
      ],
      "metadata": {
        "id": "XUWg2mMCA2LG"
      },
      "execution_count": null,
      "outputs": []
    },
    {
      "cell_type": "code",
      "source": [
        "switch2.on"
      ],
      "metadata": {
        "colab": {
          "base_uri": "https://localhost:8080/"
        },
        "id": "sN_SVMgeitfG",
        "outputId": "ebc68936-3586-41d9-de52-738704889df3"
      },
      "execution_count": null,
      "outputs": [
        {
          "output_type": "execute_result",
          "data": {
            "text/plain": [
              "False"
            ]
          },
          "metadata": {},
          "execution_count": 16
        }
      ]
    },
    {
      "cell_type": "code",
      "source": [
        "#Changing the value of switch1 from off to on does not affect the value of on for switch2"
      ],
      "metadata": {
        "id": "YyRFHja3i25o"
      },
      "execution_count": null,
      "outputs": []
    },
    {
      "cell_type": "markdown",
      "source": [
        "When a class attribute is of a mutable type things are different\n",
        "\n",
        "Because if we modify class attribute in place, we will affect all objects of that class at thesame time.\n",
        "\n",
        "Remenber that all instances share the same class attributes"
      ],
      "metadata": {
        "id": "Xadh49nqkLDL"
      }
    },
    {
      "cell_type": "code",
      "source": [
        "class Person:\n",
        "  cars = []\n",
        "  def add_cars(self,car):\n",
        "    self.cars.append(car)\n",
        "\n",
        "  \n",
        "                     "
      ],
      "metadata": {
        "id": "RdcqJTMcjCEa"
      },
      "execution_count": null,
      "outputs": []
    },
    {
      "cell_type": "code",
      "source": [
        "roopa = Person()"
      ],
      "metadata": {
        "id": "NlPK4eCbju7i"
      },
      "execution_count": null,
      "outputs": []
    },
    {
      "cell_type": "code",
      "source": [
        "sukvir = Person()"
      ],
      "metadata": {
        "id": "BVf8_JUTj0cB"
      },
      "execution_count": null,
      "outputs": []
    },
    {
      "cell_type": "code",
      "source": [
        "roopa.add_cars('Toyota')"
      ],
      "metadata": {
        "id": "tjLF7Wbaj2xN"
      },
      "execution_count": null,
      "outputs": []
    },
    {
      "cell_type": "code",
      "source": [
        "print(roopa.cars)"
      ],
      "metadata": {
        "colab": {
          "base_uri": "https://localhost:8080/"
        },
        "id": "bRUTHf4wj82A",
        "outputId": "620c418a-89c1-4360-fa25-cec8fc255cd4"
      },
      "execution_count": null,
      "outputs": [
        {
          "output_type": "stream",
          "name": "stdout",
          "text": [
            "['Toyota']\n"
          ]
        }
      ]
    },
    {
      "cell_type": "code",
      "source": [
        "print(sukvir.cars)"
      ],
      "metadata": {
        "colab": {
          "base_uri": "https://localhost:8080/"
        },
        "id": "cZi93y9Wj_m_",
        "outputId": "1bdb448c-9b82-4687-a0cd-94c284ccb2b4"
      },
      "execution_count": null,
      "outputs": [
        {
          "output_type": "stream",
          "name": "stdout",
          "text": [
            "['Toyota']\n"
          ]
        }
      ]
    },
    {
      "cell_type": "code",
      "source": [
        "#Another example where the class attribute is a dictionary\n",
        "class Cars:\n",
        "  colours = {}\n",
        "\n",
        "  def add_rbg(self,car,color):\n",
        "    self.colours[car] = color\n",
        "  \n"
      ],
      "metadata": {
        "id": "KrP04rJikGEE"
      },
      "execution_count": null,
      "outputs": []
    },
    {
      "cell_type": "code",
      "source": [
        "car1 = Cars()\n",
        "car2 = Cars()"
      ],
      "metadata": {
        "id": "7zZ1dDFhlXWA"
      },
      "execution_count": null,
      "outputs": []
    },
    {
      "cell_type": "code",
      "source": [
        "car2.add_rbg('Toyota','red')"
      ],
      "metadata": {
        "id": "AJvmZWWNlb06"
      },
      "execution_count": null,
      "outputs": []
    },
    {
      "cell_type": "code",
      "source": [
        "car2.colours"
      ],
      "metadata": {
        "colab": {
          "base_uri": "https://localhost:8080/"
        },
        "id": "q6oAA-gZlgRY",
        "outputId": "0ea5512e-da29-49e8-aae5-bc93345cc1b2"
      },
      "execution_count": null,
      "outputs": [
        {
          "output_type": "execute_result",
          "data": {
            "text/plain": [
              "{'Toyota': 'red'}"
            ]
          },
          "metadata": {},
          "execution_count": 38
        }
      ]
    },
    {
      "cell_type": "code",
      "source": [
        "car1.colours"
      ],
      "metadata": {
        "colab": {
          "base_uri": "https://localhost:8080/"
        },
        "id": "jimw9dzzl2ni",
        "outputId": "0bf10831-c97d-45ff-9dcd-a0df824399e6"
      },
      "execution_count": null,
      "outputs": [
        {
          "output_type": "execute_result",
          "data": {
            "text/plain": [
              "{'Toyota': 'red'}"
            ]
          },
          "metadata": {},
          "execution_count": 39
        }
      ]
    },
    {
      "cell_type": "markdown",
      "source": [
        "What we should do in cases like this is initailise the mutable attribute as an instance attribute, inside \\_\\_init\\_\\_.\n",
        "Then every instance will have its own separate copy"
      ],
      "metadata": {
        "id": "MzdiXkJZmRKo"
      }
    },
    {
      "cell_type": "code",
      "source": [
        "class Cars:\n",
        "  #colours = {}\n",
        "  def __init__(self):\n",
        "    self.colours = {}\n",
        "\n",
        "  def add_color(self,car,color):\n",
        "    self.colours[car] = color\n",
        "  "
      ],
      "metadata": {
        "id": "4O05ItwAl4yF"
      },
      "execution_count": null,
      "outputs": []
    },
    {
      "cell_type": "code",
      "source": [
        "car1 = Cars()\n",
        "car2 = Cars()"
      ],
      "metadata": {
        "id": "0_-FnW83lmn4"
      },
      "execution_count": null,
      "outputs": []
    },
    {
      "cell_type": "code",
      "source": [
        "car1.add_color('Toyota','yellow')"
      ],
      "metadata": {
        "id": "JfpAi_vymt2E"
      },
      "execution_count": null,
      "outputs": []
    },
    {
      "cell_type": "code",
      "source": [
        "car1.colours"
      ],
      "metadata": {
        "colab": {
          "base_uri": "https://localhost:8080/"
        },
        "id": "33gzNUSWm3b9",
        "outputId": "4b4c49d0-54ee-4f8e-e476-60cfa59d9f6c"
      },
      "execution_count": null,
      "outputs": [
        {
          "output_type": "execute_result",
          "data": {
            "text/plain": [
              "{'Toyota': 'yellow'}"
            ]
          },
          "metadata": {},
          "execution_count": 50
        }
      ]
    },
    {
      "cell_type": "code",
      "source": [
        "car2.colours"
      ],
      "metadata": {
        "colab": {
          "base_uri": "https://localhost:8080/"
        },
        "id": "rdj2LyoInNsv",
        "outputId": "e7ff4f53-656d-4790-bf80-ca3f0975332b"
      },
      "execution_count": null,
      "outputs": [
        {
          "output_type": "execute_result",
          "data": {
            "text/plain": [
              "{}"
            ]
          },
          "metadata": {},
          "execution_count": 51
        }
      ]
    },
    {
      "cell_type": "markdown",
      "source": [
        "Note that method definitions are in the same scope as class attribute definitions, so we can use class attribute names as variables in method definitions (without self, which is only defined indside the methods)"
      ],
      "metadata": {
        "id": "grnNfJyOncYC"
      }
    },
    {
      "cell_type": "code",
      "source": [
        "class Person:\n",
        "  TITLES = ('Dr','Mr','Mrs','Ms')\n",
        "\n",
        "  def __init__(self,title,name,surname,allowed_titles = TITLES):\n",
        "    if title not in allowed_titles:\n",
        "      raise ValueError(\"%s is not a valid title.\"% title)\n",
        "\n",
        "    self.title = title\n",
        "    self.name = name\n",
        "    self.surname = surname"
      ],
      "metadata": {
        "id": "3m63Q8t1nPZ5"
      },
      "execution_count": null,
      "outputs": []
    },
    {
      "cell_type": "code",
      "source": [
        "person1 = Person('Dr','Roopa','Panesar')"
      ],
      "metadata": {
        "id": "O_KutvcqoVDW"
      },
      "execution_count": null,
      "outputs": []
    },
    {
      "cell_type": "code",
      "source": [
        "person1.surname"
      ],
      "metadata": {
        "colab": {
          "base_uri": "https://localhost:8080/",
          "height": 35
        },
        "id": "P8Y09hIfodid",
        "outputId": "372718c8-927c-4851-8dea-11d7bacede9d"
      },
      "execution_count": null,
      "outputs": [
        {
          "output_type": "execute_result",
          "data": {
            "text/plain": [
              "'Panesar'"
            ],
            "application/vnd.google.colaboratory.intrinsic+json": {
              "type": "string"
            }
          },
          "metadata": {},
          "execution_count": 55
        }
      ]
    },
    {
      "cell_type": "markdown",
      "source": [
        "#Class Decorators"
      ],
      "metadata": {
        "id": "QQsoknJjojF2"
      }
    },
    {
      "cell_type": "markdown",
      "source": [
        "There are some built-in decorators which are often used in class definitions"
      ],
      "metadata": {
        "id": "GUqUCWNULBeS"
      }
    },
    {
      "cell_type": "markdown",
      "source": [
        "## @classmethod"
      ],
      "metadata": {
        "id": "5frQ1rquL2Al"
      }
    },
    {
      "cell_type": "code",
      "source": [
        "#class person \n",
        "#Let say by default everyone has email in format 'lastname@knight.com'\n",
        "class Person:\n",
        "  domain = 'Knight'\n",
        "\n",
        "  def __init__(self,first,last):\n",
        "    self.first = first\n",
        "    self.last = last\n",
        "    \n",
        "\n",
        "  def email(self):\n",
        "    self.email = self.last + '@'+ self.domain+'.com'\n",
        "    print(self.email)"
      ],
      "metadata": {
        "id": "lZLfotProfgf"
      },
      "execution_count": null,
      "outputs": []
    },
    {
      "cell_type": "code",
      "source": [
        "person1 = Person('Nithya','Menon')"
      ],
      "metadata": {
        "id": "zjEtn9JPNmzM"
      },
      "execution_count": null,
      "outputs": []
    },
    {
      "cell_type": "code",
      "source": [
        "person1.email()"
      ],
      "metadata": {
        "colab": {
          "base_uri": "https://localhost:8080/"
        },
        "id": "bKdZPnPyNz6x",
        "outputId": "1e977cc2-f903-44bc-d653-b60ff05a12b0"
      },
      "execution_count": null,
      "outputs": [
        {
          "output_type": "stream",
          "name": "stdout",
          "text": [
            "Menon@Knight.com\n"
          ]
        }
      ]
    },
    {
      "cell_type": "code",
      "source": [
        "person2 = Person('Nithya','Reddy')"
      ],
      "metadata": {
        "id": "_skUxvDcN137"
      },
      "execution_count": null,
      "outputs": []
    },
    {
      "cell_type": "code",
      "source": [
        "person2.email()"
      ],
      "metadata": {
        "colab": {
          "base_uri": "https://localhost:8080/"
        },
        "id": "DR8sicWIOusB",
        "outputId": "f5d26d74-d754-4ae8-cbc1-1b1e3c1a49e0"
      },
      "execution_count": null,
      "outputs": [
        {
          "output_type": "stream",
          "name": "stdout",
          "text": [
            "Reddy@Knight.com\n"
          ]
        }
      ]
    },
    {
      "cell_type": "code",
      "source": [
        "#Let us say we give this class to two other companies\n",
        "#Email format of company 1 might be : lastname@bishop.com\n",
        "#Email format of company 2 might be : lastname@rook.com\n",
        "#in this case we can use the @classmethod "
      ],
      "metadata": {
        "id": "0RPUMXx_OwyX"
      },
      "execution_count": null,
      "outputs": []
    },
    {
      "cell_type": "code",
      "source": [
        "#we add another method to our class\n",
        "#class person \n",
        "#Let say by default everyone has email in format 'lastname@knight.com'\n",
        "class Person:\n",
        "  domain = 'Knight'\n",
        "\n",
        "  def __init__(self,first,last):\n",
        "    self.first = first\n",
        "    self.last = last\n",
        "    \n",
        "\n",
        "  def email(self):\n",
        "    self.email = self.last + '@'+self.domain+'.com'\n",
        "    print(self.email)\n",
        "\n",
        "  @classmethod\n",
        "  def change_domain(cls,domain):\n",
        "    cls.domain = domain\n",
        "    \n"
      ],
      "metadata": {
        "id": "YrLv28xcoXyO"
      },
      "execution_count": null,
      "outputs": []
    },
    {
      "cell_type": "code",
      "source": [
        "person1 = Person('Hari','Bahadur')"
      ],
      "metadata": {
        "id": "dZ_yDHAwQPni"
      },
      "execution_count": null,
      "outputs": []
    },
    {
      "cell_type": "code",
      "source": [
        "person1.email()"
      ],
      "metadata": {
        "colab": {
          "base_uri": "https://localhost:8080/"
        },
        "id": "WV0h0XoVQY_O",
        "outputId": "8e61312b-1093-4d78-a541-59d1cf7cb20a"
      },
      "execution_count": null,
      "outputs": [
        {
          "output_type": "stream",
          "name": "stdout",
          "text": [
            "Bahadur@Knight.com\n"
          ]
        }
      ]
    },
    {
      "cell_type": "code",
      "source": [
        "#But now our code is in another company where domain = 'Bishop'\n",
        "Person.change_domain('Bishop')\n"
      ],
      "metadata": {
        "id": "LO4k02FtQbNI"
      },
      "execution_count": null,
      "outputs": []
    },
    {
      "cell_type": "code",
      "source": [
        "person_2 = Person('Ram','Bahadur')"
      ],
      "metadata": {
        "id": "vly5b8dMQoqc"
      },
      "execution_count": null,
      "outputs": []
    },
    {
      "cell_type": "code",
      "source": [
        "person_2.email()"
      ],
      "metadata": {
        "colab": {
          "base_uri": "https://localhost:8080/"
        },
        "id": "eeV9T8TjQvOP",
        "outputId": "4b291275-30e8-4169-ad12-50b8291f8515"
      },
      "execution_count": null,
      "outputs": [
        {
          "output_type": "stream",
          "name": "stdout",
          "text": [
            "Bahadur@Bishop.com\n"
          ]
        }
      ]
    },
    {
      "cell_type": "code",
      "source": [
        "#In similar way company 2 can set domain = 'Rook'"
      ],
      "metadata": {
        "id": "MP3n_pcqQxzv"
      },
      "execution_count": null,
      "outputs": []
    },
    {
      "cell_type": "code",
      "source": [
        "Person.change_domain('Rook')"
      ],
      "metadata": {
        "id": "o6kpyNlmRJkD"
      },
      "execution_count": null,
      "outputs": []
    },
    {
      "cell_type": "code",
      "source": [
        "person_3 = Person('Ramesh','Chaudhary')"
      ],
      "metadata": {
        "id": "7nD6LCSKRnv8"
      },
      "execution_count": null,
      "outputs": []
    },
    {
      "cell_type": "code",
      "source": [
        "person_3.email()"
      ],
      "metadata": {
        "colab": {
          "base_uri": "https://localhost:8080/"
        },
        "id": "iPZDcD-JRsuU",
        "outputId": "647ae2ae-4bbe-4b62-920c-362498c1ffda"
      },
      "execution_count": null,
      "outputs": [
        {
          "output_type": "stream",
          "name": "stdout",
          "text": [
            "Chaudhary@Rook.com\n"
          ]
        }
      ]
    },
    {
      "cell_type": "code",
      "source": [
        "#Let us say in this company its ceo wants his/her 'ceo' as domain\n",
        "person_ceo = Person('Suresh','Chaudhary')"
      ],
      "metadata": {
        "id": "f5fn6dWQRviL"
      },
      "execution_count": null,
      "outputs": []
    },
    {
      "cell_type": "code",
      "source": [
        "#We can call classmethod from object too\n",
        "person_ceo.change_domain('ceo')"
      ],
      "metadata": {
        "id": "aMSGFp8MS0YZ"
      },
      "execution_count": null,
      "outputs": []
    },
    {
      "cell_type": "code",
      "source": [
        "person_ceo.email()"
      ],
      "metadata": {
        "colab": {
          "base_uri": "https://localhost:8080/"
        },
        "id": "gX0_a3iCS8sv",
        "outputId": "f3c0fdb5-852c-4165-cad4-cbb718bfd813"
      },
      "execution_count": null,
      "outputs": [
        {
          "output_type": "stream",
          "name": "stdout",
          "text": [
            "Chaudhary@ceo.com\n"
          ]
        }
      ]
    },
    {
      "cell_type": "code",
      "source": [
        "#A class method has its calling object as the first parameter.\n",
        "#By convention we rename this parameter from self to cls.\n",
        "#If we call the class method from an instance, this parameter will contaion the instance object, but\n",
        "#if we call it from class it will contain the class object.\n",
        "#By calling the parameter cls we remind ourselves that it is not gurenteed to have any instance attributes\n"
      ],
      "metadata": {
        "id": "ZiSshMRPS_Gb"
      },
      "execution_count": null,
      "outputs": []
    },
    {
      "cell_type": "code",
      "source": [
        "#Sometimes it is useful to write a class method which creates an instance of the class after processing the input\n",
        "#so that it is in the right format to be passed to the constructor.\n",
        "#This allows the constructor to be striaght forward and not have to implement any complicated parsing or clean-up code"
      ],
      "metadata": {
        "id": "G_Nym77bUgB9"
      },
      "execution_count": null,
      "outputs": []
    },
    {
      "cell_type": "code",
      "source": [
        "#Let say we have string with firstname and last name separated by underscore and all are in small letters as follows\n",
        "string_1 = \"ramesh_chaudahary\""
      ],
      "metadata": {
        "id": "xlIsnYkVU4yF"
      },
      "execution_count": null,
      "outputs": []
    },
    {
      "cell_type": "code",
      "source": [
        "#We need to preprocess this string before sending it to our class as follow\n",
        "#Option I\n",
        "first,last = string_1.split('_')\n",
        "first = first.capitalize()\n",
        "last = last.capitalize()\n",
        "person1 = Person(first,last)\n",
        "print(person1.first)\n",
        "print(person1.last)"
      ],
      "metadata": {
        "colab": {
          "base_uri": "https://localhost:8080/"
        },
        "id": "cQRLlUuKVpIY",
        "outputId": "5f6f9d05-0891-4cab-fc12-081c06ce7cb7"
      },
      "execution_count": null,
      "outputs": [
        {
          "output_type": "stream",
          "name": "stdout",
          "text": [
            "Ramesh\n",
            "Chaudahary\n"
          ]
        }
      ]
    },
    {
      "cell_type": "code",
      "source": [
        "string_2 = \"suresh_chaudhary\"\n",
        "first,last = string_2.split('_')\n",
        "first = first.capitalize()\n",
        "last = last.capitalize()\n",
        "person2 = Person(first,last)\n",
        "print(person2.first)\n",
        "print(person2.last)"
      ],
      "metadata": {
        "colab": {
          "base_uri": "https://localhost:8080/"
        },
        "id": "J-iqI8ZYWY5J",
        "outputId": "1bcc6ef6-c60e-4dfb-bf6b-ccb7012b3cc0"
      },
      "execution_count": null,
      "outputs": [
        {
          "output_type": "stream",
          "name": "stdout",
          "text": [
            "Suresh\n",
            "Chaudhary\n"
          ]
        }
      ]
    },
    {
      "cell_type": "code",
      "source": [
        "#Option II\n",
        "#Instead of doing preprocessing everytime we get input in this format\n",
        "#we can create a @classmethod which does this job for us before creating the object"
      ],
      "metadata": {
        "id": "vOBq3BRAWmB6"
      },
      "execution_count": null,
      "outputs": []
    },
    {
      "cell_type": "code",
      "source": [
        "class Person:\n",
        "  domain = 'Knight'\n",
        "\n",
        "  def __init__(self,first,last):\n",
        "    self.first = first\n",
        "    self.last = last\n",
        "    \n",
        "\n",
        "  def email(self):\n",
        "    self.email = self.last + '@'+self.domain+'.com'\n",
        "    print(self.email)\n",
        "\n",
        "  @classmethod\n",
        "  def change_domain(cls,domain):\n",
        "    cls.domain = domain\n",
        "    \n",
        "  @classmethod\n",
        "  def preprocess(cls,string):\n",
        "    first,last = string_2.split('_')\n",
        "    first = first.capitalize()\n",
        "    last = last.capitalize()\n",
        "    return cls(first,last)\n"
      ],
      "metadata": {
        "id": "_WRoY2wfW-FX"
      },
      "execution_count": null,
      "outputs": []
    },
    {
      "cell_type": "code",
      "source": [
        "person_a = Person('Ramesh','Chaudhary')"
      ],
      "metadata": {
        "id": "2s27_q7QXd05"
      },
      "execution_count": null,
      "outputs": []
    },
    {
      "cell_type": "code",
      "source": [
        "person_a.first"
      ],
      "metadata": {
        "colab": {
          "base_uri": "https://localhost:8080/",
          "height": 35
        },
        "id": "1KghcL-mXznb",
        "outputId": "ac15ff15-a1a4-4a21-880e-517a284479a7"
      },
      "execution_count": null,
      "outputs": [
        {
          "output_type": "execute_result",
          "data": {
            "text/plain": [
              "'Ramesh'"
            ],
            "application/vnd.google.colaboratory.intrinsic+json": {
              "type": "string"
            }
          },
          "metadata": {},
          "execution_count": 78
        }
      ]
    },
    {
      "cell_type": "code",
      "source": [
        "person_a.last"
      ],
      "metadata": {
        "colab": {
          "base_uri": "https://localhost:8080/",
          "height": 35
        },
        "id": "d2W6ChwTX1n3",
        "outputId": "09b36ab8-8ea4-4077-a057-fbbdcfc07c6e"
      },
      "execution_count": null,
      "outputs": [
        {
          "output_type": "execute_result",
          "data": {
            "text/plain": [
              "'Chaudhary'"
            ],
            "application/vnd.google.colaboratory.intrinsic+json": {
              "type": "string"
            }
          },
          "metadata": {},
          "execution_count": 79
        }
      ]
    },
    {
      "cell_type": "code",
      "source": [
        "string_b = \"suresh_chudahry\""
      ],
      "metadata": {
        "id": "Bitdf6W1X3qS"
      },
      "execution_count": null,
      "outputs": []
    },
    {
      "cell_type": "code",
      "source": [
        "person_b = Person.preprocess(string_b)"
      ],
      "metadata": {
        "id": "wSTL0X5LX83I"
      },
      "execution_count": null,
      "outputs": []
    },
    {
      "cell_type": "code",
      "source": [
        "person_b.first"
      ],
      "metadata": {
        "colab": {
          "base_uri": "https://localhost:8080/",
          "height": 35
        },
        "id": "S_RbpHxKYFr8",
        "outputId": "691d2f64-b77e-4b0b-9e76-6167157b0386"
      },
      "execution_count": null,
      "outputs": [
        {
          "output_type": "execute_result",
          "data": {
            "text/plain": [
              "'Suresh'"
            ],
            "application/vnd.google.colaboratory.intrinsic+json": {
              "type": "string"
            }
          },
          "metadata": {},
          "execution_count": 83
        }
      ]
    },
    {
      "cell_type": "code",
      "source": [
        "person_b.last"
      ],
      "metadata": {
        "colab": {
          "base_uri": "https://localhost:8080/",
          "height": 35
        },
        "id": "41AjWz_KYHdn",
        "outputId": "a59f582b-ebaf-4e80-e4ab-ac39df053900"
      },
      "execution_count": null,
      "outputs": [
        {
          "output_type": "execute_result",
          "data": {
            "text/plain": [
              "'Chaudhary'"
            ],
            "application/vnd.google.colaboratory.intrinsic+json": {
              "type": "string"
            }
          },
          "metadata": {},
          "execution_count": 84
        }
      ]
    },
    {
      "cell_type": "code",
      "source": [
        "person_b.email()"
      ],
      "metadata": {
        "colab": {
          "base_uri": "https://localhost:8080/"
        },
        "id": "UCuCxu4nYJ3J",
        "outputId": "c918157c-8c7d-4c4e-d1d3-3d21c00fb994"
      },
      "execution_count": null,
      "outputs": [
        {
          "output_type": "stream",
          "name": "stdout",
          "text": [
            "Chaudhary@Knight.com\n"
          ]
        }
      ]
    },
    {
      "cell_type": "markdown",
      "source": [
        "##@staticmethod"
      ],
      "metadata": {
        "id": "nso4dlznZ5xz"
      }
    },
    {
      "cell_type": "code",
      "source": [
        "#A static method does not have the calling object passed into it as the first parameter.\n",
        "#This means that it does not have access to the rest of the class or instance\n",
        "#We can call them from an instance or class object, but they are most commnly called from class objects, like class methods\n",
        " "
      ],
      "metadata": {
        "id": "RVUGcawEYMBW"
      },
      "execution_count": null,
      "outputs": []
    },
    {
      "cell_type": "markdown",
      "source": [
        "Let us add time stamp to our email address using static method"
      ],
      "metadata": {
        "id": "wdyd4dDBbhzV"
      }
    },
    {
      "cell_type": "code",
      "source": [
        "import time"
      ],
      "metadata": {
        "id": "627UrxyadCU-"
      },
      "execution_count": null,
      "outputs": []
    },
    {
      "cell_type": "code",
      "source": [
        "class Person:\n",
        "  domain = 'Knight'\n",
        "\n",
        "  def __init__(self,first,last):\n",
        "    self.first = first\n",
        "    self.last = last\n",
        "    \n",
        "\n",
        "  def email(self):\n",
        "    self.now = self.timestamp()\n",
        "    self.email = self.last + '_'+self.now + '@'+self.domain+'.com'\n",
        "\n",
        "    print(self.email)\n",
        "\n",
        "  @staticmethod\n",
        "  def timestamp():\n",
        "    now = time.time()\n",
        "    now = str(now)\n",
        "    return now[-6:]\n",
        "\n"
      ],
      "metadata": {
        "id": "CTpRxWniYBmv"
      },
      "execution_count": null,
      "outputs": []
    },
    {
      "cell_type": "code",
      "source": [
        "person_1 = Person('Ramesh','Chaudhary')\n"
      ],
      "metadata": {
        "id": "POyCUFwIb1kV"
      },
      "execution_count": null,
      "outputs": []
    },
    {
      "cell_type": "code",
      "source": [
        "person_1.email()"
      ],
      "metadata": {
        "colab": {
          "base_uri": "https://localhost:8080/"
        },
        "id": "lhFNPy6fdkyr",
        "outputId": "d5bcc49d-be8b-4221-f631-675778fd1c65"
      },
      "execution_count": null,
      "outputs": [
        {
          "output_type": "stream",
          "name": "stdout",
          "text": [
            "Chaudhary_206494@Knight.com\n"
          ]
        }
      ]
    },
    {
      "cell_type": "code",
      "source": [
        "person_2 = Person('Suresh','Chaudhary')\n",
        "person_2.email()"
      ],
      "metadata": {
        "colab": {
          "base_uri": "https://localhost:8080/"
        },
        "id": "HAKm9jLNdmya",
        "outputId": "3659e100-6b26-4ed8-c0fe-063e147a4f0d"
      },
      "execution_count": null,
      "outputs": [
        {
          "output_type": "stream",
          "name": "stdout",
          "text": [
            "Chaudhary_971686@Knight.com\n"
          ]
        }
      ]
    },
    {
      "cell_type": "markdown",
      "source": [
        "##@property"
      ],
      "metadata": {
        "id": "oL8iZN4od8aR"
      }
    },
    {
      "cell_type": "code",
      "source": [
        "#Sometimes we use a method to generate a property of an object dynamically, \n",
        "#calculating it from the object’s other properties."
      ],
      "metadata": {
        "id": "TcrsLOYedu0S"
      },
      "execution_count": null,
      "outputs": []
    },
    {
      "cell_type": "code",
      "source": [
        "class Person:\n",
        "  domain = 'Knight'\n",
        "\n",
        "  def __init__(self,first,last):\n",
        "    self.first = first\n",
        "    self.last = last\n",
        "    \n",
        "\n",
        "  def email(self):\n",
        "    self.now = self.timestamp()\n",
        "    self.email = self.last + '_'+self.now + '@'+self.domain+'.com'\n",
        "\n",
        "    print(self.email)\n",
        "\n",
        "  @staticmethod\n",
        "  def timestamp():\n",
        "    now = time.time()\n",
        "    now = str(now)\n",
        "    return now[-6:]\n",
        "\n"
      ],
      "metadata": {
        "id": "f5FdwqmVc8PR"
      },
      "execution_count": null,
      "outputs": []
    },
    {
      "cell_type": "code",
      "source": [
        "person_1 = Person('Ramesh','Chaudhary')"
      ],
      "metadata": {
        "id": "u4HatTnreKLW"
      },
      "execution_count": null,
      "outputs": []
    },
    {
      "cell_type": "code",
      "source": [
        "person_1.first"
      ],
      "metadata": {
        "colab": {
          "base_uri": "https://localhost:8080/",
          "height": 35
        },
        "id": "ITbDuwpLeP6b",
        "outputId": "a57215c6-5247-4cd1-d77d-7cde5beca801"
      },
      "execution_count": null,
      "outputs": [
        {
          "output_type": "execute_result",
          "data": {
            "text/plain": [
              "'Ramesh'"
            ],
            "application/vnd.google.colaboratory.intrinsic+json": {
              "type": "string"
            }
          },
          "metadata": {},
          "execution_count": 106
        }
      ]
    },
    {
      "cell_type": "code",
      "source": [
        "person_1.last"
      ],
      "metadata": {
        "colab": {
          "base_uri": "https://localhost:8080/",
          "height": 35
        },
        "id": "4WJA2MC0eTPQ",
        "outputId": "d71089c8-a26d-4a82-9f87-0ff09a55b448"
      },
      "execution_count": null,
      "outputs": [
        {
          "output_type": "execute_result",
          "data": {
            "text/plain": [
              "'Chaudhary'"
            ],
            "application/vnd.google.colaboratory.intrinsic+json": {
              "type": "string"
            }
          },
          "metadata": {},
          "execution_count": 107
        }
      ]
    },
    {
      "cell_type": "code",
      "source": [
        "person_1.email"
      ],
      "metadata": {
        "colab": {
          "base_uri": "https://localhost:8080/"
        },
        "id": "_yaw5Qj2eWi7",
        "outputId": "3c3d72e0-01d4-4db3-89f9-c669e4f10fee"
      },
      "execution_count": null,
      "outputs": [
        {
          "output_type": "execute_result",
          "data": {
            "text/plain": [
              "<bound method Person.email of <__main__.Person object at 0x7f5eea8e81c0>>"
            ]
          },
          "metadata": {},
          "execution_count": 108
        }
      ]
    },
    {
      "cell_type": "code",
      "source": [
        "#We might want email as the attribute of the object"
      ],
      "metadata": {
        "id": "XFc9RT7neYoy"
      },
      "execution_count": null,
      "outputs": []
    },
    {
      "cell_type": "code",
      "source": [
        "class Person:\n",
        "  domain = 'Knight'\n",
        "\n",
        "  def __init__(self,first,last):\n",
        "    self.first = first\n",
        "    self.last = last\n",
        "    \n",
        "\n",
        "  def email(self):\n",
        "    self.now = self.timestamp()\n",
        " \n",
        "\n",
        "    #adding return\n",
        "    return self.last + '_'+self.now + '@'+self.domain+'.com'\n",
        "\n",
        "  @staticmethod\n",
        "  def timestamp():\n",
        "    now = time.time()\n",
        "    now = str(now)\n",
        "    return now[-6:]\n",
        "\n"
      ],
      "metadata": {
        "id": "36RNp4byeeZD"
      },
      "execution_count": null,
      "outputs": []
    },
    {
      "cell_type": "code",
      "source": [
        "person_1 = Person('Ramesh','Chaudhary')\n",
        "print(person_1.first)\n",
        "print(person_1.last)\n",
        "print(person_1.email)"
      ],
      "metadata": {
        "colab": {
          "base_uri": "https://localhost:8080/"
        },
        "id": "_5I9ZjBAeluJ",
        "outputId": "5600007c-1f83-4199-ff85-4a13b8211b6a"
      },
      "execution_count": null,
      "outputs": [
        {
          "output_type": "stream",
          "name": "stdout",
          "text": [
            "Ramesh\n",
            "Chaudhary\n",
            "<bound method Person.email of <__main__.Person object at 0x7f5eea8f3e20>>\n"
          ]
        }
      ]
    },
    {
      "cell_type": "code",
      "source": [
        "#We still get function"
      ],
      "metadata": {
        "id": "QsY-ssNVewi4"
      },
      "execution_count": null,
      "outputs": []
    },
    {
      "cell_type": "code",
      "source": [
        "person_1 = Person('Ramesh','Chaudhary')\n",
        "print(person_1.first)\n",
        "print(person_1.last)\n",
        "#After calling email as function\n",
        "print(person_1.email())"
      ],
      "metadata": {
        "colab": {
          "base_uri": "https://localhost:8080/"
        },
        "id": "uiBpSx_te3oz",
        "outputId": "4c216f76-137a-47d6-d4b4-498abc44c729"
      },
      "execution_count": null,
      "outputs": [
        {
          "output_type": "stream",
          "name": "stdout",
          "text": [
            "Ramesh\n",
            "Chaudhary\n",
            "Chaudhary_598908@Knight.com\n"
          ]
        }
      ]
    },
    {
      "cell_type": "code",
      "source": [
        "#To get email as attribute we need to use @property\n",
        "class Person:\n",
        "  domain = 'Knight'\n",
        "\n",
        "  def __init__(self,first,last):\n",
        "    self.first = first\n",
        "    self.last = last\n",
        "    \n",
        "\n",
        "  @property\n",
        "  def email(self):    \n",
        "    self.now = self.timestamp()\n",
        "    #adding return\n",
        "    return self.last + '_'+self.now + '@'+self.domain+'.com'\n",
        "\n",
        "  @staticmethod\n",
        "  def timestamp():\n",
        "    now = time.time()\n",
        "    now = str(now)\n",
        "    return now[-6:]\n",
        "\n"
      ],
      "metadata": {
        "id": "Kqcx5-pEe8Rw"
      },
      "execution_count": null,
      "outputs": []
    },
    {
      "cell_type": "code",
      "source": [
        "\n",
        "person_1 = Person('Ramesh','Chaudhary')\n",
        "print(person_1.first)\n",
        "print(person_1.last)\n",
        "print(person_1.email)"
      ],
      "metadata": {
        "colab": {
          "base_uri": "https://localhost:8080/"
        },
        "id": "aWwegr77fKbX",
        "outputId": "38d649dd-cbf7-4e12-cdc0-98b4e3341a2d"
      },
      "execution_count": null,
      "outputs": [
        {
          "output_type": "stream",
          "name": "stdout",
          "text": [
            "Ramesh\n",
            "Chaudhary\n",
            "Chaudhary_971456@Knight.com\n"
          ]
        }
      ]
    },
    {
      "cell_type": "markdown",
      "source": [
        "##  @setters @deleters"
      ],
      "metadata": {
        "id": "-gqJCE-umMKn"
      }
    },
    {
      "cell_type": "code",
      "source": [
        "#To get email as attribute we need to use @property\n",
        "class Person:\n",
        "  domain = 'Knight'\n",
        "\n",
        "  def __init__(self,first,last):\n",
        "    self.first = first\n",
        "    self.last = last\n",
        "    \n",
        "\n",
        "  @property\n",
        "  def email(self):    \n",
        "    self.now = self.timestamp()\n",
        "    #adding return\n",
        "    return self.last + '_'+self.now + '@'+self.domain+'.com'\n",
        "\n",
        "  @staticmethod\n",
        "  def timestamp():\n",
        "    now = time.time()\n",
        "    now = str(now)\n",
        "    return now[-6:]\n",
        "\n"
      ],
      "metadata": {
        "id": "cB4X2GFbfK6h"
      },
      "execution_count": null,
      "outputs": []
    },
    {
      "cell_type": "code",
      "source": [
        "\n",
        "person_1 = Person('Ramesh','Chaudhary')\n",
        "print(person_1.first)\n",
        "print(person_1.last)\n",
        "print(person_1.email)"
      ],
      "metadata": {
        "colab": {
          "base_uri": "https://localhost:8080/"
        },
        "id": "APJ7jqzIpOzB",
        "outputId": "94a1c384-f8d3-4d39-ef0e-d428b8da45b3"
      },
      "execution_count": null,
      "outputs": [
        {
          "output_type": "stream",
          "name": "stdout",
          "text": [
            "Ramesh\n",
            "Chaudhary\n",
            "Chaudhary_816728@Knight.com\n"
          ]
        }
      ]
    },
    {
      "cell_type": "code",
      "source": [
        "#changing first last and email manually\n",
        "person_1.first = \"Suresh\"\n",
        "person_1.last = \"Magar\""
      ],
      "metadata": {
        "id": "5EipYZkWpR1S"
      },
      "execution_count": null,
      "outputs": []
    },
    {
      "cell_type": "code",
      "source": [
        "person_1.email = \"magar@knight.com\""
      ],
      "metadata": {
        "colab": {
          "base_uri": "https://localhost:8080/",
          "height": 165
        },
        "id": "UWBUio0ppcx1",
        "outputId": "cf48761d-e3b6-49a2-8e97-e47dfa00b753"
      },
      "execution_count": null,
      "outputs": [
        {
          "output_type": "error",
          "ename": "AttributeError",
          "evalue": "ignored",
          "traceback": [
            "\u001b[0;31m---------------------------------------------------------------------------\u001b[0m",
            "\u001b[0;31mAttributeError\u001b[0m                            Traceback (most recent call last)",
            "\u001b[0;32m<ipython-input-147-d7c980b60d82>\u001b[0m in \u001b[0;36m<module>\u001b[0;34m\u001b[0m\n\u001b[0;32m----> 1\u001b[0;31m \u001b[0mperson_1\u001b[0m\u001b[0;34m.\u001b[0m\u001b[0memail\u001b[0m \u001b[0;34m=\u001b[0m \u001b[0;34m\"magar@knight.com\"\u001b[0m\u001b[0;34m\u001b[0m\u001b[0;34m\u001b[0m\u001b[0m\n\u001b[0m",
            "\u001b[0;31mAttributeError\u001b[0m: can't set attribute"
          ]
        }
      ]
    },
    {
      "cell_type": "code",
      "source": [
        "#we get an error for now we cannot set email form outside\n",
        "#to resolve this we need to use setters\n"
      ],
      "metadata": {
        "id": "_rKNCUg_pkNv"
      },
      "execution_count": null,
      "outputs": []
    },
    {
      "cell_type": "code",
      "source": [
        "#To get email as attribute we need to use @property\n",
        "class Person:\n",
        "  domain = 'Knight'\n",
        "\n",
        "  def __init__(self,first,last):\n",
        "    self.first = first\n",
        "    self.last = last\n",
        "    \n",
        "\n",
        "  @property\n",
        "  def email(self):    \n",
        "    #adding return\n",
        "    return self.last + '@'+self.domain+'.com'\n",
        "\n",
        "  @email.setter\n",
        "  def email(self,email):\n",
        "    last,domain = email.split('@')\n",
        "    domain,_ = domain.split('.')\n",
        "    self.last = last\n",
        "    self.domain = domain\n"
      ],
      "metadata": {
        "id": "hnXmUPo-p9qe"
      },
      "execution_count": null,
      "outputs": []
    },
    {
      "cell_type": "code",
      "source": [
        "person_1 = Person('Ramesh','Chaudhary')\n",
        "print(person_1.first)\n",
        "print(person_1.last)\n",
        "print(person_1.email)"
      ],
      "metadata": {
        "colab": {
          "base_uri": "https://localhost:8080/"
        },
        "id": "GScaOT5crvwx",
        "outputId": "5717443c-9f15-4c03-ce4d-b6f8e0ccf889"
      },
      "execution_count": null,
      "outputs": [
        {
          "output_type": "stream",
          "name": "stdout",
          "text": [
            "Ramesh\n",
            "Chaudhary\n",
            "Chaudhary@Knight.com\n"
          ]
        }
      ]
    },
    {
      "cell_type": "code",
      "source": [
        "person_1.first = \"Suresh\"\n",
        "person_1.last = \"Magar\""
      ],
      "metadata": {
        "id": "L6ofjmLorwTf"
      },
      "execution_count": null,
      "outputs": []
    },
    {
      "cell_type": "code",
      "source": [
        "person_1.email = \"magar@rook.com\""
      ],
      "metadata": {
        "id": "KV8sdXaFr0PA"
      },
      "execution_count": null,
      "outputs": []
    },
    {
      "cell_type": "code",
      "source": [
        "person_1.email"
      ],
      "metadata": {
        "colab": {
          "base_uri": "https://localhost:8080/",
          "height": 35
        },
        "id": "tr4Yycm6r4mU",
        "outputId": "8790b842-b30b-49c1-d19c-ddb15fd9a04b"
      },
      "execution_count": null,
      "outputs": [
        {
          "output_type": "execute_result",
          "data": {
            "text/plain": [
              "'magar@rook.com'"
            ],
            "application/vnd.google.colaboratory.intrinsic+json": {
              "type": "string"
            }
          },
          "metadata": {},
          "execution_count": 165
        }
      ]
    },
    {
      "cell_type": "code",
      "source": [
        "del person_1.email"
      ],
      "metadata": {
        "colab": {
          "base_uri": "https://localhost:8080/",
          "height": 165
        },
        "id": "y61UifYfteYa",
        "outputId": "2379f0ce-92c5-4756-8853-a9d9290bf9c9"
      },
      "execution_count": null,
      "outputs": [
        {
          "output_type": "error",
          "ename": "AttributeError",
          "evalue": "ignored",
          "traceback": [
            "\u001b[0;31m---------------------------------------------------------------------------\u001b[0m",
            "\u001b[0;31mAttributeError\u001b[0m                            Traceback (most recent call last)",
            "\u001b[0;32m<ipython-input-166-2a8f2b3869e6>\u001b[0m in \u001b[0;36m<module>\u001b[0;34m\u001b[0m\n\u001b[0;32m----> 1\u001b[0;31m \u001b[0;32mdel\u001b[0m \u001b[0mperson_1\u001b[0m\u001b[0;34m.\u001b[0m\u001b[0memail\u001b[0m\u001b[0;34m\u001b[0m\u001b[0;34m\u001b[0m\u001b[0m\n\u001b[0m",
            "\u001b[0;31mAttributeError\u001b[0m: can't delete attribute"
          ]
        }
      ]
    },
    {
      "cell_type": "code",
      "source": [
        "del person_1.first"
      ],
      "metadata": {
        "id": "yr88Kds4thb7"
      },
      "execution_count": null,
      "outputs": []
    },
    {
      "cell_type": "code",
      "source": [
        "#deleting attribute\n",
        "#To get email as attribute we need to use @property\n",
        "class Person:\n",
        "  domain = 'Knight'\n",
        "\n",
        "  def __init__(self,first,last):\n",
        "    self.first = first\n",
        "    self.last = last\n",
        "    \n",
        "\n",
        "  @property\n",
        "  def email(self):    \n",
        "    #adding return\n",
        "    return self.last + '@'+self.domain+'.com'\n",
        "\n",
        "  @email.setter\n",
        "  def email(self,email):\n",
        "    last,domain = email.split('@')\n",
        "    domain,_ = domain.split('.')\n",
        "    self.last = last\n",
        "    self.domain = domain\n",
        "\n",
        "  @email.deleter\n",
        "  def email(self):\n",
        "    print(\"Deleting email\")\n",
        "    self.email = None\n",
        "    #self.last = None\n",
        "    #self.domain = None\n"
      ],
      "metadata": {
        "id": "uvvifHP8r68Q"
      },
      "execution_count": null,
      "outputs": []
    },
    {
      "cell_type": "code",
      "source": [
        "person_1 = Person(\"Ramesh\",\"Chaudhary\")"
      ],
      "metadata": {
        "id": "1ijWbG4wtrL0"
      },
      "execution_count": null,
      "outputs": []
    },
    {
      "cell_type": "code",
      "source": [
        "person_1.email"
      ],
      "metadata": {
        "colab": {
          "base_uri": "https://localhost:8080/",
          "height": 35
        },
        "id": "6t3RQPIst1Ji",
        "outputId": "3784b4ca-6cfe-4ffc-9f7a-5054b75a5135"
      },
      "execution_count": null,
      "outputs": [
        {
          "output_type": "execute_result",
          "data": {
            "text/plain": [
              "'Chaudhary@Knight.com'"
            ],
            "application/vnd.google.colaboratory.intrinsic+json": {
              "type": "string"
            }
          },
          "metadata": {},
          "execution_count": 176
        }
      ]
    },
    {
      "cell_type": "code",
      "source": [
        "#This will generate error\n",
        "del person_1.email"
      ],
      "metadata": {
        "colab": {
          "base_uri": "https://localhost:8080/",
          "height": 328
        },
        "id": "Xc9hJSd2t29Z",
        "outputId": "014e36ee-a312-41c3-f995-5ec212cbc1ee"
      },
      "execution_count": null,
      "outputs": [
        {
          "output_type": "stream",
          "name": "stdout",
          "text": [
            "Deleting email\n"
          ]
        },
        {
          "output_type": "error",
          "ename": "AttributeError",
          "evalue": "ignored",
          "traceback": [
            "\u001b[0;31m---------------------------------------------------------------------------\u001b[0m",
            "\u001b[0;31mAttributeError\u001b[0m                            Traceback (most recent call last)",
            "\u001b[0;32m<ipython-input-177-2a8f2b3869e6>\u001b[0m in \u001b[0;36m<module>\u001b[0;34m\u001b[0m\n\u001b[0;32m----> 1\u001b[0;31m \u001b[0;32mdel\u001b[0m \u001b[0mperson_1\u001b[0m\u001b[0;34m.\u001b[0m\u001b[0memail\u001b[0m\u001b[0;34m\u001b[0m\u001b[0;34m\u001b[0m\u001b[0m\n\u001b[0m",
            "\u001b[0;32m<ipython-input-174-d9d4e02910c1>\u001b[0m in \u001b[0;36memail\u001b[0;34m(self)\u001b[0m\n\u001b[1;32m     24\u001b[0m   \u001b[0;32mdef\u001b[0m \u001b[0memail\u001b[0m\u001b[0;34m(\u001b[0m\u001b[0mself\u001b[0m\u001b[0;34m)\u001b[0m\u001b[0;34m:\u001b[0m\u001b[0;34m\u001b[0m\u001b[0;34m\u001b[0m\u001b[0m\n\u001b[1;32m     25\u001b[0m     \u001b[0mprint\u001b[0m\u001b[0;34m(\u001b[0m\u001b[0;34m\"Deleting email\"\u001b[0m\u001b[0;34m)\u001b[0m\u001b[0;34m\u001b[0m\u001b[0;34m\u001b[0m\u001b[0m\n\u001b[0;32m---> 26\u001b[0;31m     \u001b[0mself\u001b[0m\u001b[0;34m.\u001b[0m\u001b[0memail\u001b[0m \u001b[0;34m=\u001b[0m \u001b[0;32mNone\u001b[0m\u001b[0;34m\u001b[0m\u001b[0;34m\u001b[0m\u001b[0m\n\u001b[0m\u001b[1;32m     27\u001b[0m     \u001b[0;31m#self.last = None\u001b[0m\u001b[0;34m\u001b[0m\u001b[0;34m\u001b[0m\u001b[0;34m\u001b[0m\u001b[0m\n\u001b[1;32m     28\u001b[0m     \u001b[0;31m#self.domain = None\u001b[0m\u001b[0;34m\u001b[0m\u001b[0;34m\u001b[0m\u001b[0;34m\u001b[0m\u001b[0m\n",
            "\u001b[0;32m<ipython-input-174-d9d4e02910c1>\u001b[0m in \u001b[0;36memail\u001b[0;34m(self, email)\u001b[0m\n\u001b[1;32m     16\u001b[0m   \u001b[0;34m@\u001b[0m\u001b[0memail\u001b[0m\u001b[0;34m.\u001b[0m\u001b[0msetter\u001b[0m\u001b[0;34m\u001b[0m\u001b[0;34m\u001b[0m\u001b[0m\n\u001b[1;32m     17\u001b[0m   \u001b[0;32mdef\u001b[0m \u001b[0memail\u001b[0m\u001b[0;34m(\u001b[0m\u001b[0mself\u001b[0m\u001b[0;34m,\u001b[0m\u001b[0memail\u001b[0m\u001b[0;34m)\u001b[0m\u001b[0;34m:\u001b[0m\u001b[0;34m\u001b[0m\u001b[0;34m\u001b[0m\u001b[0m\n\u001b[0;32m---> 18\u001b[0;31m     \u001b[0mlast\u001b[0m\u001b[0;34m,\u001b[0m\u001b[0mdomain\u001b[0m \u001b[0;34m=\u001b[0m \u001b[0memail\u001b[0m\u001b[0;34m.\u001b[0m\u001b[0msplit\u001b[0m\u001b[0;34m(\u001b[0m\u001b[0;34m'@'\u001b[0m\u001b[0;34m)\u001b[0m\u001b[0;34m\u001b[0m\u001b[0;34m\u001b[0m\u001b[0m\n\u001b[0m\u001b[1;32m     19\u001b[0m     \u001b[0mdomain\u001b[0m\u001b[0;34m,\u001b[0m\u001b[0m_\u001b[0m \u001b[0;34m=\u001b[0m \u001b[0mdomain\u001b[0m\u001b[0;34m.\u001b[0m\u001b[0msplit\u001b[0m\u001b[0;34m(\u001b[0m\u001b[0;34m'.'\u001b[0m\u001b[0;34m)\u001b[0m\u001b[0;34m\u001b[0m\u001b[0;34m\u001b[0m\u001b[0m\n\u001b[1;32m     20\u001b[0m     \u001b[0mself\u001b[0m\u001b[0;34m.\u001b[0m\u001b[0mlast\u001b[0m \u001b[0;34m=\u001b[0m \u001b[0mlast\u001b[0m\u001b[0;34m\u001b[0m\u001b[0;34m\u001b[0m\u001b[0m\n",
            "\u001b[0;31mAttributeError\u001b[0m: 'NoneType' object has no attribute 'split'"
          ]
        }
      ]
    },
    {
      "cell_type": "code",
      "source": [
        "person_1.last"
      ],
      "metadata": {
        "colab": {
          "base_uri": "https://localhost:8080/",
          "height": 35
        },
        "id": "5X4klZjot_c-",
        "outputId": "2ef99958-b889-4b4c-a87d-cef19c1b68a8"
      },
      "execution_count": null,
      "outputs": [
        {
          "output_type": "execute_result",
          "data": {
            "text/plain": [
              "'Chaudhary'"
            ],
            "application/vnd.google.colaboratory.intrinsic+json": {
              "type": "string"
            }
          },
          "metadata": {},
          "execution_count": 178
        }
      ]
    },
    {
      "cell_type": "code",
      "source": [
        "person_1.first"
      ],
      "metadata": {
        "colab": {
          "base_uri": "https://localhost:8080/",
          "height": 35
        },
        "id": "OwPgdK-6uCwR",
        "outputId": "28b4499f-5f8a-4c9b-ef34-adb9b92c7f51"
      },
      "execution_count": null,
      "outputs": [
        {
          "output_type": "execute_result",
          "data": {
            "text/plain": [
              "'Ramesh'"
            ],
            "application/vnd.google.colaboratory.intrinsic+json": {
              "type": "string"
            }
          },
          "metadata": {},
          "execution_count": 179
        }
      ]
    },
    {
      "cell_type": "code",
      "source": [
        "#deleting attribute\n",
        "#To get email as attribute we need to use @property\n",
        "class Person:\n",
        "  domain = 'Knight'\n",
        "\n",
        "  def __init__(self,first,last):\n",
        "    self.first = first\n",
        "    self.last = last\n",
        "    \n",
        "\n",
        "  @property\n",
        "  def email(self):    \n",
        "    #adding return\n",
        "    return self.last + '@'+self.domain+'.com'\n",
        "\n",
        "  @email.setter\n",
        "  def email(self,email):\n",
        "    last,domain = email.split('@')\n",
        "    domain,_ = domain.split('.')\n",
        "    self.last = last\n",
        "    self.domain = domain\n",
        "\n",
        "  @email.deleter\n",
        "  def email(self):\n",
        "    print(\"Deleting email\")\n",
        "    self.last = None\n",
        "    self.domain = None\n"
      ],
      "metadata": {
        "id": "0hPWU7TWuFXg"
      },
      "execution_count": null,
      "outputs": []
    },
    {
      "cell_type": "code",
      "source": [
        "person_1 = Person(\"Ramesh\",\"Chaudhary\")\n",
        "person_1.email"
      ],
      "metadata": {
        "colab": {
          "base_uri": "https://localhost:8080/",
          "height": 35
        },
        "id": "pGw2dQKEuZTn",
        "outputId": "2db026bd-e3df-44b1-e0c0-621dcdd64d09"
      },
      "execution_count": null,
      "outputs": [
        {
          "output_type": "execute_result",
          "data": {
            "text/plain": [
              "'Chaudhary@Knight.com'"
            ],
            "application/vnd.google.colaboratory.intrinsic+json": {
              "type": "string"
            }
          },
          "metadata": {},
          "execution_count": 181
        }
      ]
    },
    {
      "cell_type": "code",
      "source": [
        "del person_1.email"
      ],
      "metadata": {
        "colab": {
          "base_uri": "https://localhost:8080/"
        },
        "id": "cA7_K5_NugDA",
        "outputId": "929421be-ec9e-45de-9c3f-ea4ea9a530f5"
      },
      "execution_count": null,
      "outputs": [
        {
          "output_type": "stream",
          "name": "stdout",
          "text": [
            "Deleting email\n"
          ]
        }
      ]
    },
    {
      "cell_type": "markdown",
      "source": [
        "#Inspecting an Object"
      ],
      "metadata": {
        "id": "wVH_o8b4xkE-"
      }
    },
    {
      "cell_type": "code",
      "source": [
        "class Person:\n",
        "  domain = 'Knight'\n",
        "\n",
        "  def __init__(self,first,last):\n",
        "    self.first = first\n",
        "    self.last = last\n",
        "    \n",
        "\n",
        "  def email(self):\n",
        "    self.email = self.last + '@'+ self.domain+'.com'\n",
        "    print(self.email)"
      ],
      "metadata": {
        "id": "6xztKYZsxjiM"
      },
      "execution_count": null,
      "outputs": []
    },
    {
      "cell_type": "code",
      "source": [
        "person_1 = Person(\"Ramesh\",\"Chaudhary\")"
      ],
      "metadata": {
        "id": "YVemJBuQZ4dV"
      },
      "execution_count": null,
      "outputs": []
    },
    {
      "cell_type": "markdown",
      "source": [
        "We can check what properties are defined on an object using the dir  function"
      ],
      "metadata": {
        "id": "zM9k9GmPaUnL"
      }
    },
    {
      "cell_type": "code",
      "source": [
        "print(dir(person_1))"
      ],
      "metadata": {
        "colab": {
          "base_uri": "https://localhost:8080/"
        },
        "id": "GDcKvrhaaFgQ",
        "outputId": "7cc0e7c2-3ba5-471c-992c-911fce86835c"
      },
      "execution_count": null,
      "outputs": [
        {
          "output_type": "stream",
          "name": "stdout",
          "text": [
            "['__class__', '__delattr__', '__dict__', '__dir__', '__doc__', '__eq__', '__format__', '__ge__', '__getattribute__', '__gt__', '__hash__', '__init__', '__init_subclass__', '__le__', '__lt__', '__module__', '__ne__', '__new__', '__reduce__', '__reduce_ex__', '__repr__', '__setattr__', '__sizeof__', '__str__', '__subclasshook__', '__weakref__', 'domain', 'email', 'first', 'last']\n"
          ]
        }
      ]
    },
    {
      "cell_type": "code",
      "source": [
        "#Now we can see our attributes and our method\n",
        "#we also see lots of other stuff\n",
        "#In Python any class that we define has object as its parent class \n",
        "#even if we do not explicitly so \n",
        "#so our class will have a lot of default attributes and methods that any Python object has"
      ],
      "metadata": {
        "id": "00ljm4pFaIQZ"
      },
      "execution_count": null,
      "outputs": []
    },
    {
      "cell_type": "code",
      "source": [
        "help(person_1)"
      ],
      "metadata": {
        "colab": {
          "base_uri": "https://localhost:8080/"
        },
        "id": "8-yZAn4Qxrmt",
        "outputId": "73e803e4-4886-4cbc-8b73-c5744852f431"
      },
      "execution_count": null,
      "outputs": [
        {
          "output_type": "stream",
          "name": "stdout",
          "text": [
            "Help on Person in module __main__ object:\n",
            "\n",
            "class Person(builtins.object)\n",
            " |  Person(first, last)\n",
            " |  \n",
            " |  Methods defined here:\n",
            " |  \n",
            " |  __init__(self, first, last)\n",
            " |      Initialize self.  See help(type(self)) for accurate signature.\n",
            " |  \n",
            " |  email(self)\n",
            " |  \n",
            " |  ----------------------------------------------------------------------\n",
            " |  Data descriptors defined here:\n",
            " |  \n",
            " |  __dict__\n",
            " |      dictionary for instance variables (if defined)\n",
            " |  \n",
            " |  __weakref__\n",
            " |      list of weak references to the object (if defined)\n",
            " |  \n",
            " |  ----------------------------------------------------------------------\n",
            " |  Data and other attributes defined here:\n",
            " |  \n",
            " |  domain = 'Knight'\n",
            "\n"
          ]
        }
      ]
    },
    {
      "cell_type": "code",
      "source": [],
      "metadata": {
        "id": "nVf1mb6nxulQ"
      },
      "execution_count": null,
      "outputs": []
    }
  ]
}